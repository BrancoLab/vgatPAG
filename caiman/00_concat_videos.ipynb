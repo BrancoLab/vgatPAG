{
 "cells": [
  {
   "cell_type": "markdown",
   "metadata": {},
   "source": [
    "# Concatenate videos\n",
    "This notebook takes care of concatenating a bunch of .tif files with doric recordings from an experiment. Additionally it will do flat field subtraction from the concatenated video.\n",
    "It will was both the raw and ffsub videos as .tif files"
   ]
  },
  {
   "cell_type": "code",
   "execution_count": null,
   "metadata": {},
   "outputs": [],
   "source": [
    "import matplotlib.pyplot as plt\n",
    "import numpy as np\n",
    "from os import listdir\n",
    "from os.path import join, splitext\n",
    "import cv2\n",
    "import re\n",
    "import caiman as cm"
   ]
  },
  {
   "cell_type": "markdown",
   "metadata": {},
   "source": [
    "## Get list of files\n",
    "Define the base directory that contains your source files. We use *Regular Expressions* to filter the files within this directory: only files ending in '_dX.tif' (where X is a number) will be processed. This pattern should match your full resolution files coming from the camera. We'll also want to correctly sort the list of files."
   ]
  },
  {
   "cell_type": "code",
   "execution_count": null,
   "metadata": {},
   "outputs": [],
   "source": [
    "# Get the videos in the data folder\n",
    "data_fld = \"D:\\\\Dropbox (UCL - SWC)\\\\Project_vgatPAG\\\\analysis\\\\doric\\\\BF164p1\\\\19JUN05\"\n",
    "\n",
    "# TODO add ouput folder\n",
    "raise NotImplementedError\n",
    "\n",
    "regex     = re.compile(r'.*_d\\d+.tif$')\n",
    "files_in  = list(filter(regex.search, listdir(data_fld)))\n",
    "files_in.sort(key=lambda x: int(re.search('.*_d(\\d+?).tif$', x).group(1)))\n",
    "print(*files_in, sep = \"\\n\") "
   ]
  },
  {
   "cell_type": "code",
   "execution_count": null,
   "metadata": {},
   "outputs": [],
   "source": [
    "data_fld = \"D:\\\\Dropbox (UCL - SWC)\\\\Project_vgatPAG\\\\analysis\\\\doric\\\\BF164p2\\\\19JUN26\"\n",
    "\n",
    "files_in = ['19JUN26_BF164p2_fullres.tif']"
   ]
  },
  {
   "cell_type": "markdown",
   "metadata": {},
   "source": [
    "## Load, scale and concatenate files\n"
   ]
  },
  {
   "cell_type": "code",
   "execution_count": null,
   "metadata": {},
   "outputs": [],
   "source": [
    "scale     = .5 # normally it's .2\n",
    "framerate = 10\n",
    "movies    = []\n",
    "for f in files_in:\n",
    "    movies.append(cm.load(join(data_fld,f), fr=framerate).resize(scale,scale,1))\n",
    "movie     = cm.concatenate(movies, axis=0)\n",
    "\n",
    "# start and end framenumbers for later use\n",
    "frames1   = np.cumsum([m.shape[0] for m in movies])\n",
    "frames0   = np.append(0,frames1[0:-1]) + 1\n",
    "\n",
    "# free some memory ...\n",
    "del movies"
   ]
  },
  {
   "cell_type": "markdown",
   "metadata": {},
   "source": [
    "## Flat-field correction\n",
    "To obtain an estimate of the movie's flat-field, we first calculate the average intensity across time. We then apply a gaussian blur to the resulting image. Finally, the flat-field is centered around zero by substracting its mean.\n",
    "\n",
    "The flat-field image will be *substracted* from all frames of the movie.\n",
    "\n",
    "Refer to: https://imagej.net/Image_Intensity_Processing#Pseudo-correction"
   ]
  },
  {
   "cell_type": "code",
   "execution_count": null,
   "metadata": {},
   "outputs": [],
   "source": [
    "sigma      = 75, # was 25 for downsampled movies\n",
    "sigma      = int(np.ceil(sigma) // 2 * 2 + 1)\n",
    "average    = np.mean(movie, axis=0)\n",
    "flat_field = cv2.GaussianBlur(average,(sigma,sigma),0)\n",
    "\n",
    "norm_by = \"subtraction\"\n",
    "\n",
    "if norm_by == \"subtraction\":\n",
    "    '''movie_fcc by subtraction'''\n",
    "    flat_field = flat_field - flat_field.mean()\n",
    "    movie_fcc  = movie - flat_field\n",
    "elif norm_by == \"division\":\n",
    "    '''movie_fcc by division'''\n",
    "    movie_fcc  = movie / flat_field\n",
    "    movie_fcc  = movie_fcc * movie.mean()\n",
    "else:\n",
    "    raise ValueError(\"Invalid norm by argument\")\n",
    "\n",
    "\n",
    "# Visualise the effect of the normalization\n",
    "fig, axes  = plt.subplots(nrows=1, ncols=3, figsize=(15,15))\n",
    "axes[0].imshow(movie[1], cmap='gray', vmin=movie[1].min(), vmax=movie[1].max())\n",
    "axes[0].set_title('first frame')\n",
    "axes[1].imshow(flat_field, cmap='gray')\n",
    "axes[1].set_title('flat-field')\n",
    "axes[2].imshow(movie_fcc[1], cmap='gray', vmin=movie[1].min(), vmax=movie[1].max())\n",
    "axes[2].set_title('first frame (flat-field corrected)')"
   ]
  },
  {
   "cell_type": "code",
   "execution_count": null,
   "metadata": {},
   "outputs": [],
   "source": [
    "movie_fcc.save(join(data_fld, '19JUN26_BF164p2_halfres_ffcSub' + '.tif'))\n"
   ]
  },
  {
   "cell_type": "markdown",
   "metadata": {},
   "source": [
    "## Save processed movie to TIF, write indices to npy\n",
    "\n",
    "Save the concatenated videos and the length of each original video "
   ]
  },
  {
   "cell_type": "code",
   "execution_count": null,
   "metadata": {},
   "outputs": [],
   "source": [
    "file_out = re.search('(.*?)_d\\d+.tif$', files_in[1]).group(1) + '_ds{}_ffc'.format(movie.shape[1])\n",
    "movie_fcc.save(join(data_fld,file_out + '.tif'))\n",
    "print(f\"Saving ffcsub video at: {join(dir_base,file_out + '.tif')}\")\n",
    "\n",
    "\n",
    "file_out2 = re.search('(.*?)_d\\d+.tif$', files_in[1]).group(1) + '_ds{}_raw'.format(movie.shape[1])\n",
    "movie.save(join(data_fld,file_out2 + '.tif'))\n",
    "print(f\"Saving raw video at: {join(dir_base,file_out2 + '.tif')}\")\n",
    "\n",
    "#save tiff lengths\n",
    "np.save(join(data_fld,file_out + '_tifflengths.npy'),frames1)"
   ]
  }
 ],
 "metadata": {
  "file_extension": ".py",
  "kernelspec": {
   "display_name": "Python 3.6.10 64-bit ('cai': conda)",
   "language": "python",
   "name": "python361064bitcaiconda8c51914467a4460685b7f212a4ce3dd5"
  },
  "language_info": {
   "codemirror_mode": {
    "name": "ipython",
    "version": 3
   },
   "file_extension": ".py",
   "mimetype": "text/x-python",
   "name": "python",
   "nbconvert_exporter": "python",
   "pygments_lexer": "ipython3",
   "version": "3.6.4"
  },
  "mimetype": "text/x-python",
  "name": "python",
  "npconvert_exporter": "python",
  "pygments_lexer": "ipython3",
  "version": 3
 },
 "nbformat": 4,
 "nbformat_minor": 2
}
