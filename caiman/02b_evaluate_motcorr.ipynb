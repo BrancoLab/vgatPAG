{
 "nbformat": 4,
 "nbformat_minor": 2,
 "metadata": {
  "language_info": {
   "name": "python",
   "codemirror_mode": {
    "name": "ipython",
    "version": 3
   },
   "version": "3.6.4-final"
  },
  "orig_nbformat": 2,
  "file_extension": ".py",
  "mimetype": "text/x-python",
  "name": "python",
  "npconvert_exporter": "python",
  "pygments_lexer": "ipython3",
  "version": 3,
  "kernelspec": {
   "name": "python361064bitcaiconda8c51914467a4460685b7f212a4ce3dd5",
   "display_name": "Python 3.6.10 64-bit ('cai': conda)"
  }
 },
 "cells": [
  {
   "cell_type": "markdown",
   "metadata": {},
   "source": [
    "# Evaluate motion correction\n",
    "Compute metrics to evaluate the quality of the motion correction "
   ],
   "execution_count": null,
   "outputs": []
  },
  {
   "cell_type": "code",
   "execution_count": null,
   "metadata": {},
   "outputs": [],
   "source": [
    "try:\n",
    "    get_ipython().magic(u'load_ext autoreload')\n",
    "    get_ipython().magic(u'autoreload 2')\n",
    "    get_ipython().magic(u'matplotlib qt')\n",
    "except:\n",
    "    pass\n",
    "\n",
    "import matplotlib.pyplot as plt\n",
    "import numpy as np\n",
    "import os\n",
    "import pathlib\n",
    "from shutil import copyfile\n",
    "\n",
    "import caiman as cm\n",
    "from caiman.utils.visualization import inspect_correlation_pnr\n",
    "from caiman.motion_correction import compute_metrics_motion_correction\n",
    "\n",
    "import logging\n",
    "from fancylog import fancylog\n",
    "import fancylog as package\n",
    "\n",
    "\n",
    "try:\n",
    "    cv2.setNumThreads(0)\n",
    "except:\n",
    "    pass\n",
    "\n",
    "from fcutils.file_io.io import load_yaml\n",
    "from fcutils.file_io.utils import check_create_folder, get_file_name, check_file_exists\n",
    "from fcutils.plotting.utils import clean_axes, save_figure, add_colorbar_to_img\n",
    "from fcutils.plotting.colors import *\n",
    "\n",
    "from movie_visualizer import compare_videos\n",
    "from utils import load_mmap_video_caiman"
   ]
  },
  {
   "cell_type": "markdown",
   "metadata": {},
   "source": [
    "## Get files and metadata\n",
    "\n",
    "The evaluation of MC is based on 3 videos:\n",
    "\n",
    "- raw (ffcsub) vide\n",
    "- raw with rigid MC \n",
    "- raw with piece wise MC\n",
    "\n",
    "Note that the shifts for the motion correction are computed on transformed and normalized video, but they're then used to correct the raw video. \n",
    "This allows us to estimate the quality of the motion correction without worrying about how the normalization altered the values in the videos (which would throw off some of the metrics used here)"
   ],
   "execution_count": null,
   "outputs": []
  },
  {
   "cell_type": "code",
   "execution_count": null,
   "metadata": {},
   "outputs": [],
   "source": [
    "fld = 'D:\\\\Dropbox (UCL - SWC)\\\\Project_vgatPAG\\\\analysis\\\\doric\\\\BF164p2\\\\19JUN26' # <- which folder/recording we are working on\n",
    "metadata = load_yaml(os.path.join(fld, \"01_PARAMS\", \"analysis_metadata.yml\"))\n",
    "output_fld = os.path.join(fld, metadata['outputfld']) # plots and other stuff will be saved here\n",
    "\n",
    "# Setup logging\n",
    "logging_file = fancylog.start_logging(os.path.join(fld, \"02_LOGS\"), package, file_log_level=\"INFO\", verbose=False, filename='motion_correction_evaluation_logs')\n",
    "\n",
    "logging.info(\"ANALYSIS METADATA FILE:\")\n",
    "for k,v in metadata.items():\n",
    "    logging.info(f\"{k}:  {v}\")\n",
    "logging.info(f\"Output folder: {output_fld}\")\n",
    "\n",
    "# Get paths to videos\n",
    "paths_file = os.path.join(output_fld, \"video_paths.yml\")\n",
    "check_file_exists(paths_file, raise_error=True)\n",
    "video_paths = load_yaml(paths_file)\n",
    "logging.info(f\"Video paths: {video_paths}\")\n",
    ""
   ]
  },
  {
   "cell_type": "markdown",
   "metadata": {},
   "source": [
    "## Inspect videos\n",
    "Use this code to look at the videos side by side. "
   ],
   "execution_count": null,
   "outputs": []
  },
  {
   "cell_type": "code",
   "execution_count": null,
   "metadata": {},
   "outputs": [],
   "source": [
    "# If this throws a runtime error just run the cell again\n",
    "compare_videos(raw = video_paths['raw'], rigid=video_paths['raw_rig_mc'], pw=video_paths['raw_pw_mc'])"
   ]
  },
  {
   "cell_type": "markdown",
   "metadata": {},
   "source": [
    "## Compute quality metrics\n",
    "\n",
    "### Correlation\n",
    "Look at the correlation between each frame and a reference frame (e.g. avg frame across entire video). If the motion correction worked, the correlation of the motion corrected frames should be higher than that of the raw frame (if stuff moves frames wont't be correlated). This metric is in part influenced by neural activity but not too much. \n",
    "\n",
    "### Crispness\n",
    "Another metric is cripsness. If the motion correction worked. The average frame should be crisper (less blurry). \n",
    "\n",
    "### Optic flow\n",
    "Finally the last metric checks the optic flow across the video. If the video has been correctly motion corrected, the residual optic flow should be minimal. "
   ],
   "execution_count": null,
   "outputs": []
  },
  {
   "cell_type": "code",
   "execution_count": null,
   "metadata": {},
   "outputs": [],
   "source": [
    "# compute metrics for the results (takes ~5 mins)\n",
    "Yr, dims, T, images = load_mmap_video_caiman(video_paths['raw_rig_mc'])\n",
    "winsize = 100\n",
    "swap_dim = False\n",
    "resize_fact_flow = .2    # downsample for computing ROF\n",
    "\n",
    "logging.info(\"Computing quality metrics\")\n",
    "\n",
    "args = [dims[0], dims[1], swap_dim]\n",
    "kwargs = dict(winsize=winsize, play_flow=False, resize_fact_flow=resize_fact_flow)\n",
    "\n",
    "# Compute for raw video\n",
    "tmpl_orig, correlations_orig, flows_orig, norms_orig, crispness_orig = compute_metrics_motion_correction(video_paths['raw'], *args, **kwargs)\n",
    "\n",
    "# Compute for rigid MC\n",
    "tmpl_rig, correlations_rig, flows_rig, norms_rig, crispness_rig = compute_metrics_motion_correction(video_paths['raw_rig_mc'], *args, **kwargs)\n",
    "\n",
    "# Compute for piecewise MC\n",
    "tmpl_els, correlations_els, flows_els, norms_els, crispness_els = compute_metrics_motion_correction(video_paths['raw_pw_mc'], *args, **kwargs)"
   ]
  },
  {
   "cell_type": "code",
   "execution_count": null,
   "metadata": {},
   "outputs": [],
   "source": [
    "# Copy metric files to the output directory\n",
    "ttles = [\"raw\", \"rigid\", \"piecewise\"]\n",
    "files = [video_paths['raw'], video_paths['raw_rig_mc'], video_paths['raw_pw_mc']]\n",
    "metric_files = [os.path.join(fld, get_file_name(f)+\"._metrics.npz\") for f in files]\n",
    "\n",
    "_metric_files = []\n",
    "for f in metric_files:\n",
    "    if not os.path.isfile(f):\n",
    "        f = f.replace(\"._metrics.npz\", \"_metrics.npz\")\n",
    "    _metric_files.append(f)\n",
    "\n",
    "dests = [os.path.join(os.path.split(f)[0], output_fld, os.path.split(f)[1]) for f in _metric_files]\n",
    "\n",
    "for src, dest in zip(_metric_files, dests):\n",
    "    copyfile(src, dest)"
   ]
  },
  {
   "cell_type": "markdown",
   "metadata": {},
   "source": [
    "## Plot quality metrics\n",
    "\n",
    "### Correlation"
   ],
   "execution_count": null,
   "outputs": []
  },
  {
   "cell_type": "code",
   "execution_count": null,
   "metadata": {},
   "outputs": [],
   "source": [
    "# Plot correlation with mean frame\n",
    "f = plt.figure(figsize = (20,10))\n",
    "\n",
    "# Plot correlation to mean frame for all frames\n",
    "ax = plt.subplot(211)\n",
    "ax.plot(correlations_orig, color=goldenrod, label=\"original\", lw=3, alpha=1)\n",
    "ax.plot(correlations_rig, color=darkseagreen, label=\"rigid\", lw=2, alpha=.8)\n",
    "ax.plot(correlations_els, color=salmon, label=\"piecewise\", lw=2, alpha=.6)\n",
    "ax.set(title=\"Frame by frame correlation to mean frame\", xlabel=\"frame\", ylabel=\"correlation\", ylim=[0, 1])\n",
    "ax.legend()\n",
    "\n",
    "# Plot original vs rigid correlation\n",
    "ax = plt.subplot(234)\n",
    "ax.scatter(correlations_orig, correlations_rig, color=darkseagreen, alpha=.3)\n",
    "ax.plot([0, 1], [0, 1], '--', lw=2, alpha=.8, color=[.4, .4, .4])\n",
    "ax.set(xlabel=\"original\", ylabel=\"rigid\",\n",
    "            xlim=[.3, .7], ylim=[.3, .7])\n",
    "ax.axis('square')\n",
    "\n",
    "# Plot original vs piecewise\n",
    "ax = plt.subplot(235)\n",
    "ax.scatter(correlations_orig, correlations_els, color=salmon, alpha=.3)\n",
    "ax.plot([0, 1], [0, 1], '--', lw=2, alpha=.8, color=[.4, .4, .4])\n",
    "ax.set(xlabel=\"original\", ylabel=\"piecewise\",\n",
    "            xlim=[.3, .7], ylim=[.3, .7])\n",
    "_ = ax.axis('square')\n",
    "\n",
    "\n",
    "# Plot rigid vs piecewise\n",
    "ax = plt.subplot(236)\n",
    "ax.scatter(correlations_rig, correlations_els, color=blackboard, alpha=.3)\n",
    "ax.plot([0, 1], [0, 1], '--', lw=2, alpha=.8, color=[.4, .4, .4])\n",
    "ax.set(xlabel=\"rigid\", ylabel=\"piecewise\",\n",
    "            xlim=[.3, .7], ylim=[.3, .7])\n",
    "_ = ax.axis('square')\n",
    "\n",
    "# save\n",
    "clean_axes(f)\n",
    "save_figure(f, os.path.join(output_fld, \"frames_correlation_to_reference\"))"
   ]
  },
  {
   "cell_type": "markdown",
   "metadata": {},
   "source": [
    "### Crispness"
   ],
   "execution_count": null,
   "outputs": []
  },
  {
   "cell_type": "code",
   "execution_count": null,
   "metadata": {},
   "outputs": [],
   "source": [
    "# print crispness values\n",
    "msg = f\"Crispness:\\n  original: {int(crispness_orig)}\\n  rigid:  {int(crispness_rig)}\\n  piecewise: {int(crispness_els)}\"\n",
    "logging.info(msg)\n",
    "\n",
    "\n",
    ""
   ]
  },
  {
   "cell_type": "markdown",
   "metadata": {},
   "source": [
    "### Optic flow"
   ],
   "execution_count": null,
   "outputs": []
  },
  {
   "cell_type": "code",
   "execution_count": null,
   "metadata": {},
   "outputs": [],
   "source": [
    "# plot the results of Residual Optical Flow\n",
    "f, axarr = plt.subplots(figsize = (20,10), ncols=2, nrows=3)\n",
    "\n",
    "for i, (fl, ttl) in enumerate(zip(dests, ttles)):\n",
    "    if not os.path.isfile(fl):\n",
    "        raise ValueError\n",
    "    else:\n",
    "        ld = np.load(fl)\n",
    "        \n",
    "    if fl.endswith(\"mmap\"):\n",
    "        mean_img = np.mean(cm.load(fl[:-12] + 'mmap'), 0)[12:-12, 12:-12]\n",
    "    else:\n",
    "        mean_img = np.mean(cm.load(video_paths['raw']), 0)[12:-12, 12:-12]\n",
    "\n",
    "\n",
    "    lq, hq = np.nanpercentile(mean_img, [.5, 99.5])\n",
    "\n",
    "    axarr[i, 0].imshow(mean_img, vmin=lq, vmax=hq)\n",
    "    axarr[i, 0].set(title=\"Mean image \" + ttl)\n",
    "\n",
    "    flows = ld['flows']\n",
    "    img = axarr[i, 1].imshow(np.mean(np.sqrt(flows[:, :, :, 0]**2 + flows[:, :, :, 1]**2), 0))\n",
    "    add_colorbar_to_img(img, axarr[i, 1], f)\n",
    "\n",
    "    axarr[i, 1].set(title=\"mean optical flow \" + ttl)\n",
    "\n",
    "# save\n",
    "f.tight_layout()\n",
    "clean_axes(f)\n",
    "save_figure(f, os.path.join(output_fld, \"optic_flow_summary\"))"
   ]
  },
  {
   "cell_type": "markdown",
   "metadata": {},
   "source": [
    "### Save residual optic flow for each condition\n",
    "This is used to later on plot the components found by CNMF-E over the residual optic flow to exclud components in poorly motion corrected parts of the frame"
   ],
   "execution_count": null,
   "outputs": []
  },
  {
   "cell_type": "code",
   "execution_count": null,
   "metadata": {},
   "outputs": [],
   "source": [
    "# Save the average residual flow for each condition as an image\n",
    "cmap = \"viridis\"\n",
    "\n",
    "for fl, ttl in zip(dests, ttles):\n",
    "    ld = np.load(fl)\n",
    "    mean_flow = np.mean(np.sqrt(ld['flows'][:, :, :, 0]**2 + ld['flows'][:, :, :, 1]**2), 0)\n",
    "\n",
    "    save_path = os.path.join(output_fld, f\"residual_opticflow_{ttl}\")\n",
    "\n",
    "    plt.imsave(save_path, mean_flow, cmap=cmap)\n",
    "    np.save(save_path+\".npy\", mean_flow)\n",
    "\n",
    "    logging.info(f\"Saving residual optic flow for {ttl} at: {save_path}\")\n",
    ""
   ]
  },
  {
   "cell_type": "code",
   "execution_count": null,
   "metadata": {},
   "outputs": [],
   "source": []
  }
 ]
}