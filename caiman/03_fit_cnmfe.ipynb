{
 "cells": [
  {
   "cell_type": "code",
   "execution_count": null,
   "metadata": {},
   "outputs": [],
   "source": [
    "try:\n",
    "    get_ipython().magic(u'load_ext autoreload')\n",
    "    get_ipython().magic(u'autoreload 2')\n",
    "    get_ipython().magic(u'matplotlib qt')\n",
    "except:\n",
    "    pass\n",
    "\n",
    "import matplotlib.pyplot as plt\n",
    "import numpy as np\n",
    "import os\n",
    "\n",
    "\n",
    "import logging\n",
    "from fancylog import fancylog\n",
    "import fancylog as package\n",
    "\n",
    "\n",
    "import caiman as cm\n",
    "from caiman.source_extraction import cnmf\n",
    "from caiman.utils.utils import download_demo\n",
    "from caiman.utils.visualization import inspect_correlation_pnr\n",
    "from caiman.source_extraction.cnmf import params as params\n",
    "from caiman.utils.visualization import plot_contours, nb_view_patches, nb_plot_contour\n",
    "import cv2\n",
    "\n",
    "\n",
    "try:\n",
    "    cv2.setNumThreads(0)\n",
    "except:\n",
    "    pass\n",
    "import bokeh.plotting as bpl\n",
    "\n",
    "from fcutils.file_io.io import load_yaml\n",
    "\n",
    "from utils import start_server, load_params, add_to_params_dict\n",
    "from utils import print_cnmfe_components, log_cnmfe_components, load_mmap_video_caiman\n",
    "\n",
    "bpl.output_notebook()\n",
    "c, dview, n_processes = start_server()"
   ]
  },
  {
   "cell_type": "markdown",
   "metadata": {},
   "source": [
    "## Load analysis metadata"
   ]
  },
  {
   "cell_type": "code",
   "execution_count": null,
   "metadata": {},
   "outputs": [],
   "source": [
    "#Paths to motion corrected files\n",
    "fld = 'D:\\\\Dropbox (UCL - SWC)\\\\Project_vgatPAG\\\\analysis\\\\doric\\\\BF164p2\\\\19JUN26'\n",
    "metadata = load_yaml(os.path.join(fld, \"01_PARAMS\", \"analysis_metadata.yml\"))\n",
    "video = os.path.join(fld, metadata[metadata['video_for_cnmfe_fit']])\n",
    "\n",
    "if not os.path.isfile(video):\n",
    "    raise FileExistsError(f\"The video file speicfied does not exist: {video}\")"
   ]
  },
  {
   "cell_type": "markdown",
   "metadata": {},
   "source": [
    "## CNMF-E params"
   ]
  },
  {
   "cell_type": "code",
   "execution_count": null,
   "metadata": {},
   "outputs": [],
   "source": [
    "# dataset dependent parameters\n",
    "frate = 10.                       # movie frame rate\n",
    "decay_time = 2.              # length of a typical transient in seconds\n",
    "\n",
    "\n",
    "# parameters for source extraction and deconvolution\n",
    "prms = load_params(fld)\n",
    "prms['init_params'] = add_to_params_dict(prms['init_params'],  fr=frate, decay_time=decay_time)\n",
    "opts = params.CNMFParams()\n",
    "\n",
    "for k,v in prms.items():\n",
    "    opts.change_params(params_dict=v)     \n",
    "\n",
    "# Start logging\n",
    "fancylog.start_logging(os.path.join(fld, \"02_LOGS\"), package, file_log_level=\"INFO\", variables=[opts], verbose=True,    filename='cnmfe_fit_logs')\n",
    "logging.info(\"Starting CNMF-E fit\")\n",
    "\n",
    "# Add analysis metadata to log\n",
    "logging.info(\"ANALYSIS METADATA FILE:\")\n",
    "for k,v in metadata.items():\n",
    "    logging.info(f\"{k}:  {v}\")\n",
    "logging.info(f\"Video used for CNMF-E fitting: {metadata['video_for_cnmfe_fit']}: {video}\")"
   ]
  },
  {
   "cell_type": "markdown",
   "metadata": {},
   "source": [
    "## Load video and visualise summary frames\n",
    "use the summary frames to choose values for min_corr and min_pnr values in the parameters"
   ]
  },
  {
   "cell_type": "code",
   "execution_count": null,
   "metadata": {},
   "outputs": [],
   "source": [
    "# Load memmapped video\n",
    "Yr, dims, T, images = load_mmap_video_caiman(video)\n",
    "\n",
    "# Show the average background\n",
    "f, axarr = plt.subplots(ncols=2, nrows=1, figsize=(10, 5))\n",
    "axarr[0].imshow(images[1000, :, :], cmap=\"gray\")\n",
    "_ = axarr[1].imshow(np.median(images, axis=0), cmap=\"gray\")\n",
    "\n",
    "# compute some summary images (correlation and peak to noisae)\n",
    "cn_filter, pnr = cm.summary_images.correlation_pnr(images, gSig=opts.init['gSig'][0], swap_dim=False) \n",
    "\n",
    "# inspect the summary images and set the parameters [use this to fine min_corr or min_pnr tune params]\n",
    "inspect_correlation_pnr(cn_filter, pnr)"
   ]
  },
  {
   "cell_type": "markdown",
   "metadata": {},
   "source": [
    "### Fit CNMF-E\n",
    "The cn_filter and pnr images that you can inspect with the code in the previous cell can be used to define threshold for fitting and evaluating CNMF-E. Just make sure to add the values to the params file, then restart the kernel and restart from the top. "
   ]
  },
  {
   "cell_type": "code",
   "execution_count": null,
   "metadata": {},
   "outputs": [],
   "source": [
    "# Update params in case min_corr or min_pnr where changed after inspection\n",
    "_params = load_params(fld)['init_params']\n",
    "opts.change_params(params_dict=_params)\n",
    "logging.info(f\"Update init params with param dict: {_params}\")\n",
    ""
   ]
  },
  {
   "cell_type": "code",
   "execution_count": null,
   "metadata": {},
   "outputs": [],
   "source": [
    "logging.info(\"CNMF-E starting fitting\")\n",
    "Ain = None\n",
    "cnm = cnmf.CNMF(n_processes=n_processes, dview=dview, Ain=Ain, params=opts)\n",
    "cnm.fit(images)\n",
    "\n",
    "logging.info(\"CNMF-E fitting completed\")"
   ]
  },
  {
   "cell_type": "markdown",
   "metadata": {},
   "source": [
    "## Save CNMF_E"
   ]
  },
  {
   "cell_type": "code",
   "execution_count": null,
   "metadata": {},
   "outputs": [],
   "source": [
    "# How many components were found?\n",
    "print_cnmfe_components(cnm, msg=\"After fitting\")\n",
    "log_cnmfe_components(cnm,  msg=\"After fitting\")\n",
    "\n",
    "# Save model for future use\n",
    "model_path = os.path.join(fld, \"cnmfe_fit.hdf5\")\n",
    "cnm.save(model_path)\n",
    "logging.info(f\"Saved CNMF-E model at {model_path}\")"
   ]
  },
  {
   "cell_type": "code",
   "execution_count": null,
   "metadata": {},
   "outputs": [],
   "source": []
  }
 ],
 "metadata": {
  "file_extension": ".py",
  "kernelspec": {
   "display_name": "Python 3.6.10 64-bit ('cai': conda)",
   "language": "python",
   "name": "python361064bitcaiconda8c51914467a4460685b7f212a4ce3dd5"
  },
  "language_info": {
   "codemirror_mode": {
    "name": "ipython",
    "version": 3
   },
   "file_extension": ".py",
   "mimetype": "text/x-python",
   "name": "python",
   "nbconvert_exporter": "python",
   "pygments_lexer": "ipython3",
   "version": "3.6.4-final"
  },
  "mimetype": "text/x-python",
  "name": "python",
  "npconvert_exporter": "python",
  "pygments_lexer": "ipython3",
  "version": 3
 },
 "nbformat": 4,
 "nbformat_minor": 2
}