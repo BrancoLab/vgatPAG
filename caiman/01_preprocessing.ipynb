{
 "nbformat": 4,
 "nbformat_minor": 2,
 "metadata": {
  "language_info": {
   "name": "python",
   "codemirror_mode": {
    "name": "ipython",
    "version": 3
   },
   "version": "3.6.4-final"
  },
  "orig_nbformat": 2,
  "file_extension": ".py",
  "mimetype": "text/x-python",
  "name": "python",
  "npconvert_exporter": "python",
  "pygments_lexer": "ipython3",
  "version": 3,
  "kernelspec": {
   "name": "python361064bitcaiconda8c51914467a4460685b7f212a4ce3dd5",
   "display_name": "Python 3.6.10 64-bit ('cai': conda)"
  }
 },
 "cells": [
  {
   "cell_type": "markdown",
   "metadata": {},
   "source": [
    "# Preprocessing videos for motion correction\n",
    "This assumes that you have two tiff files with concatenated videos from a recording. One of them will be `raw` while to the other you should've applied a flat field subtraction (ffcSub). Also if you wnt to do any manual cropping to remove stable landmarks that hinder motion correction that should be done before starting processing here. \n",
    "\n",
    "This preprocessing code will apply FFT bandpass filter and other normalisation steps to your videos to help improve motion correction. The reason for doing this in python instead of imagej is to keep track of what was done and with what params by logging stuff. "
   ],
   "execution_count": null,
   "outputs": []
  },
  {
   "cell_type": "code",
   "execution_count": 1,
   "metadata": {},
   "outputs": [],
   "source": [
    "import os\n",
    "import numpy as np\n",
    "\n",
    "import logging\n",
    "from fancylog import fancylog\n",
    "import fancylog as package\n",
    "\n",
    "from fcutils.file_io.io import load_yaml\n",
    "from fcutils.file_io.utils import get_file_name\n",
    "from utils import load_tiff_video_caiman"
   ]
  },
  {
   "cell_type": "markdown",
   "metadata": {},
   "source": [
    "## Load metadata\n",
    "You should have an `analysis_metadata.yml` file in your folder. This is used to keep trhack of what's what and what was done to which file. "
   ],
   "execution_count": null,
   "outputs": []
  },
  {
   "cell_type": "code",
   "execution_count": 2,
   "metadata": {},
   "outputs": [
    {
     "output_type": "stream",
     "name": "stderr",
     "text": "2020-04-17 17:02:31 PM - INFO - MainProcess fancylog.py:271 - Starting logging\n2020-04-17 17:02:31 PM - INFO - MainProcess fancylog.py:273 - Multiprocessing-logging module not found, not logging multiple processes.\n2020-04-17 17:02:31 PM - INFO - MainProcess <ipython-input-2-1ffcacef5ea6>:8 - ANALYSIS METADATA FILE:\n2020-04-17 17:02:31 PM - INFO - MainProcess <ipython-input-2-1ffcacef5ea6>:10 - experimenter:  Federico\n2020-04-17 17:02:31 PM - INFO - MainProcess <ipython-input-2-1ffcacef5ea6>:10 - fld:  D:\\Dropbox (UCL - SWC)\\Project_vgatPAG\\analysis\\doric\\BF164p1\\19JUN05\n2020-04-17 17:02:31 PM - INFO - MainProcess <ipython-input-2-1ffcacef5ea6>:10 - raw_video:  19JUN05_BF164p1_v1_ds126_crop_raw.tif\n2020-04-17 17:02:31 PM - INFO - MainProcess <ipython-input-2-1ffcacef5ea6>:10 - ffcsub_video:  19JUN05_BF164p1_v1_ds126_crop_ffcSub.tiff\n2020-04-17 17:02:31 PM - INFO - MainProcess <ipython-input-2-1ffcacef5ea6>:10 - ffcsub_params:  {'sigma': 25, 'mean': 'each_frames_video'}\n2020-04-17 17:02:31 PM - INFO - MainProcess <ipython-input-2-1ffcacef5ea6>:10 - fft_bandpass_params:  [{'large_structures': 100}, {'small_structures': 5}, {'suppress_stripes': 'None'}, {'autoscale': True}, {'saturate': False}, {'display': False}]\n2020-04-17 17:02:31 PM - INFO - MainProcess <ipython-input-2-1ffcacef5ea6>:10 - fftfilt_video:  19JUN05_BF164p1_v1_ds126_crop_ffcSub_fftfilt.tif\n2020-04-17 17:02:31 PM - INFO - MainProcess <ipython-input-2-1ffcacef5ea6>:10 - norm_by_fft_video:  19JUN05_BF164p1_v1_ds126_crop_ffcSub_div_fft.tif\n2020-04-17 17:02:31 PM - INFO - MainProcess <ipython-input-2-1ffcacef5ea6>:10 - video_for_mc:  norm_by_fft_video\n2020-04-17 17:02:31 PM - INFO - MainProcess <ipython-input-2-1ffcacef5ea6>:10 - transformed_mc_video:  19JUN05_BF164p1_v1_ds126_crop_ffcSub_div_fft_els__d1_109_d2_92_d3_1_order_C_frames_22662_.mmap\n2020-04-17 17:02:31 PM - INFO - MainProcess <ipython-input-2-1ffcacef5ea6>:10 - raw_mc_video:  19JUN05_BF164p1_v1_ds126_crop_ffcSub_d1_109_d2_92_d3_1_order_C_frames_22662_.mmap\n"
    }
   ],
   "source": [
    "fld = 'D:\\\\Dropbox (UCL - SWC)\\\\Project_vgatPAG\\\\analysis\\\\doric\\\\BF164p1\\\\19JUN05' # <- which folder/recording we are working on\n",
    "metadata = load_yaml(os.path.join(fld, \"01_PARAMS\", \"analysis_metadata.yml\"))\n",
    "\n",
    "# Start logging\n",
    "logging_file = fancylog.start_logging(os.path.join(fld, \"02_LOGS\"), package, file_log_level=\"INFO\", verbose=False, filename='preprocessing_logs')\n",
    "\n",
    "# Write down metadata about analysis\n",
    "logging.info(\"ANALYSIS METADATA FILE:\")\n",
    "for k,v in metadata.items():\n",
    "    logging.info(f\"{k}:  {v}\")"
   ]
  },
  {
   "cell_type": "markdown",
   "metadata": {},
   "source": [
    "## Load video\n",
    "Loading the ffcsub video for further preprocessing"
   ],
   "execution_count": null,
   "outputs": []
  },
  {
   "cell_type": "code",
   "execution_count": 3,
   "metadata": {},
   "outputs": [
    {
     "output_type": "stream",
     "name": "stdout",
     "text": "Loaded video with 22662 frames and frame size: [109, 92]\n"
    }
   ],
   "source": [
    "video = load_tiff_video_caiman(os.path.join(fld, metadata['ffcsub_video']))\n",
    "print(f\"Loaded video with {video.shape[0]} frames and frame size: [{video.shape[1]}, {video.shape[2]}]\")\n",
    ""
   ]
  },
  {
   "cell_type": "markdown",
   "metadata": {},
   "source": [
    "## Apply FFT bandpass filter\n",
    "Apply the filter to get a filtered movie (essentially removing high freq noise) and use it to normalise the ffcsub by division. \n",
    "\n",
    "I coudn't get imagej to work in python, so for now this stepp will be done externally in Fiji. \n",
    "After you've filtered the video, please update the metadata file to specify where the output was saved and what params you've used for the filtering. Then reload the the metadata\n",
    "\n",
    "For a description of what the FFT filter in fiji does: https://imagej.nih.gov/ij/plugins/fft-filter.html"
   ],
   "execution_count": null,
   "outputs": []
  },
  {
   "cell_type": "code",
   "execution_count": 4,
   "metadata": {},
   "outputs": [
    {
     "output_type": "stream",
     "name": "stderr",
     "text": "2020-04-17 17:02:33 PM - INFO - MainProcess <ipython-input-4-ac1fe74475ac>:4 - fft bandpass parameters: [{'large_structures': 100}, {'small_structures': 5}, {'suppress_stripes': 'None'}, {'autoscale': True}, {'saturate': False}, {'display': False}]\n2020-04-17 17:02:33 PM - INFO - MainProcess <ipython-input-4-ac1fe74475ac>:5 - fft bandpass video saved at: 19JUN05_BF164p1_v1_ds126_crop_ffcSub_fftfilt.tif\nLoaded video with 22662 frames and frame size: [109, 92]\n"
    }
   ],
   "source": [
    "# When done in Fiji, update the params and load the video\n",
    "metadata = load_yaml(os.path.join(fld, \"01_PARAMS\", \"analysis_metadata.yml\"))\n",
    "\n",
    "logging.info(f\"fft bandpass parameters: {metadata['fft_bandpass_params']}\")\n",
    "logging.info(f\"fft bandpass video saved at: {metadata['fftfilt_video']}\")\n",
    "\n",
    "fftfilt_video = load_tiff_video_caiman(os.path.join(fld, metadata['fftfilt_video']))\n",
    "print(f\"Loaded video with {fftfilt_video.shape[0]} frames and frame size: [{fftfilt_video.shape[1]}, {fftfilt_video.shape[2]}]\")\n",
    ""
   ]
  },
  {
   "cell_type": "markdown",
   "metadata": {},
   "source": [
    "## Normalize ffcsub using fft bandpass filtered video\n",
    "Divide video by fftfilt video"
   ],
   "execution_count": null,
   "outputs": []
  },
  {
   "cell_type": "code",
   "execution_count": 5,
   "metadata": {},
   "outputs": [
    {
     "output_type": "stream",
     "name": "stderr",
     "text": "2020-04-17 17:02:38 PM - INFO - MainProcess <ipython-input-5-5ecff2e7115b>:12 - Saved video normalized by fft filtered at: D:\\Dropbox (UCL - SWC)\\Project_vgatPAG\\analysis\\doric\\BF164p1\\19JUN05\\19JUN05_BF164p1_v1_ds126_crop_ffcSub_div_fft.tif\n2020-04-17 17:02:38 PM - INFO - MainProcess <ipython-input-5-5ecff2e7115b>:13 - Done.\n\nDon't forget to add to the metadata file the name of the video normalised by fft\n"
    }
   ],
   "source": [
    "# Check that neither of the two videos has zeros\n",
    "if np.min(video)  <= 0 or np.min(fftfilt_video) <= 0:\n",
    "    raise ValueError(\"The videos can't have 0 for this step, we'll be dividing stuff!\")\n",
    "\n",
    "# Divide and save\n",
    "video_divided_by_fft = video / fftfilt_video\n",
    "\n",
    "savename = get_file_name(metadata['ffcsub_video'])+\"_div_fft.tif\"\n",
    "savepath = os.path.join(fld, savename)\n",
    "video_divided_by_fft.save(savepath)\n",
    "\n",
    "logging.info(f\"Saved video normalized by fft filtered at: {savepath}\")\n",
    "logging.info(\"Done.\")\n",
    "\n",
    "print(\"\\nDon't forget to add to the metadata file the name of the video normalised by fft\")\n",
    ""
   ]
  },
  {
   "cell_type": "code",
   "execution_count": null,
   "metadata": {},
   "outputs": [],
   "source": []
  }
 ]
}