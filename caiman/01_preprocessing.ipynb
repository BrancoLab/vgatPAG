{
 "nbformat": 4,
 "nbformat_minor": 2,
 "metadata": {
  "language_info": {
   "name": "python",
   "codemirror_mode": {
    "name": "ipython",
    "version": 3
   },
   "version": "3.6.4-final"
  },
  "orig_nbformat": 2,
  "file_extension": ".py",
  "mimetype": "text/x-python",
  "name": "python",
  "npconvert_exporter": "python",
  "pygments_lexer": "ipython3",
  "version": 3,
  "kernelspec": {
   "name": "python361064bitcaiconda8c51914467a4460685b7f212a4ce3dd5",
   "display_name": "Python 3.6.10 64-bit ('cai': conda)"
  }
 },
 "cells": [
  {
   "cell_type": "markdown",
   "metadata": {},
   "source": [
    "# Preprocessing videos for motion correction\n",
    "This assumes that you have two tiff files with concatenated videos from a recording. One of them will be `raw` while to the other you should've applied a flat field subtraction (ffcSub). Also if you wnt to do any manual cropping to remove stable landmarks that hinder motion correction that should be done before starting processing here. \n",
    "\n",
    "This preprocessing code will apply FFT bandpass filter and other normalisation steps to your videos to help improve motion correction. The reason for doing this in python instead of imagej is to keep track of what was done and with what params by logging stuff. "
   ],
   "execution_count": null,
   "outputs": []
  },
  {
   "cell_type": "code",
   "execution_count": 1,
   "metadata": {},
   "outputs": [],
   "source": [
    "import os\n",
    "import numpy as np\n",
    "\n",
    "import logging\n",
    "from fancylog import fancylog\n",
    "import fancylog as package\n",
    "\n",
    "from fcutils.file_io.io import load_yaml\n",
    "from fcutils.file_io.utils import get_file_name\n",
    "from utils import load_tiff_video_caiman"
   ]
  },
  {
   "cell_type": "markdown",
   "metadata": {},
   "source": [
    "## Load metadata\n",
    "You should have an `analysis_metadata.yml` file in your folder. This is used to keep trhack of what's what and what was done to which file. "
   ],
   "execution_count": null,
   "outputs": []
  },
  {
   "cell_type": "code",
   "execution_count": 2,
   "metadata": {},
   "outputs": [
    {
     "output_type": "stream",
     "name": "stderr",
     "text": "2020-04-17 11:33:31 AM - INFO - MainProcess fancylog.py:271 - Starting logging\n2020-04-17 11:33:31 AM - INFO - MainProcess fancylog.py:273 - Multiprocessing-logging module not found, not logging multiple processes.\n2020-04-17 11:33:31 AM - INFO - MainProcess <ipython-input-2-29372bb5fcc3>:9 - experimenter:  Federico\n2020-04-17 11:33:31 AM - INFO - MainProcess <ipython-input-2-29372bb5fcc3>:9 - fld:  D:\\Dropbox (UCL - SWC)\\Project_vgatPAG\\analysis\\doric\\BF164p1\\19JUN05\n2020-04-17 11:33:31 AM - INFO - MainProcess <ipython-input-2-29372bb5fcc3>:9 - raw_video:  19JUN05_BF164p1_v1_ds126_crop_raw.tif\n2020-04-17 11:33:31 AM - INFO - MainProcess <ipython-input-2-29372bb5fcc3>:9 - ffcsub_video:  19JUN05_BF164p1_v1_ds126_crop_ffcSub.tiff\n2020-04-17 11:33:31 AM - INFO - MainProcess <ipython-input-2-29372bb5fcc3>:9 - ffcsub_params:  {'sigma': 25, 'mean': 'each_frames_video'}\n2020-04-17 11:33:31 AM - INFO - MainProcess <ipython-input-2-29372bb5fcc3>:9 - fft_bandpass_params:  [{'large_structures': 40}, {'small_structures': 5}, {'suppress_stripes': 'None'}, {'autoscale': False}, {'saturate': False}, {'display': False}]\n2020-04-17 11:33:31 AM - INFO - MainProcess <ipython-input-2-29372bb5fcc3>:9 - fftfilt_video:  19JUN05_BF164p1_v1_ds126_crop_ffcSub_fftfilt.tif\n2020-04-17 11:33:31 AM - INFO - MainProcess <ipython-input-2-29372bb5fcc3>:9 - video_for_mc:  None\n2020-04-17 11:33:31 AM - INFO - MainProcess <ipython-input-2-29372bb5fcc3>:9 - preprocessing_for_mc:  {'crop': True, 'ffcSub': True, 'fft_bandpass': True}\n"
    }
   ],
   "source": [
    "fld = 'D:\\\\Dropbox (UCL - SWC)\\\\Project_vgatPAG\\\\analysis\\\\doric\\\\BF164p1\\\\19JUN05' # <- which folder/recording we are working on\n",
    "metadata = load_yaml(os.path.join(fld, \"analysis_metadata.yml\"))\n",
    "\n",
    "# Start logging\n",
    "logging_file = fancylog.start_logging(os.path.join(fld, \"02_LOGS\"), package, file_log_level=\"INFO\", verbose=False, filename='preprocessing_logs')\n",
    "\n",
    "# Write down metadata about analysis\n",
    "for k,v in metadata.items():\n",
    "    logging.info(f\"{k}:  {v}\")"
   ]
  },
  {
   "cell_type": "markdown",
   "metadata": {},
   "source": [
    "## Load video\n",
    "Loading the ffcsub video for further preprocessing"
   ],
   "execution_count": null,
   "outputs": []
  },
  {
   "cell_type": "code",
   "execution_count": 3,
   "metadata": {},
   "outputs": [
    {
     "output_type": "stream",
     "name": "stdout",
     "text": "Loaded video with 22662 frames and frame size: [109, 92]\n"
    }
   ],
   "source": [
    "video = load_tiff_video_caiman(os.path.join(fld, metadata['ffcsub_video']))\n",
    "print(f\"Loaded video with {video.shape[0]} frames and frame size: [{video.shape[1]}, {video.shape[2]}]\")\n",
    ""
   ]
  },
  {
   "cell_type": "markdown",
   "metadata": {},
   "source": [
    "## Apply FFT bandpass filter\n",
    "Apply the filter to get a filtered movie (essentially removing high freq noise) and use it to normalise the ffcsub by division. \n",
    "\n",
    "I coudn't get imagej to work in python, so for now this stepp will be done externally in Fiji. \n",
    "After you've filtered the video, please update the metadata file to specify where the output was saved and what params you've used for the filtering. Then reload the the metadata"
   ],
   "execution_count": null,
   "outputs": []
  },
  {
   "cell_type": "code",
   "execution_count": 4,
   "metadata": {},
   "outputs": [
    {
     "output_type": "stream",
     "name": "stderr",
     "text": "2020-04-17 11:33:32 AM - INFO - MainProcess <ipython-input-4-cf1ff5d0d3e6>:4 - fft bandpass parameters: [{'large_structures': 40}, {'small_structures': 5}, {'suppress_stripes': 'None'}, {'autoscale': False}, {'saturate': False}, {'display': False}]\n2020-04-17 11:33:32 AM - INFO - MainProcess <ipython-input-4-cf1ff5d0d3e6>:5 - fft bandpass video saved at: 19JUN05_BF164p1_v1_ds126_crop_ffcSub_fftfilt.tif\nLoaded video with 22662 frames and frame size: [109, 92]\n"
    }
   ],
   "source": [
    "# When done in Fiji, update the params and load the video\n",
    "metadata = load_yaml(os.path.join(fld, \"analysis_metadata.yml\"))\n",
    "\n",
    "logging.info(f\"fft bandpass parameters: {metadata['fft_bandpass_params']}\")\n",
    "logging.info(f\"fft bandpass video saved at: {metadata['fftfilt_video']}\")\n",
    "\n",
    "fftfilt_video = load_tiff_video_caiman(os.path.join(fld, metadata['fftfilt_video']))\n",
    "print(f\"Loaded video with {fftfilt_video.shape[0]} frames and frame size: [{fftfilt_video.shape[1]}, {fftfilt_video.shape[2]}]\")\n",
    ""
   ]
  },
  {
   "cell_type": "markdown",
   "metadata": {},
   "source": [
    "## Normalize ffcsub using fft bandpass filtered video\n",
    "Divide video by fftfilt video"
   ],
   "execution_count": null,
   "outputs": []
  },
  {
   "cell_type": "code",
   "execution_count": 7,
   "metadata": {},
   "outputs": [
    {
     "output_type": "stream",
     "name": "stderr",
     "text": "2020-04-17 11:33:56 AM - INFO - MainProcess <ipython-input-7-63397373c1ae>:12 - Saved video normalized by fft filtered at: D:\\Dropbox (UCL - SWC)\\Project_vgatPAG\\analysis\\doric\\BF164p1\\19JUN05\\19JUN05_BF164p1_v1_ds126_crop_ffcSub_div_fft.tif\n2020-04-17 11:33:56 AM - INFO - MainProcess <ipython-input-7-63397373c1ae>:13 - Done.\n"
    }
   ],
   "source": [
    "# Check that neither of the two videos has zeros\n",
    "if np.min(video)  <= 0 or np.min(fftfilt_video) <= 0:\n",
    "    raise ValueError(\"The videos can't have 0 for this step, we'll be dividing stuff!\")\n",
    "\n",
    "# Divide and save\n",
    "video_divided_by_fft = video / fftfilt_video\n",
    "\n",
    "savename = get_file_name(metadata['ffcsub_video'])+\"_div_fft.tif\"\n",
    "savepath = os.path.join(fld, savename)\n",
    "video_divided_by_fft.save(savepath)\n",
    "\n",
    "logging.info(f\"Saved video normalized by fft filtered at: {savepath}\")\n",
    "logging.info(\"Done.\")\n",
    "\n",
    "print(\"\\nDon't forget to add to the metadata file the name of the video normalised by fft\")\n"
   ]
  },
  {
   "cell_type": "code",
   "execution_count": null,
   "metadata": {},
   "outputs": [],
   "source": []
  }
 ]
}