{
 "cells": [
  {
   "cell_type": "markdown",
   "metadata": {},
   "source": [
    "# Background inspection\n",
    "\n",
    "Helps with creating background videos and comparing them between caiman and fiji"
   ]
  },
  {
   "cell_type": "code",
   "execution_count": null,
   "metadata": {},
   "outputs": [],
   "source": [
    "try:\n",
    "    get_ipython().magic(u'load_ext autoreload')\n",
    "    get_ipython().magic(u'autoreload 2')\n",
    "    get_ipython().magic(u'matplotlib qt')\n",
    "except:\n",
    "    pass\n",
    "\n",
    "import matplotlib.pyplot as plt\n",
    "import numpy as np\n",
    "import os\n",
    "from tqdm import tqdm\n",
    "import napari\n",
    "\n",
    "\n",
    "import caiman as cm\n",
    "\n",
    "\n",
    "from fcutils.file_io.io import load_yaml, save_yaml\n",
    "from fcutils.plotting.utils import clean_axes, save_figure, add_colorbar_to_img\n",
    "from fcutils.plotting.colors import * \n",
    "from fcutils.plotting.plot_elements import plot_shaded_withline\n",
    "from fcutils.file_io.utils import check_create_folder, get_file_name\n",
    "\n",
    "from movie_visualizer import compare_videos\n",
    "from utils import print_cnmfe_components, plot_components_over_image, load_fit_cnmfe\n",
    "from utils import start_server, load_params,  log_cnmfe_components, load_mmap_video_caiman\n",
    "\n",
    "c, dview, n_processes = start_server()"
   ]
  },
  {
   "cell_type": "markdown",
   "metadata": {},
   "source": [
    "## Load stuff"
   ]
  },
  {
   "cell_type": "code",
   "execution_count": null,
   "metadata": {},
   "outputs": [],
   "source": [
    "fld = 'D:\\\\Dropbox (UCL - SWC)\\\\Project_vgatPAG\\\\analysis\\\\doric\\\\BF164p2\\\\19JUN26'\n",
    "metadata = load_yaml(os.path.join(fld, \"01_PARAMS\", \"analysis_metadata.yml\"))\n",
    "\n",
    "\n",
    "# Load model\n",
    "cnm, model_filepath = load_fit_cnmfe(fld, n_processes, dview, raw=False, curated=True)\n",
    "\n",
    "# Get video paths\n",
    "vids_paths = load_yaml(os.path.join(fld, metadata['outputfld'], \"video_paths.yml\"))\n",
    "\n",
    "# SELECT WHICH VIDEO TO USE\n",
    "USE_VIDEO = 'transf_pw_mc'\n",
    "video = vids_paths[USE_VIDEO]\n",
    "print(f\"Using video {USE_VIDEO} saved at {video}\")\n"
   ]
  },
  {
   "cell_type": "markdown",
   "metadata": {},
   "source": [
    "## Get background in caiman"
   ]
  },
  {
   "cell_type": "code",
   "execution_count": null,
   "metadata": {},
   "outputs": [],
   "source": [
    "# Get video data\n",
    "Yr, dims, T, images = load_mmap_video_caiman(video)\n",
    "\n",
    "# Get video background\n",
    "cnm.estimates.f = None\n",
    "background = cnm.estimates.compute_background(Yr)\n",
    "background = background.T.reshape((T, )+dims, order=\"F\")\n",
    "\n",
    "# Save as video\n",
    "cnmf_background_file = os.path.join(fld, get_file_name(video)+\"_cnmf_background.tif\")\n",
    "movie = cm.movie(background)\n",
    "movie.save(cnmf_background_file)"
   ]
  },
  {
   "cell_type": "markdown",
   "metadata": {},
   "source": [
    "## Get background in fiji\n",
    "\n",
    "Steps to create background video in fiji\n",
    "- save mmap to tif\n",
    "- use rolling ball filter to create a background subtracted video\n",
    "- subtract the background subtracted video from the video to get the background video\n",
    "- save and load back in python\n"
   ]
  },
  {
   "cell_type": "code",
   "execution_count": null,
   "metadata": {},
   "outputs": [],
   "source": [
    "# Save as tif\n",
    "savename = os.path.join(fld, get_file_name(video)+\".tif\")\n",
    "\n",
    "if not os.path.isfile(savename):\n",
    "    movie = cm.movie(images)\n",
    "    movie.save(savename)\n",
    "\n",
    "print(f\"Video saved as tif at: {savename}\")\n",
    "\n",
    "# now do stuff in fiji"
   ]
  },
  {
   "cell_type": "code",
   "execution_count": null,
   "metadata": {},
   "outputs": [],
   "source": [
    "# Load back the tif after having created the background in fiji\n",
    "fiji_background_bg_subtracted = cm.load(savename.replace(\".tif\", \"background_subtracted.tif\"))\n",
    "\n",
    "# Now create the background in fiji\n",
    "fiji_background = images - fiji_background_bg_subtracted\n",
    "\n",
    "# save fiji file\n",
    "fiji_background_file = savename.replace(\".tif\", \"fiji_background.tif\")\n",
    "movie = cm.movie(fiji_background)\n",
    "movie.save(fiji_background_file)\n"
   ]
  },
  {
   "cell_type": "markdown",
   "metadata": {},
   "source": [
    "## Inspect both background side by side"
   ]
  },
  {
   "cell_type": "code",
   "execution_count": null,
   "metadata": {},
   "outputs": [],
   "source": [
    "f, axarr = plt.subplots(ncols=2, figsize=(12, 8))\n",
    "f.suptitle(\"CNFM fitted on NORMALIZED\")\n",
    "\n",
    "axarr[0].imshow(np.mean(background, axis=0), cmap=\"gray\")\n",
    "axarr[1].imshow(np.mean(fiji_background, axis=0), cmap=\"gray\")\n",
    "\n",
    "axarr[0].axis(\"off\")\n",
    "axarr[0].set(title=\"Caiman background\")\n",
    "\n",
    "axarr[1].axis(\"off\")\n",
    "axarr[1].set(title=\"Fiji background\")\n",
    "\n",
    "f.tight_layout()\n",
    "save_figure(f, os.path.join(fld, \"update\", \"normalized_video_background\"))"
   ]
  },
  {
   "cell_type": "code",
   "execution_count": null,
   "metadata": {},
   "outputs": [],
   "source": [
    "# Inspects videos side by side in napri\n",
    "\n",
    "compare_videos(cnmf=cnmf_background_file, fiji=fiji_background_file, notebook=True, contrast_limits=None)"
   ]
  },
  {
   "cell_type": "markdown",
   "metadata": {},
   "source": [
    "## Update video paths"
   ]
  },
  {
   "cell_type": "code",
   "execution_count": null,
   "metadata": {},
   "outputs": [],
   "source": [
    "# Update video paths yaml file\n",
    "vids_paths['transf_pw_mc_fiji_bg'] = fiji_background_file\n",
    "vids_paths['transf_pw_mc_cnmf_bg'] = cnmf_background_file\n",
    "save_yaml(os.path.join(fld, metadata['outputfld'], \"video_paths.yml\"), vids_paths)"
   ]
  },
  {
   "cell_type": "code",
   "execution_count": null,
   "metadata": {},
   "outputs": [],
   "source": []
  }
 ],
 "metadata": {
  "language_info": {
   "codemirror_mode": {
    "name": "ipython",
    "version": 3
   },
   "file_extension": ".py",
   "mimetype": "text/x-python",
   "name": "python",
   "nbconvert_exporter": "python",
   "pygments_lexer": "ipython3",
   "version": "3.6.4-final"
  },
  "orig_nbformat": 2,
  "kernelspec": {
   "name": "python361064bitcaiconda8c51914467a4460685b7f212a4ce3dd5",
   "display_name": "Python 3.6.10 64-bit ('cai': conda)"
  }
 },
 "nbformat": 4,
 "nbformat_minor": 2
}