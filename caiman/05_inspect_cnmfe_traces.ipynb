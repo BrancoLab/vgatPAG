{
 "cells": [
  {
   "cell_type": "markdown",
   "metadata": {},
   "source": [
    "# Inspect CNMF-E traces\n",
    "\n",
    "This code is to look at the time component of each cell. The main goal is to look at the signal for each ROI as extracted by CNMF-E vs the background signal vs using the same ROI to get raw signal out of the raw motion correct and the fft normalized (motion corrected) videos\n",
    "\n"
   ]
  },
  {
   "cell_type": "code",
   "execution_count": 1,
   "metadata": {},
   "outputs": [
    {
     "output_type": "display_data",
     "data": {
      "text/html": "\n    <div class=\"bk-root\">\n        <a href=\"https://bokeh.org\" target=\"_blank\" class=\"bk-logo bk-logo-small bk-logo-notebook\"></a>\n        <span id=\"1001\">Loading BokehJS ...</span>\n    </div>"
     },
     "metadata": {}
    },
    {
     "output_type": "display_data",
     "data": {
      "application/javascript": "\n(function(root) {\n  function now() {\n    return new Date();\n  }\n\n  var force = true;\n\n  if (typeof root._bokeh_onload_callbacks === \"undefined\" || force === true) {\n    root._bokeh_onload_callbacks = [];\n    root._bokeh_is_loading = undefined;\n  }\n\n  var JS_MIME_TYPE = 'application/javascript';\n  var HTML_MIME_TYPE = 'text/html';\n  var EXEC_MIME_TYPE = 'application/vnd.bokehjs_exec.v0+json';\n  var CLASS_NAME = 'output_bokeh rendered_html';\n\n  /**\n   * Render data to the DOM node\n   */\n  function render(props, node) {\n    var script = document.createElement(\"script\");\n    node.appendChild(script);\n  }\n\n  /**\n   * Handle when an output is cleared or removed\n   */\n  function handleClearOutput(event, handle) {\n    var cell = handle.cell;\n\n    var id = cell.output_area._bokeh_element_id;\n    var server_id = cell.output_area._bokeh_server_id;\n    // Clean up Bokeh references\n    if (id != null && id in Bokeh.index) {\n      Bokeh.index[id].model.document.clear();\n      delete Bokeh.index[id];\n    }\n\n    if (server_id !== undefined) {\n      // Clean up Bokeh references\n      var cmd = \"from bokeh.io.state import curstate; print(curstate().uuid_to_server['\" + server_id + \"'].get_sessions()[0].document.roots[0]._id)\";\n      cell.notebook.kernel.execute(cmd, {\n        iopub: {\n          output: function(msg) {\n            var id = msg.content.text.trim();\n            if (id in Bokeh.index) {\n              Bokeh.index[id].model.document.clear();\n              delete Bokeh.index[id];\n            }\n          }\n        }\n      });\n      // Destroy server and session\n      var cmd = \"import bokeh.io.notebook as ion; ion.destroy_server('\" + server_id + \"')\";\n      cell.notebook.kernel.execute(cmd);\n    }\n  }\n\n  /**\n   * Handle when a new output is added\n   */\n  function handleAddOutput(event, handle) {\n    var output_area = handle.output_area;\n    var output = handle.output;\n\n    // limit handleAddOutput to display_data with EXEC_MIME_TYPE content only\n    if ((output.output_type != \"display_data\") || (!output.data.hasOwnProperty(EXEC_MIME_TYPE))) {\n      return\n    }\n\n    var toinsert = output_area.element.find(\".\" + CLASS_NAME.split(' ')[0]);\n\n    if (output.metadata[EXEC_MIME_TYPE][\"id\"] !== undefined) {\n      toinsert[toinsert.length - 1].firstChild.textContent = output.data[JS_MIME_TYPE];\n      // store reference to embed id on output_area\n      output_area._bokeh_element_id = output.metadata[EXEC_MIME_TYPE][\"id\"];\n    }\n    if (output.metadata[EXEC_MIME_TYPE][\"server_id\"] !== undefined) {\n      var bk_div = document.createElement(\"div\");\n      bk_div.innerHTML = output.data[HTML_MIME_TYPE];\n      var script_attrs = bk_div.children[0].attributes;\n      for (var i = 0; i < script_attrs.length; i++) {\n        toinsert[toinsert.length - 1].firstChild.setAttribute(script_attrs[i].name, script_attrs[i].value);\n        toinsert[toinsert.length - 1].firstChild.textContent = bk_div.children[0].textContent\n      }\n      // store reference to server id on output_area\n      output_area._bokeh_server_id = output.metadata[EXEC_MIME_TYPE][\"server_id\"];\n    }\n  }\n\n  function register_renderer(events, OutputArea) {\n\n    function append_mime(data, metadata, element) {\n      // create a DOM node to render to\n      var toinsert = this.create_output_subarea(\n        metadata,\n        CLASS_NAME,\n        EXEC_MIME_TYPE\n      );\n      this.keyboard_manager.register_events(toinsert);\n      // Render to node\n      var props = {data: data, metadata: metadata[EXEC_MIME_TYPE]};\n      render(props, toinsert[toinsert.length - 1]);\n      element.append(toinsert);\n      return toinsert\n    }\n\n    /* Handle when an output is cleared or removed */\n    events.on('clear_output.CodeCell', handleClearOutput);\n    events.on('delete.Cell', handleClearOutput);\n\n    /* Handle when a new output is added */\n    events.on('output_added.OutputArea', handleAddOutput);\n\n    /**\n     * Register the mime type and append_mime function with output_area\n     */\n    OutputArea.prototype.register_mime_type(EXEC_MIME_TYPE, append_mime, {\n      /* Is output safe? */\n      safe: true,\n      /* Index of renderer in `output_area.display_order` */\n      index: 0\n    });\n  }\n\n  // register the mime type if in Jupyter Notebook environment and previously unregistered\n  if (root.Jupyter !== undefined) {\n    var events = require('base/js/events');\n    var OutputArea = require('notebook/js/outputarea').OutputArea;\n\n    if (OutputArea.prototype.mime_types().indexOf(EXEC_MIME_TYPE) == -1) {\n      register_renderer(events, OutputArea);\n    }\n  }\n\n  \n  if (typeof (root._bokeh_timeout) === \"undefined\" || force === true) {\n    root._bokeh_timeout = Date.now() + 5000;\n    root._bokeh_failed_load = false;\n  }\n\n  var NB_LOAD_WARNING = {'data': {'text/html':\n     \"<div style='background-color: #fdd'>\\n\"+\n     \"<p>\\n\"+\n     \"BokehJS does not appear to have successfully loaded. If loading BokehJS from CDN, this \\n\"+\n     \"may be due to a slow or bad network connection. Possible fixes:\\n\"+\n     \"</p>\\n\"+\n     \"<ul>\\n\"+\n     \"<li>re-rerun `output_notebook()` to attempt to load from CDN again, or</li>\\n\"+\n     \"<li>use INLINE resources instead, as so:</li>\\n\"+\n     \"</ul>\\n\"+\n     \"<code>\\n\"+\n     \"from bokeh.resources import INLINE\\n\"+\n     \"output_notebook(resources=INLINE)\\n\"+\n     \"</code>\\n\"+\n     \"</div>\"}};\n\n  function display_loaded() {\n    var el = document.getElementById(\"1001\");\n    if (el != null) {\n      el.textContent = \"BokehJS is loading...\";\n    }\n    if (root.Bokeh !== undefined) {\n      if (el != null) {\n        el.textContent = \"BokehJS \" + root.Bokeh.version + \" successfully loaded.\";\n      }\n    } else if (Date.now() < root._bokeh_timeout) {\n      setTimeout(display_loaded, 100)\n    }\n  }\n\n\n  function run_callbacks() {\n    try {\n      root._bokeh_onload_callbacks.forEach(function(callback) {\n        if (callback != null)\n          callback();\n      });\n    } finally {\n      delete root._bokeh_onload_callbacks\n    }\n    console.debug(\"Bokeh: all callbacks have finished\");\n  }\n\n  function load_libs(css_urls, js_urls, callback) {\n    if (css_urls == null) css_urls = [];\n    if (js_urls == null) js_urls = [];\n\n    root._bokeh_onload_callbacks.push(callback);\n    if (root._bokeh_is_loading > 0) {\n      console.debug(\"Bokeh: BokehJS is being loaded, scheduling callback at\", now());\n      return null;\n    }\n    if (js_urls == null || js_urls.length === 0) {\n      run_callbacks();\n      return null;\n    }\n    console.debug(\"Bokeh: BokehJS not loaded, scheduling load and callback at\", now());\n    root._bokeh_is_loading = css_urls.length + js_urls.length;\n\n    function on_load() {\n      root._bokeh_is_loading--;\n      if (root._bokeh_is_loading === 0) {\n        console.debug(\"Bokeh: all BokehJS libraries/stylesheets loaded\");\n        run_callbacks()\n      }\n    }\n\n    function on_error() {\n      console.error(\"failed to load \" + url);\n    }\n\n    for (var i = 0; i < css_urls.length; i++) {\n      var url = css_urls[i];\n      const element = document.createElement(\"link\");\n      element.onload = on_load;\n      element.onerror = on_error;\n      element.rel = \"stylesheet\";\n      element.type = \"text/css\";\n      element.href = url;\n      console.debug(\"Bokeh: injecting link tag for BokehJS stylesheet: \", url);\n      document.body.appendChild(element);\n    }\n\n    const hashes = {\"https://cdn.bokeh.org/bokeh/release/bokeh-2.0.1.min.js\": \"JpP8FXbgAZLkfur7LiK3j9AGBhHNIvF742meBJrjO2ShJDhCG2I1uVvW+0DUtrmc\", \"https://cdn.bokeh.org/bokeh/release/bokeh-widgets-2.0.1.min.js\": \"xZlADit0Q04ISQEdKg2k3L4W9AwQBAuDs9nJL9fM/WwzL1tEU9VPNezOFX0nLEAz\", \"https://cdn.bokeh.org/bokeh/release/bokeh-tables-2.0.1.min.js\": \"4BuPRZkdMKSnj3zoxiNrQ86XgNw0rYmBOxe7nshquXwwcauupgBF2DHLVG1WuZlV\", \"https://cdn.bokeh.org/bokeh/release/bokeh-gl-2.0.1.min.js\": \"Dv1SQ87hmDqK6S5OhBf0bCuwAEvL5QYL0PuR/F1SPVhCS/r/abjkbpKDYL2zeM19\"};\n\n    for (var i = 0; i < js_urls.length; i++) {\n      var url = js_urls[i];\n      var element = document.createElement('script');\n      element.onload = on_load;\n      element.onerror = on_error;\n      element.async = false;\n      element.src = url;\n      if (url in hashes) {\n        element.crossOrigin = \"anonymous\";\n        element.integrity = \"sha384-\" + hashes[url];\n      }\n      console.debug(\"Bokeh: injecting script tag for BokehJS library: \", url);\n      document.head.appendChild(element);\n    }\n  };var element = document.getElementById(\"1001\");\n  if (element == null) {\n    console.error(\"Bokeh: ERROR: autoload.js configured with elementid '1001' but no matching script tag was found. \")\n    return false;\n  }\n\n  function inject_raw_css(css) {\n    const element = document.createElement(\"style\");\n    element.appendChild(document.createTextNode(css));\n    document.body.appendChild(element);\n  }\n\n  \n  var js_urls = [\"https://cdn.bokeh.org/bokeh/release/bokeh-2.0.1.min.js\", \"https://cdn.bokeh.org/bokeh/release/bokeh-widgets-2.0.1.min.js\", \"https://cdn.bokeh.org/bokeh/release/bokeh-tables-2.0.1.min.js\", \"https://cdn.bokeh.org/bokeh/release/bokeh-gl-2.0.1.min.js\", \"https://unpkg.com/@holoviz/panel@^0.9.5/dist/panel.min.js\"];\n  var css_urls = [];\n  \n\n  var inline_js = [\n    function(Bokeh) {\n      inject_raw_css(\"table.panel-df {\\n    margin-left: auto;\\n    margin-right: auto;\\n    border: none;\\n    border-collapse: collapse;\\n    border-spacing: 0;\\n    color: black;\\n    font-size: 12px;\\n    table-layout: fixed;\\n    width: 100%;\\n}\\n\\n.panel-df tr, th, td {\\n    text-align: right;\\n    vertical-align: middle;\\n    padding: 0.5em 0.5em !important;\\n    line-height: normal;\\n    white-space: normal;\\n    max-width: none;\\n    border: none;\\n}\\n\\n.panel-df tbody {\\n    display: table-row-group;\\n    vertical-align: middle;\\n    border-color: inherit;\\n}\\n\\n.panel-df tbody tr:nth-child(odd) {\\n    background: #f5f5f5;\\n}\\n\\n.panel-df thead {\\n    border-bottom: 1px solid black;\\n    vertical-align: bottom;\\n}\\n\\n.panel-df tr:hover {\\n    background: lightblue !important;\\n    cursor: pointer;\\n}\\n\");\n    },\n    function(Bokeh) {\n      inject_raw_css(\".json-formatter-row {\\n  font-family: monospace;\\n}\\n.json-formatter-row,\\n.json-formatter-row a,\\n.json-formatter-row a:hover {\\n  color: black;\\n  text-decoration: none;\\n}\\n.json-formatter-row .json-formatter-row {\\n  margin-left: 1rem;\\n}\\n.json-formatter-row .json-formatter-children.json-formatter-empty {\\n  opacity: 0.5;\\n  margin-left: 1rem;\\n}\\n.json-formatter-row .json-formatter-children.json-formatter-empty:after {\\n  display: none;\\n}\\n.json-formatter-row .json-formatter-children.json-formatter-empty.json-formatter-object:after {\\n  content: \\\"No properties\\\";\\n}\\n.json-formatter-row .json-formatter-children.json-formatter-empty.json-formatter-array:after {\\n  content: \\\"[]\\\";\\n}\\n.json-formatter-row .json-formatter-string,\\n.json-formatter-row .json-formatter-stringifiable {\\n  color: green;\\n  white-space: pre;\\n  word-wrap: break-word;\\n}\\n.json-formatter-row .json-formatter-number {\\n  color: blue;\\n}\\n.json-formatter-row .json-formatter-boolean {\\n  color: red;\\n}\\n.json-formatter-row .json-formatter-null {\\n  color: #855A00;\\n}\\n.json-formatter-row .json-formatter-undefined {\\n  color: #ca0b69;\\n}\\n.json-formatter-row .json-formatter-function {\\n  color: #FF20ED;\\n}\\n.json-formatter-row .json-formatter-date {\\n  background-color: rgba(0, 0, 0, 0.05);\\n}\\n.json-formatter-row .json-formatter-url {\\n  text-decoration: underline;\\n  color: blue;\\n  cursor: pointer;\\n}\\n.json-formatter-row .json-formatter-bracket {\\n  color: blue;\\n}\\n.json-formatter-row .json-formatter-key {\\n  color: #00008B;\\n  padding-right: 0.2rem;\\n}\\n.json-formatter-row .json-formatter-toggler-link {\\n  cursor: pointer;\\n}\\n.json-formatter-row .json-formatter-toggler {\\n  line-height: 1.2rem;\\n  font-size: 0.7rem;\\n  vertical-align: middle;\\n  opacity: 0.6;\\n  cursor: pointer;\\n  padding-right: 0.2rem;\\n}\\n.json-formatter-row .json-formatter-toggler:after {\\n  display: inline-block;\\n  transition: transform 100ms ease-in;\\n  content: \\\"\\\\25BA\\\";\\n}\\n.json-formatter-row > a > .json-formatter-preview-text {\\n  opacity: 0;\\n  transition: opacity 0.15s ease-in;\\n  font-style: italic;\\n}\\n.json-formatter-row:hover > a > .json-formatter-preview-text {\\n  opacity: 0.6;\\n}\\n.json-formatter-row.json-formatter-open > .json-formatter-toggler-link .json-formatter-toggler:after {\\n  transform: rotate(90deg);\\n}\\n.json-formatter-row.json-formatter-open > .json-formatter-children:after {\\n  display: inline-block;\\n}\\n.json-formatter-row.json-formatter-open > a > .json-formatter-preview-text {\\n  display: none;\\n}\\n.json-formatter-row.json-formatter-open.json-formatter-empty:after {\\n  display: block;\\n}\\n.json-formatter-dark.json-formatter-row {\\n  font-family: monospace;\\n}\\n.json-formatter-dark.json-formatter-row,\\n.json-formatter-dark.json-formatter-row a,\\n.json-formatter-dark.json-formatter-row a:hover {\\n  color: white;\\n  text-decoration: none;\\n}\\n.json-formatter-dark.json-formatter-row .json-formatter-row {\\n  margin-left: 1rem;\\n}\\n.json-formatter-dark.json-formatter-row .json-formatter-children.json-formatter-empty {\\n  opacity: 0.5;\\n  margin-left: 1rem;\\n}\\n.json-formatter-dark.json-formatter-row .json-formatter-children.json-formatter-empty:after {\\n  display: none;\\n}\\n.json-formatter-dark.json-formatter-row .json-formatter-children.json-formatter-empty.json-formatter-object:after {\\n  content: \\\"No properties\\\";\\n}\\n.json-formatter-dark.json-formatter-row .json-formatter-children.json-formatter-empty.json-formatter-array:after {\\n  content: \\\"[]\\\";\\n}\\n.json-formatter-dark.json-formatter-row .json-formatter-string,\\n.json-formatter-dark.json-formatter-row .json-formatter-stringifiable {\\n  color: #31F031;\\n  white-space: pre;\\n  word-wrap: break-word;\\n}\\n.json-formatter-dark.json-formatter-row .json-formatter-number {\\n  color: #66C2FF;\\n}\\n.json-formatter-dark.json-formatter-row .json-formatter-boolean {\\n  color: #EC4242;\\n}\\n.json-formatter-dark.json-formatter-row .json-formatter-null {\\n  color: #EEC97D;\\n}\\n.json-formatter-dark.json-formatter-row .json-formatter-undefined {\\n  color: #ef8fbe;\\n}\\n.json-formatter-dark.json-formatter-row .json-formatter-function {\\n  color: #FD48CB;\\n}\\n.json-formatter-dark.json-formatter-row .json-formatter-date {\\n  background-color: rgba(255, 255, 255, 0.05);\\n}\\n.json-formatter-dark.json-formatter-row .json-formatter-url {\\n  text-decoration: underline;\\n  color: #027BFF;\\n  cursor: pointer;\\n}\\n.json-formatter-dark.json-formatter-row .json-formatter-bracket {\\n  color: #9494FF;\\n}\\n.json-formatter-dark.json-formatter-row .json-formatter-key {\\n  color: #23A0DB;\\n  padding-right: 0.2rem;\\n}\\n.json-formatter-dark.json-formatter-row .json-formatter-toggler-link {\\n  cursor: pointer;\\n}\\n.json-formatter-dark.json-formatter-row .json-formatter-toggler {\\n  line-height: 1.2rem;\\n  font-size: 0.7rem;\\n  vertical-align: middle;\\n  opacity: 0.6;\\n  cursor: pointer;\\n  padding-right: 0.2rem;\\n}\\n.json-formatter-dark.json-formatter-row .json-formatter-toggler:after {\\n  display: inline-block;\\n  transition: transform 100ms ease-in;\\n  content: \\\"\\\\25BA\\\";\\n}\\n.json-formatter-dark.json-formatter-row > a > .json-formatter-preview-text {\\n  opacity: 0;\\n  transition: opacity 0.15s ease-in;\\n  font-style: italic;\\n}\\n.json-formatter-dark.json-formatter-row:hover > a > .json-formatter-preview-text {\\n  opacity: 0.6;\\n}\\n.json-formatter-dark.json-formatter-row.json-formatter-open > .json-formatter-toggler-link .json-formatter-toggler:after {\\n  transform: rotate(90deg);\\n}\\n.json-formatter-dark.json-formatter-row.json-formatter-open > .json-formatter-children:after {\\n  display: inline-block;\\n}\\n.json-formatter-dark.json-formatter-row.json-formatter-open > a > .json-formatter-preview-text {\\n  display: none;\\n}\\n.json-formatter-dark.json-formatter-row.json-formatter-open.json-formatter-empty:after {\\n  display: block;\\n}\\n\");\n    },\n    function(Bokeh) {\n      inject_raw_css(\".codehilite .hll { background-color: #ffffcc }\\n.codehilite  { background: #f8f8f8; }\\n.codehilite .c { color: #408080; font-style: italic } /* Comment */\\n.codehilite .err { border: 1px solid #FF0000 } /* Error */\\n.codehilite .k { color: #008000; font-weight: bold } /* Keyword */\\n.codehilite .o { color: #666666 } /* Operator */\\n.codehilite .ch { color: #408080; font-style: italic } /* Comment.Hashbang */\\n.codehilite .cm { color: #408080; font-style: italic } /* Comment.Multiline */\\n.codehilite .cp { color: #BC7A00 } /* Comment.Preproc */\\n.codehilite .cpf { color: #408080; font-style: italic } /* Comment.PreprocFile */\\n.codehilite .c1 { color: #408080; font-style: italic } /* Comment.Single */\\n.codehilite .cs { color: #408080; font-style: italic } /* Comment.Special */\\n.codehilite .gd { color: #A00000 } /* Generic.Deleted */\\n.codehilite .ge { font-style: italic } /* Generic.Emph */\\n.codehilite .gr { color: #FF0000 } /* Generic.Error */\\n.codehilite .gh { color: #000080; font-weight: bold } /* Generic.Heading */\\n.codehilite .gi { color: #00A000 } /* Generic.Inserted */\\n.codehilite .go { color: #888888 } /* Generic.Output */\\n.codehilite .gp { color: #000080; font-weight: bold } /* Generic.Prompt */\\n.codehilite .gs { font-weight: bold } /* Generic.Strong */\\n.codehilite .gu { color: #800080; font-weight: bold } /* Generic.Subheading */\\n.codehilite .gt { color: #0044DD } /* Generic.Traceback */\\n.codehilite .kc { color: #008000; font-weight: bold } /* Keyword.Constant */\\n.codehilite .kd { color: #008000; font-weight: bold } /* Keyword.Declaration */\\n.codehilite .kn { color: #008000; font-weight: bold } /* Keyword.Namespace */\\n.codehilite .kp { color: #008000 } /* Keyword.Pseudo */\\n.codehilite .kr { color: #008000; font-weight: bold } /* Keyword.Reserved */\\n.codehilite .kt { color: #B00040 } /* Keyword.Type */\\n.codehilite .m { color: #666666 } /* Literal.Number */\\n.codehilite .s { color: #BA2121 } /* Literal.String */\\n.codehilite .na { color: #7D9029 } /* Name.Attribute */\\n.codehilite .nb { color: #008000 } /* Name.Builtin */\\n.codehilite .nc { color: #0000FF; font-weight: bold } /* Name.Class */\\n.codehilite .no { color: #880000 } /* Name.Constant */\\n.codehilite .nd { color: #AA22FF } /* Name.Decorator */\\n.codehilite .ni { color: #999999; font-weight: bold } /* Name.Entity */\\n.codehilite .ne { color: #D2413A; font-weight: bold } /* Name.Exception */\\n.codehilite .nf { color: #0000FF } /* Name.Function */\\n.codehilite .nl { color: #A0A000 } /* Name.Label */\\n.codehilite .nn { color: #0000FF; font-weight: bold } /* Name.Namespace */\\n.codehilite .nt { color: #008000; font-weight: bold } /* Name.Tag */\\n.codehilite .nv { color: #19177C } /* Name.Variable */\\n.codehilite .ow { color: #AA22FF; font-weight: bold } /* Operator.Word */\\n.codehilite .w { color: #bbbbbb } /* Text.Whitespace */\\n.codehilite .mb { color: #666666 } /* Literal.Number.Bin */\\n.codehilite .mf { color: #666666 } /* Literal.Number.Float */\\n.codehilite .mh { color: #666666 } /* Literal.Number.Hex */\\n.codehilite .mi { color: #666666 } /* Literal.Number.Integer */\\n.codehilite .mo { color: #666666 } /* Literal.Number.Oct */\\n.codehilite .sa { color: #BA2121 } /* Literal.String.Affix */\\n.codehilite .sb { color: #BA2121 } /* Literal.String.Backtick */\\n.codehilite .sc { color: #BA2121 } /* Literal.String.Char */\\n.codehilite .dl { color: #BA2121 } /* Literal.String.Delimiter */\\n.codehilite .sd { color: #BA2121; font-style: italic } /* Literal.String.Doc */\\n.codehilite .s2 { color: #BA2121 } /* Literal.String.Double */\\n.codehilite .se { color: #BB6622; font-weight: bold } /* Literal.String.Escape */\\n.codehilite .sh { color: #BA2121 } /* Literal.String.Heredoc */\\n.codehilite .si { color: #BB6688; font-weight: bold } /* Literal.String.Interpol */\\n.codehilite .sx { color: #008000 } /* Literal.String.Other */\\n.codehilite .sr { color: #BB6688 } /* Literal.String.Regex */\\n.codehilite .s1 { color: #BA2121 } /* Literal.String.Single */\\n.codehilite .ss { color: #19177C } /* Literal.String.Symbol */\\n.codehilite .bp { color: #008000 } /* Name.Builtin.Pseudo */\\n.codehilite .fm { color: #0000FF } /* Name.Function.Magic */\\n.codehilite .vc { color: #19177C } /* Name.Variable.Class */\\n.codehilite .vg { color: #19177C } /* Name.Variable.Global */\\n.codehilite .vi { color: #19177C } /* Name.Variable.Instance */\\n.codehilite .vm { color: #19177C } /* Name.Variable.Magic */\\n.codehilite .il { color: #666666 } /* Literal.Number.Integer.Long */\\n\\n.markdown h1 { margin-block-start: 0.34em }\\n.markdown h2 { margin-block-start: 0.42em }\\n.markdown h3 { margin-block-start: 0.5em }\\n.markdown h4 { margin-block-start: 0.67em }\\n.markdown h5 { margin-block-start: 0.84em }\\n.markdown h6 { margin-block-start: 1.17em }\\n.markdown ul { padding-inline-start: 2em }\\n.markdown ol { padding-inline-start: 2em }\\n.markdown strong { font-weight: 600 }\\n.markdown a { color: -webkit-link }\\n.markdown a { color: -moz-hyperlinkText }\\n\");\n    },\n    function(Bokeh) {\n      inject_raw_css(\".widget-box {\\n\\tmin-height: 20px;\\n\\tbackground-color: #f5f5f5;\\n\\tborder: 1px solid #e3e3e3 !important;\\n\\tborder-radius: 4px;\\n\\t-webkit-box-shadow: inset 0 1px 1px rgba(0,0,0,.05);\\n\\tbox-shadow: inset 0 1px 1px rgba(0,0,0,.05);\\n\\toverflow-x: hidden;\\n\\toverflow-y: hidden;\\n}\\n\\n.scrollable {\\n  overflow: scroll;\\n}\\n\\nprogress {\\n\\tappearance: none;\\n\\t-moz-appearance: none;\\n\\t-webkit-appearance: none;\\n\\n\\tborder: none;\\n\\theight: 20px;\\n\\tbackground-color: whiteSmoke;\\n\\tborder-radius: 3px;\\n\\tbox-shadow: 0 2px 3px rgba(0,0,0,.5) inset;\\n\\tcolor: royalblue;\\n\\tposition: relative;\\n\\tmargin: 0 0 1.5em;\\n}\\n\\nprogress[value]::-webkit-progress-bar {\\n\\tbackground-color: whiteSmoke;\\n\\tborder-radius: 3px;\\n\\tbox-shadow: 0 2px 3px rgba(0,0,0,.5) inset;\\n}\\n\\nprogress[value]::-webkit-progress-value {\\n\\tposition: relative;\\n\\n\\tbackground-size: 35px 20px, 100% 100%, 100% 100%;\\n\\tborder-radius:3px;\\n}\\n\\nprogress.active:not([value])::before {\\n\\tbackground-position: 10%;\\n\\tanimation-name: stripes;\\n\\tanimation-duration: 3s;\\n\\tanimation-timing-function: linear;\\n\\tanimation-iteration-count: infinite;\\n}\\n\\nprogress[value]::-moz-progress-bar {\\n\\tbackground-size: 35px 20px, 100% 100%, 100% 100%;\\n\\tborder-radius:3px;\\n}\\n\\nprogress:not([value])::-moz-progress-bar {\\n\\tborder-radius:3px;\\n\\tbackground:\\n\\tlinear-gradient(-45deg, transparent 33%, rgba(0, 0, 0, 0.2) 33%, rgba(0, 0, 0, 0.2) 66%, transparent 66%) left/2.5em 1.5em;\\n\\n}\\n\\nprogress.active:not([value])::-moz-progress-bar {\\n\\tbackground-position: 10%;\\n\\tanimation-name: stripes;\\n\\tanimation-duration: 3s;\\n\\tanimation-timing-function: linear;\\n\\tanimation-iteration-count: infinite;\\n}\\n\\nprogress.active:not([value])::-webkit-progress-bar {\\n\\tbackground-position: 10%;\\n\\tanimation-name: stripes;\\n\\tanimation-duration: 3s;\\n\\tanimation-timing-function: linear;\\n\\tanimation-iteration-count: infinite;\\n}\\n\\nprogress.primary[value]::-webkit-progress-value { background-color: #007bff; }\\nprogress.primary:not([value])::before { background-color: #007bff; }\\nprogress.primary:not([value])::-webkit-progress-bar { background-color: #007bff; }\\nprogress.primary::-moz-progress-bar { background-color: #007bff; }\\n\\nprogress.secondary[value]::-webkit-progress-value { background-color: #6c757d; }\\nprogress.secondary:not([value])::before { background-color: #6c757d; }\\nprogress.secondary:not([value])::-webkit-progress-bar { background-color: #6c757d; }\\nprogress.secondary::-moz-progress-bar { background-color: #6c757d; }\\n\\nprogress.success[value]::-webkit-progress-value { background-color: #28a745; }\\nprogress.success:not([value])::before { background-color: #28a745; }\\nprogress.success:not([value])::-webkit-progress-bar { background-color: #28a745; }\\nprogress.success::-moz-progress-bar { background-color: #28a745; }\\n\\nprogress.danger[value]::-webkit-progress-value { background-color: #dc3545; }\\nprogress.danger:not([value])::before { background-color: #dc3545; }\\nprogress.danger:not([value])::-webkit-progress-bar { background-color: #dc3545; }\\nprogress.danger::-moz-progress-bar { background-color: #dc3545; }\\n\\nprogress.warning[value]::-webkit-progress-value { background-color: #ffc107; }\\nprogress.warning:not([value])::before { background-color: #ffc107; }\\nprogress.warning:not([value])::-webkit-progress-bar { background-color: #ffc107; }\\nprogress.warning::-moz-progress-bar { background-color: #ffc107; }\\n\\nprogress.info[value]::-webkit-progress-value { background-color: #17a2b8; }\\nprogress.info:not([value])::before { background-color: #17a2b8; }\\nprogress.info:not([value])::-webkit-progress-bar { background-color: #17a2b8; }\\nprogress.info::-moz-progress-bar { background-color: #17a2b8; }\\n\\nprogress.light[value]::-webkit-progress-value { background-color: #f8f9fa; }\\nprogress.light:not([value])::before { background-color: #f8f9fa; }\\nprogress.light:not([value])::-webkit-progress-bar { background-color: #f8f9fa; }\\nprogress.light::-moz-progress-bar { background-color: #f8f9fa; }\\n\\nprogress.dark[value]::-webkit-progress-value { background-color: #343a40; }\\nprogress.dark:not([value])::-webkit-progress-bar { background-color: #343a40; }\\nprogress.dark:not([value])::before { background-color: #343a40; }\\nprogress.dark::-moz-progress-bar { background-color: #343a40; }\\n\\nprogress:not([value])::-webkit-progress-bar {\\n\\tborder-radius: 3px;\\n\\tbackground:\\n\\tlinear-gradient(-45deg, transparent 33%, rgba(0, 0, 0, 0.2) 33%, rgba(0, 0, 0, 0.2) 66%, transparent 66%) left/2.5em 1.5em;\\n}\\nprogress:not([value])::before {\\n\\tcontent:\\\" \\\";\\n\\tposition:absolute;\\n\\theight: 20px;\\n\\ttop:0;\\n\\tleft:0;\\n\\tright:0;\\n\\tbottom:0;\\n\\tborder-radius: 3px;\\n\\tbackground:\\n\\tlinear-gradient(-45deg, transparent 33%, rgba(0, 0, 0, 0.2) 33%, rgba(0, 0, 0, 0.2) 66%, transparent 66%) left/2.5em 1.5em;\\n}\\n\\n@keyframes stripes {\\n  from {background-position: 0%}\\n  to {background-position: 100%}\\n}\");\n    },\n    function(Bokeh) {\n      Bokeh.set_log_level(\"info\");\n    },\n    function(Bokeh) {\n    \n    \n    }\n  ];\n\n  function run_inline_js() {\n    \n    if (root.Bokeh !== undefined || force === true) {\n      \n    for (var i = 0; i < inline_js.length; i++) {\n      inline_js[i].call(root, root.Bokeh);\n    }\n    if (force === true) {\n        display_loaded();\n      }} else if (Date.now() < root._bokeh_timeout) {\n      setTimeout(run_inline_js, 100);\n    } else if (!root._bokeh_failed_load) {\n      console.log(\"Bokeh: BokehJS failed to load within specified timeout.\");\n      root._bokeh_failed_load = true;\n    } else if (force !== true) {\n      var cell = $(document.getElementById(\"1001\")).parents('.cell').data().cell;\n      cell.output_area.append_execute_result(NB_LOAD_WARNING)\n    }\n\n  }\n\n  if (root._bokeh_is_loading === 0) {\n    console.debug(\"Bokeh: BokehJS loaded, going straight to plotting\");\n    run_inline_js();\n  } else {\n    load_libs(css_urls, js_urls, function() {\n      console.debug(\"Bokeh: BokehJS plotting callback run at\", now());\n      run_inline_js();\n    });\n  }\n}(window));",
      "application/vnd.bokehjs_load.v0+json": "\n(function(root) {\n  function now() {\n    return new Date();\n  }\n\n  var force = true;\n\n  if (typeof root._bokeh_onload_callbacks === \"undefined\" || force === true) {\n    root._bokeh_onload_callbacks = [];\n    root._bokeh_is_loading = undefined;\n  }\n\n  \n\n  \n  if (typeof (root._bokeh_timeout) === \"undefined\" || force === true) {\n    root._bokeh_timeout = Date.now() + 5000;\n    root._bokeh_failed_load = false;\n  }\n\n  var NB_LOAD_WARNING = {'data': {'text/html':\n     \"<div style='background-color: #fdd'>\\n\"+\n     \"<p>\\n\"+\n     \"BokehJS does not appear to have successfully loaded. If loading BokehJS from CDN, this \\n\"+\n     \"may be due to a slow or bad network connection. Possible fixes:\\n\"+\n     \"</p>\\n\"+\n     \"<ul>\\n\"+\n     \"<li>re-rerun `output_notebook()` to attempt to load from CDN again, or</li>\\n\"+\n     \"<li>use INLINE resources instead, as so:</li>\\n\"+\n     \"</ul>\\n\"+\n     \"<code>\\n\"+\n     \"from bokeh.resources import INLINE\\n\"+\n     \"output_notebook(resources=INLINE)\\n\"+\n     \"</code>\\n\"+\n     \"</div>\"}};\n\n  function display_loaded() {\n    var el = document.getElementById(\"1001\");\n    if (el != null) {\n      el.textContent = \"BokehJS is loading...\";\n    }\n    if (root.Bokeh !== undefined) {\n      if (el != null) {\n        el.textContent = \"BokehJS \" + root.Bokeh.version + \" successfully loaded.\";\n      }\n    } else if (Date.now() < root._bokeh_timeout) {\n      setTimeout(display_loaded, 100)\n    }\n  }\n\n\n  function run_callbacks() {\n    try {\n      root._bokeh_onload_callbacks.forEach(function(callback) {\n        if (callback != null)\n          callback();\n      });\n    } finally {\n      delete root._bokeh_onload_callbacks\n    }\n    console.debug(\"Bokeh: all callbacks have finished\");\n  }\n\n  function load_libs(css_urls, js_urls, callback) {\n    if (css_urls == null) css_urls = [];\n    if (js_urls == null) js_urls = [];\n\n    root._bokeh_onload_callbacks.push(callback);\n    if (root._bokeh_is_loading > 0) {\n      console.debug(\"Bokeh: BokehJS is being loaded, scheduling callback at\", now());\n      return null;\n    }\n    if (js_urls == null || js_urls.length === 0) {\n      run_callbacks();\n      return null;\n    }\n    console.debug(\"Bokeh: BokehJS not loaded, scheduling load and callback at\", now());\n    root._bokeh_is_loading = css_urls.length + js_urls.length;\n\n    function on_load() {\n      root._bokeh_is_loading--;\n      if (root._bokeh_is_loading === 0) {\n        console.debug(\"Bokeh: all BokehJS libraries/stylesheets loaded\");\n        run_callbacks()\n      }\n    }\n\n    function on_error() {\n      console.error(\"failed to load \" + url);\n    }\n\n    for (var i = 0; i < css_urls.length; i++) {\n      var url = css_urls[i];\n      const element = document.createElement(\"link\");\n      element.onload = on_load;\n      element.onerror = on_error;\n      element.rel = \"stylesheet\";\n      element.type = \"text/css\";\n      element.href = url;\n      console.debug(\"Bokeh: injecting link tag for BokehJS stylesheet: \", url);\n      document.body.appendChild(element);\n    }\n\n    const hashes = {\"https://cdn.bokeh.org/bokeh/release/bokeh-2.0.1.min.js\": \"JpP8FXbgAZLkfur7LiK3j9AGBhHNIvF742meBJrjO2ShJDhCG2I1uVvW+0DUtrmc\", \"https://cdn.bokeh.org/bokeh/release/bokeh-widgets-2.0.1.min.js\": \"xZlADit0Q04ISQEdKg2k3L4W9AwQBAuDs9nJL9fM/WwzL1tEU9VPNezOFX0nLEAz\", \"https://cdn.bokeh.org/bokeh/release/bokeh-tables-2.0.1.min.js\": \"4BuPRZkdMKSnj3zoxiNrQ86XgNw0rYmBOxe7nshquXwwcauupgBF2DHLVG1WuZlV\", \"https://cdn.bokeh.org/bokeh/release/bokeh-gl-2.0.1.min.js\": \"Dv1SQ87hmDqK6S5OhBf0bCuwAEvL5QYL0PuR/F1SPVhCS/r/abjkbpKDYL2zeM19\"};\n\n    for (var i = 0; i < js_urls.length; i++) {\n      var url = js_urls[i];\n      var element = document.createElement('script');\n      element.onload = on_load;\n      element.onerror = on_error;\n      element.async = false;\n      element.src = url;\n      if (url in hashes) {\n        element.crossOrigin = \"anonymous\";\n        element.integrity = \"sha384-\" + hashes[url];\n      }\n      console.debug(\"Bokeh: injecting script tag for BokehJS library: \", url);\n      document.head.appendChild(element);\n    }\n  };var element = document.getElementById(\"1001\");\n  if (element == null) {\n    console.error(\"Bokeh: ERROR: autoload.js configured with elementid '1001' but no matching script tag was found. \")\n    return false;\n  }\n\n  function inject_raw_css(css) {\n    const element = document.createElement(\"style\");\n    element.appendChild(document.createTextNode(css));\n    document.body.appendChild(element);\n  }\n\n  \n  var js_urls = [\"https://cdn.bokeh.org/bokeh/release/bokeh-2.0.1.min.js\", \"https://cdn.bokeh.org/bokeh/release/bokeh-widgets-2.0.1.min.js\", \"https://cdn.bokeh.org/bokeh/release/bokeh-tables-2.0.1.min.js\", \"https://cdn.bokeh.org/bokeh/release/bokeh-gl-2.0.1.min.js\", \"https://unpkg.com/@holoviz/panel@^0.9.5/dist/panel.min.js\"];\n  var css_urls = [];\n  \n\n  var inline_js = [\n    function(Bokeh) {\n      inject_raw_css(\"table.panel-df {\\n    margin-left: auto;\\n    margin-right: auto;\\n    border: none;\\n    border-collapse: collapse;\\n    border-spacing: 0;\\n    color: black;\\n    font-size: 12px;\\n    table-layout: fixed;\\n    width: 100%;\\n}\\n\\n.panel-df tr, th, td {\\n    text-align: right;\\n    vertical-align: middle;\\n    padding: 0.5em 0.5em !important;\\n    line-height: normal;\\n    white-space: normal;\\n    max-width: none;\\n    border: none;\\n}\\n\\n.panel-df tbody {\\n    display: table-row-group;\\n    vertical-align: middle;\\n    border-color: inherit;\\n}\\n\\n.panel-df tbody tr:nth-child(odd) {\\n    background: #f5f5f5;\\n}\\n\\n.panel-df thead {\\n    border-bottom: 1px solid black;\\n    vertical-align: bottom;\\n}\\n\\n.panel-df tr:hover {\\n    background: lightblue !important;\\n    cursor: pointer;\\n}\\n\");\n    },\n    function(Bokeh) {\n      inject_raw_css(\".json-formatter-row {\\n  font-family: monospace;\\n}\\n.json-formatter-row,\\n.json-formatter-row a,\\n.json-formatter-row a:hover {\\n  color: black;\\n  text-decoration: none;\\n}\\n.json-formatter-row .json-formatter-row {\\n  margin-left: 1rem;\\n}\\n.json-formatter-row .json-formatter-children.json-formatter-empty {\\n  opacity: 0.5;\\n  margin-left: 1rem;\\n}\\n.json-formatter-row .json-formatter-children.json-formatter-empty:after {\\n  display: none;\\n}\\n.json-formatter-row .json-formatter-children.json-formatter-empty.json-formatter-object:after {\\n  content: \\\"No properties\\\";\\n}\\n.json-formatter-row .json-formatter-children.json-formatter-empty.json-formatter-array:after {\\n  content: \\\"[]\\\";\\n}\\n.json-formatter-row .json-formatter-string,\\n.json-formatter-row .json-formatter-stringifiable {\\n  color: green;\\n  white-space: pre;\\n  word-wrap: break-word;\\n}\\n.json-formatter-row .json-formatter-number {\\n  color: blue;\\n}\\n.json-formatter-row .json-formatter-boolean {\\n  color: red;\\n}\\n.json-formatter-row .json-formatter-null {\\n  color: #855A00;\\n}\\n.json-formatter-row .json-formatter-undefined {\\n  color: #ca0b69;\\n}\\n.json-formatter-row .json-formatter-function {\\n  color: #FF20ED;\\n}\\n.json-formatter-row .json-formatter-date {\\n  background-color: rgba(0, 0, 0, 0.05);\\n}\\n.json-formatter-row .json-formatter-url {\\n  text-decoration: underline;\\n  color: blue;\\n  cursor: pointer;\\n}\\n.json-formatter-row .json-formatter-bracket {\\n  color: blue;\\n}\\n.json-formatter-row .json-formatter-key {\\n  color: #00008B;\\n  padding-right: 0.2rem;\\n}\\n.json-formatter-row .json-formatter-toggler-link {\\n  cursor: pointer;\\n}\\n.json-formatter-row .json-formatter-toggler {\\n  line-height: 1.2rem;\\n  font-size: 0.7rem;\\n  vertical-align: middle;\\n  opacity: 0.6;\\n  cursor: pointer;\\n  padding-right: 0.2rem;\\n}\\n.json-formatter-row .json-formatter-toggler:after {\\n  display: inline-block;\\n  transition: transform 100ms ease-in;\\n  content: \\\"\\\\25BA\\\";\\n}\\n.json-formatter-row > a > .json-formatter-preview-text {\\n  opacity: 0;\\n  transition: opacity 0.15s ease-in;\\n  font-style: italic;\\n}\\n.json-formatter-row:hover > a > .json-formatter-preview-text {\\n  opacity: 0.6;\\n}\\n.json-formatter-row.json-formatter-open > .json-formatter-toggler-link .json-formatter-toggler:after {\\n  transform: rotate(90deg);\\n}\\n.json-formatter-row.json-formatter-open > .json-formatter-children:after {\\n  display: inline-block;\\n}\\n.json-formatter-row.json-formatter-open > a > .json-formatter-preview-text {\\n  display: none;\\n}\\n.json-formatter-row.json-formatter-open.json-formatter-empty:after {\\n  display: block;\\n}\\n.json-formatter-dark.json-formatter-row {\\n  font-family: monospace;\\n}\\n.json-formatter-dark.json-formatter-row,\\n.json-formatter-dark.json-formatter-row a,\\n.json-formatter-dark.json-formatter-row a:hover {\\n  color: white;\\n  text-decoration: none;\\n}\\n.json-formatter-dark.json-formatter-row .json-formatter-row {\\n  margin-left: 1rem;\\n}\\n.json-formatter-dark.json-formatter-row .json-formatter-children.json-formatter-empty {\\n  opacity: 0.5;\\n  margin-left: 1rem;\\n}\\n.json-formatter-dark.json-formatter-row .json-formatter-children.json-formatter-empty:after {\\n  display: none;\\n}\\n.json-formatter-dark.json-formatter-row .json-formatter-children.json-formatter-empty.json-formatter-object:after {\\n  content: \\\"No properties\\\";\\n}\\n.json-formatter-dark.json-formatter-row .json-formatter-children.json-formatter-empty.json-formatter-array:after {\\n  content: \\\"[]\\\";\\n}\\n.json-formatter-dark.json-formatter-row .json-formatter-string,\\n.json-formatter-dark.json-formatter-row .json-formatter-stringifiable {\\n  color: #31F031;\\n  white-space: pre;\\n  word-wrap: break-word;\\n}\\n.json-formatter-dark.json-formatter-row .json-formatter-number {\\n  color: #66C2FF;\\n}\\n.json-formatter-dark.json-formatter-row .json-formatter-boolean {\\n  color: #EC4242;\\n}\\n.json-formatter-dark.json-formatter-row .json-formatter-null {\\n  color: #EEC97D;\\n}\\n.json-formatter-dark.json-formatter-row .json-formatter-undefined {\\n  color: #ef8fbe;\\n}\\n.json-formatter-dark.json-formatter-row .json-formatter-function {\\n  color: #FD48CB;\\n}\\n.json-formatter-dark.json-formatter-row .json-formatter-date {\\n  background-color: rgba(255, 255, 255, 0.05);\\n}\\n.json-formatter-dark.json-formatter-row .json-formatter-url {\\n  text-decoration: underline;\\n  color: #027BFF;\\n  cursor: pointer;\\n}\\n.json-formatter-dark.json-formatter-row .json-formatter-bracket {\\n  color: #9494FF;\\n}\\n.json-formatter-dark.json-formatter-row .json-formatter-key {\\n  color: #23A0DB;\\n  padding-right: 0.2rem;\\n}\\n.json-formatter-dark.json-formatter-row .json-formatter-toggler-link {\\n  cursor: pointer;\\n}\\n.json-formatter-dark.json-formatter-row .json-formatter-toggler {\\n  line-height: 1.2rem;\\n  font-size: 0.7rem;\\n  vertical-align: middle;\\n  opacity: 0.6;\\n  cursor: pointer;\\n  padding-right: 0.2rem;\\n}\\n.json-formatter-dark.json-formatter-row .json-formatter-toggler:after {\\n  display: inline-block;\\n  transition: transform 100ms ease-in;\\n  content: \\\"\\\\25BA\\\";\\n}\\n.json-formatter-dark.json-formatter-row > a > .json-formatter-preview-text {\\n  opacity: 0;\\n  transition: opacity 0.15s ease-in;\\n  font-style: italic;\\n}\\n.json-formatter-dark.json-formatter-row:hover > a > .json-formatter-preview-text {\\n  opacity: 0.6;\\n}\\n.json-formatter-dark.json-formatter-row.json-formatter-open > .json-formatter-toggler-link .json-formatter-toggler:after {\\n  transform: rotate(90deg);\\n}\\n.json-formatter-dark.json-formatter-row.json-formatter-open > .json-formatter-children:after {\\n  display: inline-block;\\n}\\n.json-formatter-dark.json-formatter-row.json-formatter-open > a > .json-formatter-preview-text {\\n  display: none;\\n}\\n.json-formatter-dark.json-formatter-row.json-formatter-open.json-formatter-empty:after {\\n  display: block;\\n}\\n\");\n    },\n    function(Bokeh) {\n      inject_raw_css(\".codehilite .hll { background-color: #ffffcc }\\n.codehilite  { background: #f8f8f8; }\\n.codehilite .c { color: #408080; font-style: italic } /* Comment */\\n.codehilite .err { border: 1px solid #FF0000 } /* Error */\\n.codehilite .k { color: #008000; font-weight: bold } /* Keyword */\\n.codehilite .o { color: #666666 } /* Operator */\\n.codehilite .ch { color: #408080; font-style: italic } /* Comment.Hashbang */\\n.codehilite .cm { color: #408080; font-style: italic } /* Comment.Multiline */\\n.codehilite .cp { color: #BC7A00 } /* Comment.Preproc */\\n.codehilite .cpf { color: #408080; font-style: italic } /* Comment.PreprocFile */\\n.codehilite .c1 { color: #408080; font-style: italic } /* Comment.Single */\\n.codehilite .cs { color: #408080; font-style: italic } /* Comment.Special */\\n.codehilite .gd { color: #A00000 } /* Generic.Deleted */\\n.codehilite .ge { font-style: italic } /* Generic.Emph */\\n.codehilite .gr { color: #FF0000 } /* Generic.Error */\\n.codehilite .gh { color: #000080; font-weight: bold } /* Generic.Heading */\\n.codehilite .gi { color: #00A000 } /* Generic.Inserted */\\n.codehilite .go { color: #888888 } /* Generic.Output */\\n.codehilite .gp { color: #000080; font-weight: bold } /* Generic.Prompt */\\n.codehilite .gs { font-weight: bold } /* Generic.Strong */\\n.codehilite .gu { color: #800080; font-weight: bold } /* Generic.Subheading */\\n.codehilite .gt { color: #0044DD } /* Generic.Traceback */\\n.codehilite .kc { color: #008000; font-weight: bold } /* Keyword.Constant */\\n.codehilite .kd { color: #008000; font-weight: bold } /* Keyword.Declaration */\\n.codehilite .kn { color: #008000; font-weight: bold } /* Keyword.Namespace */\\n.codehilite .kp { color: #008000 } /* Keyword.Pseudo */\\n.codehilite .kr { color: #008000; font-weight: bold } /* Keyword.Reserved */\\n.codehilite .kt { color: #B00040 } /* Keyword.Type */\\n.codehilite .m { color: #666666 } /* Literal.Number */\\n.codehilite .s { color: #BA2121 } /* Literal.String */\\n.codehilite .na { color: #7D9029 } /* Name.Attribute */\\n.codehilite .nb { color: #008000 } /* Name.Builtin */\\n.codehilite .nc { color: #0000FF; font-weight: bold } /* Name.Class */\\n.codehilite .no { color: #880000 } /* Name.Constant */\\n.codehilite .nd { color: #AA22FF } /* Name.Decorator */\\n.codehilite .ni { color: #999999; font-weight: bold } /* Name.Entity */\\n.codehilite .ne { color: #D2413A; font-weight: bold } /* Name.Exception */\\n.codehilite .nf { color: #0000FF } /* Name.Function */\\n.codehilite .nl { color: #A0A000 } /* Name.Label */\\n.codehilite .nn { color: #0000FF; font-weight: bold } /* Name.Namespace */\\n.codehilite .nt { color: #008000; font-weight: bold } /* Name.Tag */\\n.codehilite .nv { color: #19177C } /* Name.Variable */\\n.codehilite .ow { color: #AA22FF; font-weight: bold } /* Operator.Word */\\n.codehilite .w { color: #bbbbbb } /* Text.Whitespace */\\n.codehilite .mb { color: #666666 } /* Literal.Number.Bin */\\n.codehilite .mf { color: #666666 } /* Literal.Number.Float */\\n.codehilite .mh { color: #666666 } /* Literal.Number.Hex */\\n.codehilite .mi { color: #666666 } /* Literal.Number.Integer */\\n.codehilite .mo { color: #666666 } /* Literal.Number.Oct */\\n.codehilite .sa { color: #BA2121 } /* Literal.String.Affix */\\n.codehilite .sb { color: #BA2121 } /* Literal.String.Backtick */\\n.codehilite .sc { color: #BA2121 } /* Literal.String.Char */\\n.codehilite .dl { color: #BA2121 } /* Literal.String.Delimiter */\\n.codehilite .sd { color: #BA2121; font-style: italic } /* Literal.String.Doc */\\n.codehilite .s2 { color: #BA2121 } /* Literal.String.Double */\\n.codehilite .se { color: #BB6622; font-weight: bold } /* Literal.String.Escape */\\n.codehilite .sh { color: #BA2121 } /* Literal.String.Heredoc */\\n.codehilite .si { color: #BB6688; font-weight: bold } /* Literal.String.Interpol */\\n.codehilite .sx { color: #008000 } /* Literal.String.Other */\\n.codehilite .sr { color: #BB6688 } /* Literal.String.Regex */\\n.codehilite .s1 { color: #BA2121 } /* Literal.String.Single */\\n.codehilite .ss { color: #19177C } /* Literal.String.Symbol */\\n.codehilite .bp { color: #008000 } /* Name.Builtin.Pseudo */\\n.codehilite .fm { color: #0000FF } /* Name.Function.Magic */\\n.codehilite .vc { color: #19177C } /* Name.Variable.Class */\\n.codehilite .vg { color: #19177C } /* Name.Variable.Global */\\n.codehilite .vi { color: #19177C } /* Name.Variable.Instance */\\n.codehilite .vm { color: #19177C } /* Name.Variable.Magic */\\n.codehilite .il { color: #666666 } /* Literal.Number.Integer.Long */\\n\\n.markdown h1 { margin-block-start: 0.34em }\\n.markdown h2 { margin-block-start: 0.42em }\\n.markdown h3 { margin-block-start: 0.5em }\\n.markdown h4 { margin-block-start: 0.67em }\\n.markdown h5 { margin-block-start: 0.84em }\\n.markdown h6 { margin-block-start: 1.17em }\\n.markdown ul { padding-inline-start: 2em }\\n.markdown ol { padding-inline-start: 2em }\\n.markdown strong { font-weight: 600 }\\n.markdown a { color: -webkit-link }\\n.markdown a { color: -moz-hyperlinkText }\\n\");\n    },\n    function(Bokeh) {\n      inject_raw_css(\".widget-box {\\n\\tmin-height: 20px;\\n\\tbackground-color: #f5f5f5;\\n\\tborder: 1px solid #e3e3e3 !important;\\n\\tborder-radius: 4px;\\n\\t-webkit-box-shadow: inset 0 1px 1px rgba(0,0,0,.05);\\n\\tbox-shadow: inset 0 1px 1px rgba(0,0,0,.05);\\n\\toverflow-x: hidden;\\n\\toverflow-y: hidden;\\n}\\n\\n.scrollable {\\n  overflow: scroll;\\n}\\n\\nprogress {\\n\\tappearance: none;\\n\\t-moz-appearance: none;\\n\\t-webkit-appearance: none;\\n\\n\\tborder: none;\\n\\theight: 20px;\\n\\tbackground-color: whiteSmoke;\\n\\tborder-radius: 3px;\\n\\tbox-shadow: 0 2px 3px rgba(0,0,0,.5) inset;\\n\\tcolor: royalblue;\\n\\tposition: relative;\\n\\tmargin: 0 0 1.5em;\\n}\\n\\nprogress[value]::-webkit-progress-bar {\\n\\tbackground-color: whiteSmoke;\\n\\tborder-radius: 3px;\\n\\tbox-shadow: 0 2px 3px rgba(0,0,0,.5) inset;\\n}\\n\\nprogress[value]::-webkit-progress-value {\\n\\tposition: relative;\\n\\n\\tbackground-size: 35px 20px, 100% 100%, 100% 100%;\\n\\tborder-radius:3px;\\n}\\n\\nprogress.active:not([value])::before {\\n\\tbackground-position: 10%;\\n\\tanimation-name: stripes;\\n\\tanimation-duration: 3s;\\n\\tanimation-timing-function: linear;\\n\\tanimation-iteration-count: infinite;\\n}\\n\\nprogress[value]::-moz-progress-bar {\\n\\tbackground-size: 35px 20px, 100% 100%, 100% 100%;\\n\\tborder-radius:3px;\\n}\\n\\nprogress:not([value])::-moz-progress-bar {\\n\\tborder-radius:3px;\\n\\tbackground:\\n\\tlinear-gradient(-45deg, transparent 33%, rgba(0, 0, 0, 0.2) 33%, rgba(0, 0, 0, 0.2) 66%, transparent 66%) left/2.5em 1.5em;\\n\\n}\\n\\nprogress.active:not([value])::-moz-progress-bar {\\n\\tbackground-position: 10%;\\n\\tanimation-name: stripes;\\n\\tanimation-duration: 3s;\\n\\tanimation-timing-function: linear;\\n\\tanimation-iteration-count: infinite;\\n}\\n\\nprogress.active:not([value])::-webkit-progress-bar {\\n\\tbackground-position: 10%;\\n\\tanimation-name: stripes;\\n\\tanimation-duration: 3s;\\n\\tanimation-timing-function: linear;\\n\\tanimation-iteration-count: infinite;\\n}\\n\\nprogress.primary[value]::-webkit-progress-value { background-color: #007bff; }\\nprogress.primary:not([value])::before { background-color: #007bff; }\\nprogress.primary:not([value])::-webkit-progress-bar { background-color: #007bff; }\\nprogress.primary::-moz-progress-bar { background-color: #007bff; }\\n\\nprogress.secondary[value]::-webkit-progress-value { background-color: #6c757d; }\\nprogress.secondary:not([value])::before { background-color: #6c757d; }\\nprogress.secondary:not([value])::-webkit-progress-bar { background-color: #6c757d; }\\nprogress.secondary::-moz-progress-bar { background-color: #6c757d; }\\n\\nprogress.success[value]::-webkit-progress-value { background-color: #28a745; }\\nprogress.success:not([value])::before { background-color: #28a745; }\\nprogress.success:not([value])::-webkit-progress-bar { background-color: #28a745; }\\nprogress.success::-moz-progress-bar { background-color: #28a745; }\\n\\nprogress.danger[value]::-webkit-progress-value { background-color: #dc3545; }\\nprogress.danger:not([value])::before { background-color: #dc3545; }\\nprogress.danger:not([value])::-webkit-progress-bar { background-color: #dc3545; }\\nprogress.danger::-moz-progress-bar { background-color: #dc3545; }\\n\\nprogress.warning[value]::-webkit-progress-value { background-color: #ffc107; }\\nprogress.warning:not([value])::before { background-color: #ffc107; }\\nprogress.warning:not([value])::-webkit-progress-bar { background-color: #ffc107; }\\nprogress.warning::-moz-progress-bar { background-color: #ffc107; }\\n\\nprogress.info[value]::-webkit-progress-value { background-color: #17a2b8; }\\nprogress.info:not([value])::before { background-color: #17a2b8; }\\nprogress.info:not([value])::-webkit-progress-bar { background-color: #17a2b8; }\\nprogress.info::-moz-progress-bar { background-color: #17a2b8; }\\n\\nprogress.light[value]::-webkit-progress-value { background-color: #f8f9fa; }\\nprogress.light:not([value])::before { background-color: #f8f9fa; }\\nprogress.light:not([value])::-webkit-progress-bar { background-color: #f8f9fa; }\\nprogress.light::-moz-progress-bar { background-color: #f8f9fa; }\\n\\nprogress.dark[value]::-webkit-progress-value { background-color: #343a40; }\\nprogress.dark:not([value])::-webkit-progress-bar { background-color: #343a40; }\\nprogress.dark:not([value])::before { background-color: #343a40; }\\nprogress.dark::-moz-progress-bar { background-color: #343a40; }\\n\\nprogress:not([value])::-webkit-progress-bar {\\n\\tborder-radius: 3px;\\n\\tbackground:\\n\\tlinear-gradient(-45deg, transparent 33%, rgba(0, 0, 0, 0.2) 33%, rgba(0, 0, 0, 0.2) 66%, transparent 66%) left/2.5em 1.5em;\\n}\\nprogress:not([value])::before {\\n\\tcontent:\\\" \\\";\\n\\tposition:absolute;\\n\\theight: 20px;\\n\\ttop:0;\\n\\tleft:0;\\n\\tright:0;\\n\\tbottom:0;\\n\\tborder-radius: 3px;\\n\\tbackground:\\n\\tlinear-gradient(-45deg, transparent 33%, rgba(0, 0, 0, 0.2) 33%, rgba(0, 0, 0, 0.2) 66%, transparent 66%) left/2.5em 1.5em;\\n}\\n\\n@keyframes stripes {\\n  from {background-position: 0%}\\n  to {background-position: 100%}\\n}\");\n    },\n    function(Bokeh) {\n      Bokeh.set_log_level(\"info\");\n    },\n    function(Bokeh) {\n    \n    \n    }\n  ];\n\n  function run_inline_js() {\n    \n    if (root.Bokeh !== undefined || force === true) {\n      \n    for (var i = 0; i < inline_js.length; i++) {\n      inline_js[i].call(root, root.Bokeh);\n    }\n    if (force === true) {\n        display_loaded();\n      }} else if (Date.now() < root._bokeh_timeout) {\n      setTimeout(run_inline_js, 100);\n    } else if (!root._bokeh_failed_load) {\n      console.log(\"Bokeh: BokehJS failed to load within specified timeout.\");\n      root._bokeh_failed_load = true;\n    } else if (force !== true) {\n      var cell = $(document.getElementById(\"1001\")).parents('.cell').data().cell;\n      cell.output_area.append_execute_result(NB_LOAD_WARNING)\n    }\n\n  }\n\n  if (root._bokeh_is_loading === 0) {\n    console.debug(\"Bokeh: BokehJS loaded, going straight to plotting\");\n    run_inline_js();\n  } else {\n    load_libs(css_urls, js_urls, function() {\n      console.debug(\"Bokeh: BokehJS plotting callback run at\", now());\n      run_inline_js();\n    });\n  }\n}(window));"
     },
     "metadata": {}
    }
   ],
   "source": [
    "try:\n",
    "    get_ipython().magic(u'load_ext autoreload')\n",
    "    get_ipython().magic(u'autoreload 2')\n",
    "    get_ipython().magic(u'matplotlib qt')\n",
    "except:\n",
    "    pass\n",
    "\n",
    "import matplotlib.pyplot as plt\n",
    "import numpy as np\n",
    "import os\n",
    "from tqdm import tqdm\n",
    "import napari\n",
    "from collections import namedtuple\n",
    "from scipy.optimize import curve_fit\n",
    "\n",
    "import caiman as cm\n",
    "from caiman.source_extraction.cnmf.spatial import threshold_components\n",
    "from caiman.utils.visualization import inspect_correlation_pnr\n",
    "\n",
    "import logging\n",
    "from fancylog import fancylog\n",
    "import fancylog as package\n",
    "\n",
    "import cv2\n",
    "try:\n",
    "    cv2.setNumThreads(0)\n",
    "except:\n",
    "    pass\n",
    "import bokeh.plotting as bpl\n",
    "\n",
    "from fcutils.file_io.io import load_yaml\n",
    "from fcutils.plotting.utils import clean_axes, save_figure, add_colorbar_to_img\n",
    "from fcutils.plotting.colors import * \n",
    "from fcutils.plotting.plot_elements import plot_shaded_withline\n",
    "from fcutils.maths.utils import rolling_pearson_correlation\n",
    "from fcutils.file_io.utils import check_create_folder\n",
    "\n",
    "from utils import print_cnmfe_components, plot_components_over_image, load_fit_cnmfe\n",
    "from utils import start_server, load_params,  log_cnmfe_components, load_mmap_video_caiman\n",
    "\n",
    "bpl.output_notebook()\n",
    "c, dview, n_processes = start_server()"
   ]
  },
  {
   "cell_type": "markdown",
   "metadata": {},
   "source": [
    "## Load metadta model and data"
   ]
  },
  {
   "cell_type": "code",
   "execution_count": 2,
   "metadata": {},
   "outputs": [
    {
     "output_type": "stream",
     "name": "stderr",
     "text": "INFO:root:Starting logging\n2020-04-23 14:49:53 PM - INFO - MainProcess fancylog.py:271 - Starting logging\nINFO:root:Multiprocessing-logging module not found, not logging multiple processes.\n2020-04-23 14:49:53 PM - INFO - MainProcess fancylog.py:273 - Multiprocessing-logging module not found, not logging multiple processes.\nINFO:root:Starting CNMF-E traces inspection\n2020-04-23 14:49:53 PM - INFO - MainProcess <ipython-input-2-c204b453ab8e>:17 - Starting CNMF-E traces inspection\nINFO:root:Loading CNMF-E model from: D:\\Dropbox (UCL - SWC)\\Project_vgatPAG\\analysis\\doric\\BF164p2\\19JUN26\\cnmfe_fit.hdf5\n2020-04-23 14:49:53 PM - INFO - MainProcess <ipython-input-2-c204b453ab8e>:18 - Loading CNMF-E model from: D:\\Dropbox (UCL - SWC)\\Project_vgatPAG\\analysis\\doric\\BF164p2\\19JUN26\\cnmfe_fit.hdf5\nINFO:root:ANALYSIS METADATA FILE:\n2020-04-23 14:49:53 PM - INFO - MainProcess <ipython-input-2-c204b453ab8e>:21 - ANALYSIS METADATA FILE:\nINFO:root:experimenter: Federico\n2020-04-23 14:49:53 PM - INFO - MainProcess <ipython-input-2-c204b453ab8e>:23 - experimenter: Federico\nINFO:root:fld: D:\\Dropbox (UCL - SWC)\\Project_vgatPAG\\analysis\\doric\\BF164p2\\19JUN26\n2020-04-23 14:49:53 PM - INFO - MainProcess <ipython-input-2-c204b453ab8e>:23 - fld: D:\\Dropbox (UCL - SWC)\\Project_vgatPAG\\analysis\\doric\\BF164p2\\19JUN26\nINFO:root:outputfld: MC_output_fullres\n2020-04-23 14:49:53 PM - INFO - MainProcess <ipython-input-2-c204b453ab8e>:23 - outputfld: MC_output_fullres\nINFO:root:raw_video: 19JUN26_BF164p2_ds126_raw.tif\n2020-04-23 14:49:53 PM - INFO - MainProcess <ipython-input-2-c204b453ab8e>:23 - raw_video: 19JUN26_BF164p2_ds126_raw.tif\nINFO:root:fft_bandpass_params: [{'large_structures': 126}, {'small_structures': 8}, {'suppress_stripes': 'None'}, {'autoscale': True}, {'saturate': False}, {'display': False}]\n2020-04-23 14:49:53 PM - INFO - MainProcess <ipython-input-2-c204b453ab8e>:23 - fft_bandpass_params: [{'large_structures': 126}, {'small_structures': 8}, {'suppress_stripes': 'None'}, {'autoscale': True}, {'saturate': False}, {'display': False}]\nINFO:root:fftfilt_video: 19JUN26_BF164p2_ds126_raw_fftfilt.tif\n2020-04-23 14:49:53 PM - INFO - MainProcess <ipython-input-2-c204b453ab8e>:23 - fftfilt_video: 19JUN26_BF164p2_ds126_raw_fftfilt.tif\nINFO:root:norm_by_fft_video: 19JUN26_BF164p2_ds126_raw_div_fft.tif\n2020-04-23 14:49:53 PM - INFO - MainProcess <ipython-input-2-c204b453ab8e>:23 - norm_by_fft_video: 19JUN26_BF164p2_ds126_raw_div_fft.tif\nINFO:root:video_for_mc: norm_by_fft_video\n2020-04-23 14:49:53 PM - INFO - MainProcess <ipython-input-2-c204b453ab8e>:23 - video_for_mc: norm_by_fft_video\nINFO:root:raw_video_for_mc: raw_video\n2020-04-23 14:49:53 PM - INFO - MainProcess <ipython-input-2-c204b453ab8e>:23 - raw_video_for_mc: raw_video\nINFO:root:transformed_mc_video: 19JUN26_BF164p2_ds126_raw_div_fft_els__d1_126_d2_126_d3_1_order_C_frames_15800_.mmap\n2020-04-23 14:49:53 PM - INFO - MainProcess <ipython-input-2-c204b453ab8e>:23 - transformed_mc_video: 19JUN26_BF164p2_ds126_raw_div_fft_els__d1_126_d2_126_d3_1_order_C_frames_15800_.mmap\nINFO:root:raw_mc_video: 19JUN26_BF164p2_ds126_raw_els_d1_126_d2_126_d3_1_order_C_frames_15800_.mmap\n2020-04-23 14:49:53 PM - INFO - MainProcess <ipython-input-2-c204b453ab8e>:23 - raw_mc_video: 19JUN26_BF164p2_ds126_raw_els_d1_126_d2_126_d3_1_order_C_frames_15800_.mmap\nINFO:root:video_for_cnmfe_fit: transformed_mc_video\n2020-04-23 14:49:53 PM - INFO - MainProcess <ipython-input-2-c204b453ab8e>:23 - video_for_cnmfe_fit: transformed_mc_video\nINFO:root:components_qc_params: {'filter_by_size': False, 'remove_duplicate_components': False}\n2020-04-23 14:49:53 PM - INFO - MainProcess <ipython-input-2-c204b453ab8e>:23 - components_qc_params: {'filter_by_size': False, 'remove_duplicate_components': False}\nINFO:root:spatial_th: 0.1\n2020-04-23 14:49:53 PM - INFO - MainProcess <ipython-input-2-c204b453ab8e>:23 - spatial_th: 0.1\nINFO:root:overwrite_traces: False\n2020-04-23 14:49:53 PM - INFO - MainProcess <ipython-input-2-c204b453ab8e>:23 - overwrite_traces: False\nINFO:root:rolling_pearson_wnd: 101\n2020-04-23 14:49:53 PM - INFO - MainProcess <ipython-input-2-c204b453ab8e>:23 - rolling_pearson_wnd: 101\nINFO:root:Video used for CNMF-E fitting: transformed_mc_video: D:\\Dropbox (UCL - SWC)\\Project_vgatPAG\\analysis\\doric\\BF164p2\\19JUN26\\19JUN26_BF164p2_ds126_raw_div_fft_els__d1_126_d2_126_d3_1_order_C_frames_15800_.mmap\n2020-04-23 14:49:53 PM - INFO - MainProcess <ipython-input-2-c204b453ab8e>:25 - Video used for CNMF-E fitting: transformed_mc_video: D:\\Dropbox (UCL - SWC)\\Project_vgatPAG\\analysis\\doric\\BF164p2\\19JUN26\\19JUN26_BF164p2_ds126_raw_div_fft_els__d1_126_d2_126_d3_1_order_C_frames_15800_.mmap\n"
    }
   ],
   "source": [
    "fld = 'D:\\\\Dropbox (UCL - SWC)\\\\Project_vgatPAG\\\\analysis\\\\doric\\\\BF164p2\\\\19JUN26'\n",
    "metadata = load_yaml(os.path.join(fld, \"01_PARAMS\", \"analysis_metadata.yml\"))\n",
    "\n",
    "# Load video\n",
    "video = os.path.join(fld, metadata[metadata['video_for_cnmfe_fit']])\n",
    "Yr, dims, T, images = load_mmap_video_caiman(video)\n",
    "bg = np.max(images, axis=0)\n",
    "\n",
    "\n",
    "# Load model\n",
    "cnm, model_filepath = load_fit_cnmfe(fld, n_processes, dview)\n",
    "cnm.estimates.evaluate_components(images, cnm.params, dview=dview)\n",
    "cnm.estimates.f = None # Need to set it as None otherwise the background doesn't get computed\n",
    "\n",
    "# Start logging\n",
    "fancylog.start_logging(os.path.join(fld, \"02_LOGS\"), package, file_log_level=\"INFO\", variables=[cnm.params], verbose=True,    filename='cnmfe_traces_inspection_logs')\n",
    "logging.info(\"Starting CNMF-E traces inspection\")\n",
    "logging.info(f\"Loading CNMF-E model from: {model_filepath}\")\n",
    "\n",
    "# Add analysis metadata to log\n",
    "logging.info(\"ANALYSIS METADATA FILE:\")\n",
    "for k,v in metadata.items():\n",
    "    logging.info(f\"{k}: {v}\")\n",
    "\n",
    "logging.info(f\"Video used for CNMF-E fitting: {metadata['video_for_cnmfe_fit']}: {video}\")\n"
   ]
  },
  {
   "cell_type": "code",
   "execution_count": 3,
   "metadata": {},
   "outputs": [
    {
     "output_type": "stream",
     "name": "stderr",
     "text": "WARNING:root:Computing the full background has big memory requirements!\n2020-04-23 14:49:55 PM - WARNING - MainProcess estimates.py:712 - Computing the full background has big memory requirements!\nWARNING:root:Computing the full background has big memory requirements!\n2020-04-23 14:50:05 PM - WARNING - MainProcess estimates.py:712 - Computing the full background has big memory requirements!\n"
    }
   ],
   "source": [
    "# Load videos\n",
    "video = namedtuple(\"video\", \"Yr dims T images bg\")\n",
    "vids = ['raw_pw_mc', \"transf_pw_mc\"]\n",
    "vids_paths = load_yaml(os.path.join(fld, metadata['outputfld'], \"video_paths.yml\"))\n",
    "\n",
    "videos = {}\n",
    "for vname, v in zip(['raw', 'normalized'], vids):\n",
    "    # Get video data\n",
    "    Yr, dims, T, images = load_mmap_video_caiman(vids_paths[v])\n",
    "\n",
    "    # Get video background\n",
    "    background = cnm.estimates.compute_background(Yr)\n",
    "    background = background.T.reshape((T, )+dims, order=\"F\")\n",
    "\n",
    "    # Store in dict\n",
    "    videos[vname] = video(Yr, dims, T, np.array(images), np.max(images, axis=0))\n",
    "    videos[vname+\"_background\"] = video(Yr, dims, T, np.array(background), np.max(background, axis=0))\n",
    "\n"
   ]
  },
  {
   "cell_type": "code",
   "execution_count": 4,
   "metadata": {},
   "outputs": [],
   "source": [
    "# Get components from model\n",
    "n_components = cnm.estimates.A.shape[1] #  both good and bad components\n",
    "good_components = cnm.estimates.idx_components\n",
    "bad_components = cnm.estimates.idx_components_bad\n",
    "\n",
    "# Spatial components: in a d1 x d1 x n_components matrix\n",
    "A = np.reshape(cnm.estimates.A.toarray(), list(cnm.estimates.dims)+[-1], order='F') # set of spatial footprints\n",
    "centroids = cnm.estimates.center\n",
    "centroid_colors = [seagreen if n in good_components else darkred\n",
    "                            for n in np.arange(n_components)]\n",
    "\n",
    "# Masks (a d1 x d1 x n_comp array with 1 only where each cell is )\n",
    "masks = np.zeros_like(A)\n",
    "masks[A > metadata['spatial_th']] = 1\n",
    "\n",
    "flat_mask = masks.sum(axis=2) # all masks together\n",
    "flat_mask[flat_mask > 0] = 1\n",
    "\n",
    "\n",
    "# Background stuff \n",
    "W = cnm.estimates.W.toarray() # Ring model matrix\n",
    "b0 = cnm.estimates.b0.reshape(cnm.estimates.dims).T   # constant baseline for each pixel\n",
    "\n",
    "# Temporal components\n",
    "n_frames = cnm.estimates.C.shape[1]\n",
    "C = cnm.estimates.C.T + cnm.estimates.YrA.T# set of temporal traces\n",
    "\n",
    "# Get lengs of indivudal recordings\n",
    "tiff_lengths = np.load(os.path.join(fld, '19JUN26_BF164p2_ds126_ffcSub_tifflengths.npy'))\n"
   ]
  },
  {
   "cell_type": "markdown",
   "metadata": {},
   "source": [
    "For each video we need to extract each component's trace. To do so, we use the component's mask to get the relevant pixels in the video and then we average. This is a bit slow so it's worth doing it for all components at once and saving to file, this way we can just load stuff next time"
   ]
  },
  {
   "cell_type": "code",
   "execution_count": 5,
   "metadata": {},
   "outputs": [],
   "source": [
    "def get_component_trace_from_video(cnum, masks, n_frames, video):\n",
    "    \"\"\"\n",
    "        Masks the video (d1 x d1 x nframes 3D array) with a components spatial mask\n",
    "        and averages the resulting array to get the signal's trace\n",
    "    \"\"\"\n",
    "    # Create  a mask for the whole video\n",
    "    component_mask = masks[:, :, cnum]\n",
    "    component_video_mask = np.repeat(component_mask[np.newaxis, :,:, ], n_frames, axis=0)\n",
    "    component_video_mask[component_video_mask == 0] = np.nan\n",
    "\n",
    "    # Mask the video and average to extract the trace\n",
    "    masked_video = video * component_video_mask\n",
    "    masked_video = masked_video.reshape((masked_video.shape[0], -1)) # reshape to make averaging easier\n",
    "    trace = np.nanmean(masked_video, axis=1)\n",
    "    return trace\n"
   ]
  },
  {
   "cell_type": "code",
   "execution_count": 6,
   "metadata": {},
   "outputs": [
    {
     "output_type": "stream",
     "name": "stderr",
     "text": "INFO:root:Loading traces for video raw from file\n2020-04-23 14:50:16 PM - INFO - MainProcess <ipython-input-6-9fa5fd942ae3>:7 - Loading traces for video raw from file\nINFO:root:Loading traces for video raw_background from file\n2020-04-23 14:50:16 PM - INFO - MainProcess <ipython-input-6-9fa5fd942ae3>:7 - Loading traces for video raw_background from file\nINFO:root:Loading traces for video normalized from file\n2020-04-23 14:50:16 PM - INFO - MainProcess <ipython-input-6-9fa5fd942ae3>:7 - Loading traces for video normalized from file\nINFO:root:Loading traces for video normalized_background from file\n2020-04-23 14:50:16 PM - INFO - MainProcess <ipython-input-6-9fa5fd942ae3>:7 - Loading traces for video normalized_background from file\n"
    }
   ],
   "source": [
    "# Get the video traces for each component\n",
    "video_traces = {}\n",
    "for vidname, video in videos.items():\n",
    "    \n",
    "    savename = os.path.join(fld, vidname+\"_comp_traces.npy\")\n",
    "    if not metadata['overwrite_traces'] and os.path.isfile(savename):\n",
    "        logging.info(f\"Loading traces for video {vidname} from file\")\n",
    "        traces = np.load(savename)\n",
    "    else:\n",
    "        logging.info(f\"Extracting traces for video {vidname} from data\")\n",
    "        traces = np.zeros_like(C)\n",
    "        for compn in tqdm(np.arange(n_components)):\n",
    "            traces[:, compn] = get_component_trace_from_video(compn, masks, n_frames, video.images)\n",
    "        np.save(savename, traces)\n",
    "    \n",
    "    video_traces[vidname] = traces"
   ]
  },
  {
   "cell_type": "code",
   "execution_count": 7,
   "metadata": {},
   "outputs": [],
   "source": [
    "def double_exponential(x, a, b, c, d):\n",
    "    return a * np.exp(b * x) + c * np.exp(d*x)\n",
    "\n",
    "def remove_exponential_from_trace(x, y):\n",
    "    \"\"\" Fits a double exponential to the data and returns the results\n",
    "    \n",
    "        :param x: np.array with time indices\n",
    "        :param y: np.array with signal\n",
    "        :returns: np.array with doble exponential corrected out\n",
    "    \"\"\"\n",
    "    popt, pcov = curve_fit(double_exponential, x, y,\n",
    "                        maxfev=2000, \n",
    "                        p0=(1.0,  -1e-6, 1.0,  -1e-6),\n",
    "                        bounds = [[1, -1e-1, 1, -1e-1], [300, 0, 300, 0]])\n",
    "\n",
    "    fitted_doubleexp = double_exponential(x, *popt)\n",
    "    y_pred = y - (fitted_doubleexp - np.min(fitted_doubleexp))\n",
    "    return y_pred, fitted_doubleexp"
   ]
  },
  {
   "cell_type": "markdown",
   "metadata": {},
   "source": [
    "## Visualise stuff"
   ]
  },
  {
   "cell_type": "code",
   "execution_count": 29,
   "metadata": {},
   "outputs": [
    {
     "output_type": "stream",
     "name": "stderr",
     "text": "WARNING: Attribute Qt::AA_EnableHighDpiScaling must be set before QCoreApplication is created.\nWARNING:vispy:Attribute Qt::AA_EnableHighDpiScaling must be set before QCoreApplication is created.\n2020-04-23 16:48:14 PM - WARNING - MainProcess _qt.py:187 - Attribute Qt::AA_EnableHighDpiScaling must be set before QCoreApplication is created.\n"
    }
   ],
   "source": [
    "def visualize_component(compn):\n",
    "    # Create figure\n",
    "    f, axarr = plt.subplots(ncols=4, nrows=4, figsize=(30, 12), gridspec_kw=dict(width_ratios=[1, 1, 2, 2]))\n",
    "    \n",
    "    if compn in good_components:\n",
    "        f.suptitle(f\"Component {compn} - GOOD\")\n",
    "    elif compn in bad_components:\n",
    "        f.suptitle(f\"Component {compn} - BAD\")\n",
    "    else:\n",
    "        f.suptitle(f\"Component {compn} - ??\")\n",
    "\n",
    "    # Plot images\n",
    "    compimg = axarr[0, 0].imshow(flat_mask, cmap=\"gray\") # All components \n",
    "    axarr[0, 0].scatter(centroids[compn, 1], centroids[compn, 0], color=centroid_colors[compn], s=20, alpha=1)\n",
    "\n",
    "    aimg = axarr[0, 1].imshow(A[:, :, compn], vmin=0.1) # This spatial component\n",
    "\n",
    "    bgimg = axarr[1, 0].imshow(videos['raw'].bg, cmap=\"gray\") # mean frame\n",
    "    bgimg = axarr[1, 1].imshow(videos['raw_background'].bg, cmap=\"gray\") # mean background frame\n",
    "\n",
    "\n",
    "    bgimg = axarr[2, 0].imshow(videos['normalized'].bg, cmap=\"gray\") # mean frame\n",
    "    bgimg = axarr[2, 1].imshow(videos['normalized_background'].bg, cmap=\"gray\") # mean background frame\n",
    "\n",
    "    axarr[3, 0].imshow(b0)\n",
    "\n",
    "    axarr[3, 1].imshow(videos['normalized'].bg - b0)\n",
    "\n",
    "    # Plot traces\n",
    "    x = np.arange(n_frames)\n",
    "    plot_shaded_withline(axarr[0, 2], x, C[:, compn], z=np.min(C[:, compn]), label=\"CNMF-E trace\", alpha=0.15, color=salmon)\n",
    "    # axarr[0, 2].plot(C[:, compn], color=salmon, lw=1.5, alpha=.8, label=\"CNMF-E trace\")\n",
    "    axarr[0, 2].legend()\n",
    "\n",
    "    # Plot traces from video\n",
    "    axes = [axarr[1, 2], axarr[1, 2], axarr[2, 2], axarr[2, 2]]\n",
    "    colors = [cornflowerblue, mediumseagreen, cornflowerblue, mediumseagreen]\n",
    "    for ax, color, (vidname, video) in zip(axes, colors, videos.items()):\n",
    "        y = video_traces[vidname][:, compn]\n",
    "\n",
    "        # if 'raw' in vidname.lower():\n",
    "        #    y, _ = remove_exponential_from_trace(x, y)\n",
    "\n",
    "        if 'background' in vidname:\n",
    "            kwargs = dict(lw=1, alpha=.5, zorder=10)\n",
    "        else:\n",
    "            kwargs = dict(lw=1.5, alpha=.8, zorder=99)\n",
    "\n",
    "        ax.plot(x, y, color=color, label=vidname, **kwargs)\n",
    "\n",
    "    axarr[1, 2].legend(loc=\"upper left\")\n",
    "    axarr[2, 2].legend(loc=\"upper left\")\n",
    "\n",
    "    # Plot background subtracted traces\n",
    "    axarr[0, 3].plot(x,  C[:, compn] - video_traces['normalized_background'][:, compn], color=salmon)\n",
    "    axarr[1, 3].plot(x, video_traces['raw'][:, compn] - video_traces['raw_background'][:, compn], color=cornflowerblue)\n",
    "    axarr[2, 3].plot(x, video_traces['normalized'][:, compn] - video_traces['normalized_background'][:, compn], color=cornflowerblue)\n",
    "\n",
    "\n",
    "    # Plot start of each inidivual recording\n",
    "    for ax in [axarr[0, 2], axarr[0, 3], axarr[1, 2], axarr[1, 3], axarr[2, 2], axarr[2, 3], axarr[3, 2], axarr[3, 3]]:\n",
    "        for start in tiff_lengths:\n",
    "            ax.axvline(start, lw=2, color=[.6, .6, .6], ls=\"--\", alpha=.8)\n",
    "\n",
    "\n",
    "    # Plot rolling pearson correlation between traces\n",
    "    wnd = metadata['rolling_pearson_wnd']\n",
    "    roll1 = rolling_pearson_correlation(C[:, compn], video_traces['raw'][:, compn], wnd)\n",
    "    roll2 = rolling_pearson_correlation( video_traces['raw'][:, compn], video_traces['normalized'][:, compn], wnd)\n",
    "    roll3 = rolling_pearson_correlation(C[:, compn], video_traces['normalized'][:, compn], wnd)\n",
    "\n",
    "    axarr[3, 2].plot(roll1, color=plum, lw=2, label=\"CNMF-E vs raw\")\n",
    "    axarr[3, 2].plot(roll2, color=darksalmon, lw=2, label=\"raw vs normalized\")\n",
    "    axarr[3, 2].plot(roll3, color=deepskyblue, lw=2, label=\"CNMF-E vs normalized\")\n",
    "    axarr[3, 2].legend()\n",
    "\n",
    "    # Plot rolling pearson correlation between background subtracted traces\n",
    "    roll1 = rolling_pearson_correlation(C[:, compn] - video_traces['normalized_background'][:, compn], \n",
    "                                    video_traces['raw'][:, compn]- video_traces['raw_background'][:, compn], wnd)\n",
    "    roll2 = rolling_pearson_correlation( video_traces['raw'][:, compn]- video_traces['raw_background'][:, compn], \n",
    "                                    video_traces['normalized'][:, compn]- video_traces['normalized_background'][:, compn], wnd)\n",
    "    roll3 = rolling_pearson_correlation(C[:, compn]- video_traces['normalized_background'][:, compn], \n",
    "                                    video_traces['normalized'][:, compn]- video_traces['normalized_background'][:, compn], wnd)\n",
    "\n",
    "    axarr[3, 3].plot(roll1, color=plum, lw=2, label=\"CNMF-E vs raw\")\n",
    "    axarr[3, 3].plot(roll2, color=darksalmon, lw=2, label=\"raw vs normalized\")\n",
    "    axarr[3, 3].plot(roll3, color=deepskyblue, lw=2, label=\"CNMF-E vs normalized\")\n",
    "    axarr[3, 3].legend()\n",
    "\n",
    "    # Decorate axes and stuff\n",
    "    axarr[0, 0].set(title=\"All components\", xticks=[], yticks=[])\n",
    "    axarr[0, 0].axis('off')\n",
    "    axarr[0, 1].set(title=\"Spatial component\", xticks=[], yticks=[])\n",
    "    axarr[0, 1].axis('off')\n",
    "    axarr[1, 0].set(title=\"[RAW] Mean frame\", xticks=[], yticks=[])\n",
    "    axarr[1, 0].axis('off')\n",
    "    axarr[1, 1].set(title=\"[RAW] Mean frame background\", xticks=[], yticks=[])\n",
    "    axarr[1, 1].axis('off')\n",
    "    axarr[2, 0].set(title=\"[Normalized] Max projection frame\", xticks=[], yticks=[])\n",
    "    axarr[2, 0].axis('off')\n",
    "    axarr[2, 1].set(title=\"[Normalized] Max projection frame background\", xticks=[], yticks=[])\n",
    "    axarr[2, 1].axis('off')\n",
    "\n",
    "    axarr[0, 2].set(title=\"CNMF-E CRaw trace\", xlabel=\"frames\", ylabel=\"SIGNAL\")\n",
    "    axarr[1, 2].set(title=\"[RAW] trace and background\", xlabel=\"frames\", ylabel=\"SIGNAL\")\n",
    "\n",
    "    axarr[1, 2].tick_params(axis=\"y\", labelcolor=cornflowerblue)\n",
    "    axarr[2, 2].set(title=\"[Normalized] trace and background\", xlabel=\"frames\", ylabel=\"SIGNAL\")\n",
    "    axarr[2, 2].tick_params(axis=\"y\", labelcolor=cornflowerblue)\n",
    "\n",
    "    axarr[3, 2].set(title=\"Rolling pearson correlation\", ylabel=\"correlation\", xlabel=\"frames\", ylim=[-1, 1])\n",
    "\n",
    "    axarr[3, 0].set(title=\"b0: pixel baselines\",  xticks=[], yticks=[])\n",
    "    axarr[3, 0].axis('off')\n",
    "    axarr[3, 1].set(title=\"Normalized mean frame - b0\",  xticks=[], yticks=[])\n",
    "    axarr[3, 1].axis('off')\n",
    "\n",
    "    clean_axes(f)\n",
    "    f.tight_layout()\n",
    "\n",
    "    return f\n",
    "        \n",
    "_ = visualize_component(0)"
   ]
  },
  {
   "cell_type": "code",
   "execution_count": 30,
   "metadata": {},
   "outputs": [
    {
     "output_type": "stream",
     "name": "stderr",
     "text": "0%|          | 0/44 [00:00<?, ?it/s]WARNING: Attribute Qt::AA_EnableHighDpiScaling must be set before QCoreApplication is created.\nWARNING:vispy:Attribute Qt::AA_EnableHighDpiScaling must be set before QCoreApplication is created.\n2020-04-23 16:48:46 PM - WARNING - MainProcess _qt.py:187 - Attribute Qt::AA_EnableHighDpiScaling must be set before QCoreApplication is created.\n  2%|▏         | 1/44 [00:02<01:28,  2.06s/it]WARNING: Attribute Qt::AA_EnableHighDpiScaling must be set before QCoreApplication is created.\nWARNING:vispy:Attribute Qt::AA_EnableHighDpiScaling must be set before QCoreApplication is created.\n2020-04-23 16:48:48 PM - WARNING - MainProcess _qt.py:187 - Attribute Qt::AA_EnableHighDpiScaling must be set before QCoreApplication is created.\n  5%|▍         | 2/44 [00:04<01:29,  2.12s/it]WARNING: Attribute Qt::AA_EnableHighDpiScaling must be set before QCoreApplication is created.\nWARNING:vispy:Attribute Qt::AA_EnableHighDpiScaling must be set before QCoreApplication is created.\n2020-04-23 16:48:50 PM - WARNING - MainProcess _qt.py:187 - Attribute Qt::AA_EnableHighDpiScaling must be set before QCoreApplication is created.\n  7%|▋         | 3/44 [00:06<01:27,  2.15s/it]WARNING: Attribute Qt::AA_EnableHighDpiScaling must be set before QCoreApplication is created.\nWARNING:vispy:Attribute Qt::AA_EnableHighDpiScaling must be set before QCoreApplication is created.\n2020-04-23 16:48:52 PM - WARNING - MainProcess _qt.py:187 - Attribute Qt::AA_EnableHighDpiScaling must be set before QCoreApplication is created.\n  9%|▉         | 4/44 [00:08<01:27,  2.19s/it]WARNING: Attribute Qt::AA_EnableHighDpiScaling must be set before QCoreApplication is created.\nWARNING:vispy:Attribute Qt::AA_EnableHighDpiScaling must be set before QCoreApplication is created.\n2020-04-23 16:48:54 PM - WARNING - MainProcess _qt.py:187 - Attribute Qt::AA_EnableHighDpiScaling must be set before QCoreApplication is created.\n 11%|█▏        | 5/44 [00:11<01:31,  2.36s/it]WARNING: Attribute Qt::AA_EnableHighDpiScaling must be set before QCoreApplication is created.\nWARNING:vispy:Attribute Qt::AA_EnableHighDpiScaling must be set before QCoreApplication is created.\n2020-04-23 16:48:57 PM - WARNING - MainProcess _qt.py:187 - Attribute Qt::AA_EnableHighDpiScaling must be set before QCoreApplication is created.\n 14%|█▎        | 6/44 [00:13<01:28,  2.33s/it]WARNING: Attribute Qt::AA_EnableHighDpiScaling must be set before QCoreApplication is created.\nWARNING:vispy:Attribute Qt::AA_EnableHighDpiScaling must be set before QCoreApplication is created.\n2020-04-23 16:48:59 PM - WARNING - MainProcess _qt.py:187 - Attribute Qt::AA_EnableHighDpiScaling must be set before QCoreApplication is created.\n 16%|█▌        | 7/44 [00:16<01:25,  2.32s/it]WARNING: Attribute Qt::AA_EnableHighDpiScaling must be set before QCoreApplication is created.\nWARNING:vispy:Attribute Qt::AA_EnableHighDpiScaling must be set before QCoreApplication is created.\n2020-04-23 16:49:02 PM - WARNING - MainProcess _qt.py:187 - Attribute Qt::AA_EnableHighDpiScaling must be set before QCoreApplication is created.\n 18%|█▊        | 8/44 [00:18<01:22,  2.28s/it]WARNING: Attribute Qt::AA_EnableHighDpiScaling must be set before QCoreApplication is created.\nWARNING:vispy:Attribute Qt::AA_EnableHighDpiScaling must be set before QCoreApplication is created.\n2020-04-23 16:49:04 PM - WARNING - MainProcess _qt.py:187 - Attribute Qt::AA_EnableHighDpiScaling must be set before QCoreApplication is created.\n 20%|██        | 9/44 [00:20<01:20,  2.31s/it]WARNING: Attribute Qt::AA_EnableHighDpiScaling must be set before QCoreApplication is created.\nWARNING:vispy:Attribute Qt::AA_EnableHighDpiScaling must be set before QCoreApplication is created.\n2020-04-23 16:49:06 PM - WARNING - MainProcess _qt.py:187 - Attribute Qt::AA_EnableHighDpiScaling must be set before QCoreApplication is created.\n 23%|██▎       | 10/44 [00:23<01:18,  2.31s/it]WARNING: Attribute Qt::AA_EnableHighDpiScaling must be set before QCoreApplication is created.\nWARNING:vispy:Attribute Qt::AA_EnableHighDpiScaling must be set before QCoreApplication is created.\n2020-04-23 16:49:09 PM - WARNING - MainProcess _qt.py:187 - Attribute Qt::AA_EnableHighDpiScaling must be set before QCoreApplication is created.\n 25%|██▌       | 11/44 [00:25<01:21,  2.46s/it]WARNING: Attribute Qt::AA_EnableHighDpiScaling must be set before QCoreApplication is created.\nWARNING:vispy:Attribute Qt::AA_EnableHighDpiScaling must be set before QCoreApplication is created.\n2020-04-23 16:49:11 PM - WARNING - MainProcess _qt.py:187 - Attribute Qt::AA_EnableHighDpiScaling must be set before QCoreApplication is created.\n 27%|██▋       | 12/44 [00:28<01:18,  2.44s/it]WARNING: Attribute Qt::AA_EnableHighDpiScaling must be set before QCoreApplication is created.\nWARNING:vispy:Attribute Qt::AA_EnableHighDpiScaling must be set before QCoreApplication is created.\n2020-04-23 16:49:14 PM - WARNING - MainProcess _qt.py:187 - Attribute Qt::AA_EnableHighDpiScaling must be set before QCoreApplication is created.\n 30%|██▉       | 13/44 [00:30<01:14,  2.40s/it]WARNING: Attribute Qt::AA_EnableHighDpiScaling must be set before QCoreApplication is created.\nWARNING:vispy:Attribute Qt::AA_EnableHighDpiScaling must be set before QCoreApplication is created.\n2020-04-23 16:49:16 PM - WARNING - MainProcess _qt.py:187 - Attribute Qt::AA_EnableHighDpiScaling must be set before QCoreApplication is created.\n 32%|███▏      | 14/44 [00:32<01:10,  2.35s/it]WARNING: Attribute Qt::AA_EnableHighDpiScaling must be set before QCoreApplication is created.\nWARNING:vispy:Attribute Qt::AA_EnableHighDpiScaling must be set before QCoreApplication is created.\n2020-04-23 16:49:18 PM - WARNING - MainProcess _qt.py:187 - Attribute Qt::AA_EnableHighDpiScaling must be set before QCoreApplication is created.\n 34%|███▍      | 15/44 [00:35<01:07,  2.33s/it]WARNING: Attribute Qt::AA_EnableHighDpiScaling must be set before QCoreApplication is created.\nWARNING:vispy:Attribute Qt::AA_EnableHighDpiScaling must be set before QCoreApplication is created.\n2020-04-23 16:49:21 PM - WARNING - MainProcess _qt.py:187 - Attribute Qt::AA_EnableHighDpiScaling must be set before QCoreApplication is created.\n 36%|███▋      | 16/44 [00:37<01:04,  2.32s/it]WARNING: Attribute Qt::AA_EnableHighDpiScaling must be set before QCoreApplication is created.\nWARNING:vispy:Attribute Qt::AA_EnableHighDpiScaling must be set before QCoreApplication is created.\n2020-04-23 16:49:23 PM - WARNING - MainProcess _qt.py:187 - Attribute Qt::AA_EnableHighDpiScaling must be set before QCoreApplication is created.\n 39%|███▊      | 17/44 [00:40<01:07,  2.50s/it]WARNING: Attribute Qt::AA_EnableHighDpiScaling must be set before QCoreApplication is created.\nWARNING:vispy:Attribute Qt::AA_EnableHighDpiScaling must be set before QCoreApplication is created.\n2020-04-23 16:49:26 PM - WARNING - MainProcess _qt.py:187 - Attribute Qt::AA_EnableHighDpiScaling must be set before QCoreApplication is created.\n 41%|████      | 18/44 [00:42<01:03,  2.44s/it]WARNING: Attribute Qt::AA_EnableHighDpiScaling must be set before QCoreApplication is created.\nWARNING:vispy:Attribute Qt::AA_EnableHighDpiScaling must be set before QCoreApplication is created.\n2020-04-23 16:49:28 PM - WARNING - MainProcess _qt.py:187 - Attribute Qt::AA_EnableHighDpiScaling must be set before QCoreApplication is created.\n 43%|████▎     | 19/44 [00:45<01:01,  2.44s/it]WARNING: Attribute Qt::AA_EnableHighDpiScaling must be set before QCoreApplication is created.\nWARNING:vispy:Attribute Qt::AA_EnableHighDpiScaling must be set before QCoreApplication is created.\n2020-04-23 16:49:31 PM - WARNING - MainProcess _qt.py:187 - Attribute Qt::AA_EnableHighDpiScaling must be set before QCoreApplication is created.\n 45%|████▌     | 20/44 [00:47<00:57,  2.39s/it]WARNING: Attribute Qt::AA_EnableHighDpiScaling must be set before QCoreApplication is created.\nWARNING:vispy:Attribute Qt::AA_EnableHighDpiScaling must be set before QCoreApplication is created.\n2020-04-23 16:49:33 PM - WARNING - MainProcess _qt.py:187 - Attribute Qt::AA_EnableHighDpiScaling must be set before QCoreApplication is created.\n 48%|████▊     | 21/44 [00:49<00:54,  2.37s/it]WARNING: Attribute Qt::AA_EnableHighDpiScaling must be set before QCoreApplication is created.\nWARNING:vispy:Attribute Qt::AA_EnableHighDpiScaling must be set before QCoreApplication is created.\n2020-04-23 16:49:35 PM - WARNING - MainProcess _qt.py:187 - Attribute Qt::AA_EnableHighDpiScaling must be set before QCoreApplication is created.\n 50%|█████     | 22/44 [00:51<00:51,  2.33s/it]WARNING: Attribute Qt::AA_EnableHighDpiScaling must be set before QCoreApplication is created.\nWARNING:vispy:Attribute Qt::AA_EnableHighDpiScaling must be set before QCoreApplication is created.\n2020-04-23 16:49:37 PM - WARNING - MainProcess _qt.py:187 - Attribute Qt::AA_EnableHighDpiScaling must be set before QCoreApplication is created.\n 52%|█████▏    | 23/44 [00:54<00:53,  2.53s/it]WARNING: Attribute Qt::AA_EnableHighDpiScaling must be set before QCoreApplication is created.\nWARNING:vispy:Attribute Qt::AA_EnableHighDpiScaling must be set before QCoreApplication is created.\n2020-04-23 16:49:40 PM - WARNING - MainProcess _qt.py:187 - Attribute Qt::AA_EnableHighDpiScaling must be set before QCoreApplication is created.\n 55%|█████▍    | 24/44 [00:57<00:49,  2.48s/it]WARNING: Attribute Qt::AA_EnableHighDpiScaling must be set before QCoreApplication is created.\nWARNING:vispy:Attribute Qt::AA_EnableHighDpiScaling must be set before QCoreApplication is created.\n2020-04-23 16:49:43 PM - WARNING - MainProcess _qt.py:187 - Attribute Qt::AA_EnableHighDpiScaling must be set before QCoreApplication is created.\n 57%|█████▋    | 25/44 [00:59<00:46,  2.47s/it]WARNING: Attribute Qt::AA_EnableHighDpiScaling must be set before QCoreApplication is created.\nWARNING:vispy:Attribute Qt::AA_EnableHighDpiScaling must be set before QCoreApplication is created.\n2020-04-23 16:49:45 PM - WARNING - MainProcess _qt.py:187 - Attribute Qt::AA_EnableHighDpiScaling must be set before QCoreApplication is created.\n 59%|█████▉    | 26/44 [01:02<00:45,  2.52s/it]WARNING: Attribute Qt::AA_EnableHighDpiScaling must be set before QCoreApplication is created.\nWARNING:vispy:Attribute Qt::AA_EnableHighDpiScaling must be set before QCoreApplication is created.\n2020-04-23 16:49:48 PM - WARNING - MainProcess _qt.py:187 - Attribute Qt::AA_EnableHighDpiScaling must be set before QCoreApplication is created.\n 61%|██████▏   | 27/44 [01:04<00:43,  2.55s/it]WARNING: Attribute Qt::AA_EnableHighDpiScaling must be set before QCoreApplication is created.\nWARNING:vispy:Attribute Qt::AA_EnableHighDpiScaling must be set before QCoreApplication is created.\n2020-04-23 16:49:51 PM - WARNING - MainProcess _qt.py:187 - Attribute Qt::AA_EnableHighDpiScaling must be set before QCoreApplication is created.\n 64%|██████▎   | 28/44 [01:07<00:40,  2.55s/it]WARNING: Attribute Qt::AA_EnableHighDpiScaling must be set before QCoreApplication is created.\nWARNING:vispy:Attribute Qt::AA_EnableHighDpiScaling must be set before QCoreApplication is created.\n2020-04-23 16:49:53 PM - WARNING - MainProcess _qt.py:187 - Attribute Qt::AA_EnableHighDpiScaling must be set before QCoreApplication is created.\n 66%|██████▌   | 29/44 [01:10<00:41,  2.76s/it]WARNING: Attribute Qt::AA_EnableHighDpiScaling must be set before QCoreApplication is created.\nWARNING:vispy:Attribute Qt::AA_EnableHighDpiScaling must be set before QCoreApplication is created.\n2020-04-23 16:49:56 PM - WARNING - MainProcess _qt.py:187 - Attribute Qt::AA_EnableHighDpiScaling must be set before QCoreApplication is created.\n 68%|██████▊   | 30/44 [01:13<00:37,  2.68s/it]WARNING: Attribute Qt::AA_EnableHighDpiScaling must be set before QCoreApplication is created.\nWARNING:vispy:Attribute Qt::AA_EnableHighDpiScaling must be set before QCoreApplication is created.\n2020-04-23 16:49:59 PM - WARNING - MainProcess _qt.py:187 - Attribute Qt::AA_EnableHighDpiScaling must be set before QCoreApplication is created.\n 70%|███████   | 31/44 [01:15<00:34,  2.69s/it]WARNING: Attribute Qt::AA_EnableHighDpiScaling must be set before QCoreApplication is created.\nWARNING:vispy:Attribute Qt::AA_EnableHighDpiScaling must be set before QCoreApplication is created.\n2020-04-23 16:50:02 PM - WARNING - MainProcess _qt.py:187 - Attribute Qt::AA_EnableHighDpiScaling must be set before QCoreApplication is created.\n 73%|███████▎  | 32/44 [01:18<00:30,  2.57s/it]WARNING: Attribute Qt::AA_EnableHighDpiScaling must be set before QCoreApplication is created.\nWARNING:vispy:Attribute Qt::AA_EnableHighDpiScaling must be set before QCoreApplication is created.\n2020-04-23 16:50:04 PM - WARNING - MainProcess _qt.py:187 - Attribute Qt::AA_EnableHighDpiScaling must be set before QCoreApplication is created.\n 75%|███████▌  | 33/44 [01:20<00:27,  2.52s/it]WARNING: Attribute Qt::AA_EnableHighDpiScaling must be set before QCoreApplication is created.\nWARNING:vispy:Attribute Qt::AA_EnableHighDpiScaling must be set before QCoreApplication is created.\n2020-04-23 16:50:06 PM - WARNING - MainProcess _qt.py:187 - Attribute Qt::AA_EnableHighDpiScaling must be set before QCoreApplication is created.\n 77%|███████▋  | 34/44 [01:23<00:24,  2.49s/it]WARNING: Attribute Qt::AA_EnableHighDpiScaling must be set before QCoreApplication is created.\nWARNING:vispy:Attribute Qt::AA_EnableHighDpiScaling must be set before QCoreApplication is created.\n2020-04-23 16:50:09 PM - WARNING - MainProcess _qt.py:187 - Attribute Qt::AA_EnableHighDpiScaling must be set before QCoreApplication is created.\n 80%|███████▉  | 35/44 [01:25<00:22,  2.49s/it]WARNING: Attribute Qt::AA_EnableHighDpiScaling must be set before QCoreApplication is created.\nWARNING:vispy:Attribute Qt::AA_EnableHighDpiScaling must be set before QCoreApplication is created.\n2020-04-23 16:50:11 PM - WARNING - MainProcess _qt.py:187 - Attribute Qt::AA_EnableHighDpiScaling must be set before QCoreApplication is created.\n 82%|████████▏ | 36/44 [01:28<00:20,  2.62s/it]WARNING: Attribute Qt::AA_EnableHighDpiScaling must be set before QCoreApplication is created.\nWARNING:vispy:Attribute Qt::AA_EnableHighDpiScaling must be set before QCoreApplication is created.\n2020-04-23 16:50:14 PM - WARNING - MainProcess _qt.py:187 - Attribute Qt::AA_EnableHighDpiScaling must be set before QCoreApplication is created.\n 84%|████████▍ | 37/44 [01:31<00:18,  2.62s/it]WARNING: Attribute Qt::AA_EnableHighDpiScaling must be set before QCoreApplication is created.\nWARNING:vispy:Attribute Qt::AA_EnableHighDpiScaling must be set before QCoreApplication is created.\n2020-04-23 16:50:17 PM - WARNING - MainProcess _qt.py:187 - Attribute Qt::AA_EnableHighDpiScaling must be set before QCoreApplication is created.\n 86%|████████▋ | 38/44 [01:33<00:15,  2.55s/it]WARNING: Attribute Qt::AA_EnableHighDpiScaling must be set before QCoreApplication is created.\nWARNING:vispy:Attribute Qt::AA_EnableHighDpiScaling must be set before QCoreApplication is created.\n2020-04-23 16:50:19 PM - WARNING - MainProcess _qt.py:187 - Attribute Qt::AA_EnableHighDpiScaling must be set before QCoreApplication is created.\n 89%|████████▊ | 39/44 [01:35<00:12,  2.54s/it]WARNING: Attribute Qt::AA_EnableHighDpiScaling must be set before QCoreApplication is created.\nWARNING:vispy:Attribute Qt::AA_EnableHighDpiScaling must be set before QCoreApplication is created.\n2020-04-23 16:50:22 PM - WARNING - MainProcess _qt.py:187 - Attribute Qt::AA_EnableHighDpiScaling must be set before QCoreApplication is created.\n 91%|█████████ | 40/44 [01:38<00:09,  2.48s/it]WARNING: Attribute Qt::AA_EnableHighDpiScaling must be set before QCoreApplication is created.\nWARNING:vispy:Attribute Qt::AA_EnableHighDpiScaling must be set before QCoreApplication is created.\n2020-04-23 16:50:24 PM - WARNING - MainProcess _qt.py:187 - Attribute Qt::AA_EnableHighDpiScaling must be set before QCoreApplication is created.\n 93%|█████████▎| 41/44 [01:40<00:07,  2.54s/it]WARNING: Attribute Qt::AA_EnableHighDpiScaling must be set before QCoreApplication is created.\nWARNING:vispy:Attribute Qt::AA_EnableHighDpiScaling must be set before QCoreApplication is created.\n2020-04-23 16:50:27 PM - WARNING - MainProcess _qt.py:187 - Attribute Qt::AA_EnableHighDpiScaling must be set before QCoreApplication is created.\n 95%|█████████▌| 42/44 [01:43<00:05,  2.62s/it]WARNING: Attribute Qt::AA_EnableHighDpiScaling must be set before QCoreApplication is created.\nWARNING:vispy:Attribute Qt::AA_EnableHighDpiScaling must be set before QCoreApplication is created.\n2020-04-23 16:50:29 PM - WARNING - MainProcess _qt.py:187 - Attribute Qt::AA_EnableHighDpiScaling must be set before QCoreApplication is created.\n 98%|█████████▊| 43/44 [01:46<00:02,  2.56s/it]WARNING: Attribute Qt::AA_EnableHighDpiScaling must be set before QCoreApplication is created.\nWARNING:vispy:Attribute Qt::AA_EnableHighDpiScaling must be set before QCoreApplication is created.\n2020-04-23 16:50:32 PM - WARNING - MainProcess _qt.py:187 - Attribute Qt::AA_EnableHighDpiScaling must be set before QCoreApplication is created.\n100%|██████████| 44/44 [01:48<00:00,  2.47s/it]\n"
    }
   ],
   "source": [
    "# save a figure for each component\n",
    "save_fld = os.path.join(fld, \"cnmfe_components\")\n",
    "check_create_folder(save_fld)\n",
    "\n",
    "plt.ioff()\n",
    "\n",
    "for compn in tqdm(np.arange(n_components)):\n",
    "    savename = os.path.join(save_fld, f\"component_{compn}\")\n",
    "    f = visualize_component(compn)\n",
    "    save_figure(f, savename, verbose=False)\n",
    "    plt.close(f)\n",
    "\n",
    "plt.ion()"
   ]
  },
  {
   "cell_type": "code",
   "execution_count": null,
   "metadata": {},
   "outputs": [],
   "source": []
  }
 ],
 "metadata": {
  "file_extension": ".py",
  "kernelspec": {
   "display_name": "Python 3.6.10 64-bit ('cai': conda)",
   "language": "python",
   "name": "python361064bitcaiconda8c51914467a4460685b7f212a4ce3dd5"
  },
  "language_info": {
   "codemirror_mode": {
    "name": "ipython",
    "version": 3
   },
   "file_extension": ".py",
   "mimetype": "text/x-python",
   "name": "python",
   "nbconvert_exporter": "python",
   "pygments_lexer": "ipython3",
   "version": "3.6.4-final"
  },
  "mimetype": "text/x-python",
  "name": "python",
  "npconvert_exporter": "python",
  "pygments_lexer": "ipython3",
  "version": 3
 },
 "nbformat": 4,
 "nbformat_minor": 2
}