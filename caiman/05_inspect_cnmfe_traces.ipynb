{
 "cells": [
  {
   "cell_type": "markdown",
   "metadata": {},
   "source": [
    "# Inspect CNMF-E traces\n",
    "\n",
    "This code is to look at the time component of each cell. The main goal is to look at the signal for each ROI as extracted by CNMF-E vs the background signal vs using the same ROI to get raw signal out of the raw motion correct and the fft normalized (motion corrected) videos\n",
    "\n"
   ]
  },
  {
   "cell_type": "code",
   "execution_count": 1,
   "metadata": {},
   "outputs": [
    {
     "output_type": "display_data",
     "data": {
      "text/html": "\n    <div class=\"bk-root\">\n        <a href=\"https://bokeh.org\" target=\"_blank\" class=\"bk-logo bk-logo-small bk-logo-notebook\"></a>\n        <span id=\"1001\">Loading BokehJS ...</span>\n    </div>"
     },
     "metadata": {}
    },
    {
     "output_type": "display_data",
     "data": {
      "application/javascript": "\n(function(root) {\n  function now() {\n    return new Date();\n  }\n\n  var force = true;\n\n  if (typeof root._bokeh_onload_callbacks === \"undefined\" || force === true) {\n    root._bokeh_onload_callbacks = [];\n    root._bokeh_is_loading = undefined;\n  }\n\n  var JS_MIME_TYPE = 'application/javascript';\n  var HTML_MIME_TYPE = 'text/html';\n  var EXEC_MIME_TYPE = 'application/vnd.bokehjs_exec.v0+json';\n  var CLASS_NAME = 'output_bokeh rendered_html';\n\n  /**\n   * Render data to the DOM node\n   */\n  function render(props, node) {\n    var script = document.createElement(\"script\");\n    node.appendChild(script);\n  }\n\n  /**\n   * Handle when an output is cleared or removed\n   */\n  function handleClearOutput(event, handle) {\n    var cell = handle.cell;\n\n    var id = cell.output_area._bokeh_element_id;\n    var server_id = cell.output_area._bokeh_server_id;\n    // Clean up Bokeh references\n    if (id != null && id in Bokeh.index) {\n      Bokeh.index[id].model.document.clear();\n      delete Bokeh.index[id];\n    }\n\n    if (server_id !== undefined) {\n      // Clean up Bokeh references\n      var cmd = \"from bokeh.io.state import curstate; print(curstate().uuid_to_server['\" + server_id + \"'].get_sessions()[0].document.roots[0]._id)\";\n      cell.notebook.kernel.execute(cmd, {\n        iopub: {\n          output: function(msg) {\n            var id = msg.content.text.trim();\n            if (id in Bokeh.index) {\n              Bokeh.index[id].model.document.clear();\n              delete Bokeh.index[id];\n            }\n          }\n        }\n      });\n      // Destroy server and session\n      var cmd = \"import bokeh.io.notebook as ion; ion.destroy_server('\" + server_id + \"')\";\n      cell.notebook.kernel.execute(cmd);\n    }\n  }\n\n  /**\n   * Handle when a new output is added\n   */\n  function handleAddOutput(event, handle) {\n    var output_area = handle.output_area;\n    var output = handle.output;\n\n    // limit handleAddOutput to display_data with EXEC_MIME_TYPE content only\n    if ((output.output_type != \"display_data\") || (!output.data.hasOwnProperty(EXEC_MIME_TYPE))) {\n      return\n    }\n\n    var toinsert = output_area.element.find(\".\" + CLASS_NAME.split(' ')[0]);\n\n    if (output.metadata[EXEC_MIME_TYPE][\"id\"] !== undefined) {\n      toinsert[toinsert.length - 1].firstChild.textContent = output.data[JS_MIME_TYPE];\n      // store reference to embed id on output_area\n      output_area._bokeh_element_id = output.metadata[EXEC_MIME_TYPE][\"id\"];\n    }\n    if (output.metadata[EXEC_MIME_TYPE][\"server_id\"] !== undefined) {\n      var bk_div = document.createElement(\"div\");\n      bk_div.innerHTML = output.data[HTML_MIME_TYPE];\n      var script_attrs = bk_div.children[0].attributes;\n      for (var i = 0; i < script_attrs.length; i++) {\n        toinsert[toinsert.length - 1].firstChild.setAttribute(script_attrs[i].name, script_attrs[i].value);\n        toinsert[toinsert.length - 1].firstChild.textContent = bk_div.children[0].textContent\n      }\n      // store reference to server id on output_area\n      output_area._bokeh_server_id = output.metadata[EXEC_MIME_TYPE][\"server_id\"];\n    }\n  }\n\n  function register_renderer(events, OutputArea) {\n\n    function append_mime(data, metadata, element) {\n      // create a DOM node to render to\n      var toinsert = this.create_output_subarea(\n        metadata,\n        CLASS_NAME,\n        EXEC_MIME_TYPE\n      );\n      this.keyboard_manager.register_events(toinsert);\n      // Render to node\n      var props = {data: data, metadata: metadata[EXEC_MIME_TYPE]};\n      render(props, toinsert[toinsert.length - 1]);\n      element.append(toinsert);\n      return toinsert\n    }\n\n    /* Handle when an output is cleared or removed */\n    events.on('clear_output.CodeCell', handleClearOutput);\n    events.on('delete.Cell', handleClearOutput);\n\n    /* Handle when a new output is added */\n    events.on('output_added.OutputArea', handleAddOutput);\n\n    /**\n     * Register the mime type and append_mime function with output_area\n     */\n    OutputArea.prototype.register_mime_type(EXEC_MIME_TYPE, append_mime, {\n      /* Is output safe? */\n      safe: true,\n      /* Index of renderer in `output_area.display_order` */\n      index: 0\n    });\n  }\n\n  // register the mime type if in Jupyter Notebook environment and previously unregistered\n  if (root.Jupyter !== undefined) {\n    var events = require('base/js/events');\n    var OutputArea = require('notebook/js/outputarea').OutputArea;\n\n    if (OutputArea.prototype.mime_types().indexOf(EXEC_MIME_TYPE) == -1) {\n      register_renderer(events, OutputArea);\n    }\n  }\n\n  \n  if (typeof (root._bokeh_timeout) === \"undefined\" || force === true) {\n    root._bokeh_timeout = Date.now() + 5000;\n    root._bokeh_failed_load = false;\n  }\n\n  var NB_LOAD_WARNING = {'data': {'text/html':\n     \"<div style='background-color: #fdd'>\\n\"+\n     \"<p>\\n\"+\n     \"BokehJS does not appear to have successfully loaded. If loading BokehJS from CDN, this \\n\"+\n     \"may be due to a slow or bad network connection. Possible fixes:\\n\"+\n     \"</p>\\n\"+\n     \"<ul>\\n\"+\n     \"<li>re-rerun `output_notebook()` to attempt to load from CDN again, or</li>\\n\"+\n     \"<li>use INLINE resources instead, as so:</li>\\n\"+\n     \"</ul>\\n\"+\n     \"<code>\\n\"+\n     \"from bokeh.resources import INLINE\\n\"+\n     \"output_notebook(resources=INLINE)\\n\"+\n     \"</code>\\n\"+\n     \"</div>\"}};\n\n  function display_loaded() {\n    var el = document.getElementById(\"1001\");\n    if (el != null) {\n      el.textContent = \"BokehJS is loading...\";\n    }\n    if (root.Bokeh !== undefined) {\n      if (el != null) {\n        el.textContent = \"BokehJS \" + root.Bokeh.version + \" successfully loaded.\";\n      }\n    } else if (Date.now() < root._bokeh_timeout) {\n      setTimeout(display_loaded, 100)\n    }\n  }\n\n\n  function run_callbacks() {\n    try {\n      root._bokeh_onload_callbacks.forEach(function(callback) {\n        if (callback != null)\n          callback();\n      });\n    } finally {\n      delete root._bokeh_onload_callbacks\n    }\n    console.debug(\"Bokeh: all callbacks have finished\");\n  }\n\n  function load_libs(css_urls, js_urls, callback) {\n    if (css_urls == null) css_urls = [];\n    if (js_urls == null) js_urls = [];\n\n    root._bokeh_onload_callbacks.push(callback);\n    if (root._bokeh_is_loading > 0) {\n      console.debug(\"Bokeh: BokehJS is being loaded, scheduling callback at\", now());\n      return null;\n    }\n    if (js_urls == null || js_urls.length === 0) {\n      run_callbacks();\n      return null;\n    }\n    console.debug(\"Bokeh: BokehJS not loaded, scheduling load and callback at\", now());\n    root._bokeh_is_loading = css_urls.length + js_urls.length;\n\n    function on_load() {\n      root._bokeh_is_loading--;\n      if (root._bokeh_is_loading === 0) {\n        console.debug(\"Bokeh: all BokehJS libraries/stylesheets loaded\");\n        run_callbacks()\n      }\n    }\n\n    function on_error() {\n      console.error(\"failed to load \" + url);\n    }\n\n    for (var i = 0; i < css_urls.length; i++) {\n      var url = css_urls[i];\n      const element = document.createElement(\"link\");\n      element.onload = on_load;\n      element.onerror = on_error;\n      element.rel = \"stylesheet\";\n      element.type = \"text/css\";\n      element.href = url;\n      console.debug(\"Bokeh: injecting link tag for BokehJS stylesheet: \", url);\n      document.body.appendChild(element);\n    }\n\n    const hashes = {\"https://cdn.bokeh.org/bokeh/release/bokeh-2.0.1.min.js\": \"JpP8FXbgAZLkfur7LiK3j9AGBhHNIvF742meBJrjO2ShJDhCG2I1uVvW+0DUtrmc\", \"https://cdn.bokeh.org/bokeh/release/bokeh-widgets-2.0.1.min.js\": \"xZlADit0Q04ISQEdKg2k3L4W9AwQBAuDs9nJL9fM/WwzL1tEU9VPNezOFX0nLEAz\", \"https://cdn.bokeh.org/bokeh/release/bokeh-tables-2.0.1.min.js\": \"4BuPRZkdMKSnj3zoxiNrQ86XgNw0rYmBOxe7nshquXwwcauupgBF2DHLVG1WuZlV\", \"https://cdn.bokeh.org/bokeh/release/bokeh-gl-2.0.1.min.js\": \"Dv1SQ87hmDqK6S5OhBf0bCuwAEvL5QYL0PuR/F1SPVhCS/r/abjkbpKDYL2zeM19\"};\n\n    for (var i = 0; i < js_urls.length; i++) {\n      var url = js_urls[i];\n      var element = document.createElement('script');\n      element.onload = on_load;\n      element.onerror = on_error;\n      element.async = false;\n      element.src = url;\n      if (url in hashes) {\n        element.crossOrigin = \"anonymous\";\n        element.integrity = \"sha384-\" + hashes[url];\n      }\n      console.debug(\"Bokeh: injecting script tag for BokehJS library: \", url);\n      document.head.appendChild(element);\n    }\n  };var element = document.getElementById(\"1001\");\n  if (element == null) {\n    console.error(\"Bokeh: ERROR: autoload.js configured with elementid '1001' but no matching script tag was found. \")\n    return false;\n  }\n\n  function inject_raw_css(css) {\n    const element = document.createElement(\"style\");\n    element.appendChild(document.createTextNode(css));\n    document.body.appendChild(element);\n  }\n\n  \n  var js_urls = [\"https://cdn.bokeh.org/bokeh/release/bokeh-2.0.1.min.js\", \"https://cdn.bokeh.org/bokeh/release/bokeh-widgets-2.0.1.min.js\", \"https://cdn.bokeh.org/bokeh/release/bokeh-tables-2.0.1.min.js\", \"https://cdn.bokeh.org/bokeh/release/bokeh-gl-2.0.1.min.js\", \"https://unpkg.com/@holoviz/panel@^0.9.5/dist/panel.min.js\"];\n  var css_urls = [];\n  \n\n  var inline_js = [\n    function(Bokeh) {\n      inject_raw_css(\"table.panel-df {\\n    margin-left: auto;\\n    margin-right: auto;\\n    border: none;\\n    border-collapse: collapse;\\n    border-spacing: 0;\\n    color: black;\\n    font-size: 12px;\\n    table-layout: fixed;\\n    width: 100%;\\n}\\n\\n.panel-df tr, th, td {\\n    text-align: right;\\n    vertical-align: middle;\\n    padding: 0.5em 0.5em !important;\\n    line-height: normal;\\n    white-space: normal;\\n    max-width: none;\\n    border: none;\\n}\\n\\n.panel-df tbody {\\n    display: table-row-group;\\n    vertical-align: middle;\\n    border-color: inherit;\\n}\\n\\n.panel-df tbody tr:nth-child(odd) {\\n    background: #f5f5f5;\\n}\\n\\n.panel-df thead {\\n    border-bottom: 1px solid black;\\n    vertical-align: bottom;\\n}\\n\\n.panel-df tr:hover {\\n    background: lightblue !important;\\n    cursor: pointer;\\n}\\n\");\n    },\n    function(Bokeh) {\n      inject_raw_css(\".json-formatter-row {\\n  font-family: monospace;\\n}\\n.json-formatter-row,\\n.json-formatter-row a,\\n.json-formatter-row a:hover {\\n  color: black;\\n  text-decoration: none;\\n}\\n.json-formatter-row .json-formatter-row {\\n  margin-left: 1rem;\\n}\\n.json-formatter-row .json-formatter-children.json-formatter-empty {\\n  opacity: 0.5;\\n  margin-left: 1rem;\\n}\\n.json-formatter-row .json-formatter-children.json-formatter-empty:after {\\n  display: none;\\n}\\n.json-formatter-row .json-formatter-children.json-formatter-empty.json-formatter-object:after {\\n  content: \\\"No properties\\\";\\n}\\n.json-formatter-row .json-formatter-children.json-formatter-empty.json-formatter-array:after {\\n  content: \\\"[]\\\";\\n}\\n.json-formatter-row .json-formatter-string,\\n.json-formatter-row .json-formatter-stringifiable {\\n  color: green;\\n  white-space: pre;\\n  word-wrap: break-word;\\n}\\n.json-formatter-row .json-formatter-number {\\n  color: blue;\\n}\\n.json-formatter-row .json-formatter-boolean {\\n  color: red;\\n}\\n.json-formatter-row .json-formatter-null {\\n  color: #855A00;\\n}\\n.json-formatter-row .json-formatter-undefined {\\n  color: #ca0b69;\\n}\\n.json-formatter-row .json-formatter-function {\\n  color: #FF20ED;\\n}\\n.json-formatter-row .json-formatter-date {\\n  background-color: rgba(0, 0, 0, 0.05);\\n}\\n.json-formatter-row .json-formatter-url {\\n  text-decoration: underline;\\n  color: blue;\\n  cursor: pointer;\\n}\\n.json-formatter-row .json-formatter-bracket {\\n  color: blue;\\n}\\n.json-formatter-row .json-formatter-key {\\n  color: #00008B;\\n  padding-right: 0.2rem;\\n}\\n.json-formatter-row .json-formatter-toggler-link {\\n  cursor: pointer;\\n}\\n.json-formatter-row .json-formatter-toggler {\\n  line-height: 1.2rem;\\n  font-size: 0.7rem;\\n  vertical-align: middle;\\n  opacity: 0.6;\\n  cursor: pointer;\\n  padding-right: 0.2rem;\\n}\\n.json-formatter-row .json-formatter-toggler:after {\\n  display: inline-block;\\n  transition: transform 100ms ease-in;\\n  content: \\\"\\\\25BA\\\";\\n}\\n.json-formatter-row > a > .json-formatter-preview-text {\\n  opacity: 0;\\n  transition: opacity 0.15s ease-in;\\n  font-style: italic;\\n}\\n.json-formatter-row:hover > a > .json-formatter-preview-text {\\n  opacity: 0.6;\\n}\\n.json-formatter-row.json-formatter-open > .json-formatter-toggler-link .json-formatter-toggler:after {\\n  transform: rotate(90deg);\\n}\\n.json-formatter-row.json-formatter-open > .json-formatter-children:after {\\n  display: inline-block;\\n}\\n.json-formatter-row.json-formatter-open > a > .json-formatter-preview-text {\\n  display: none;\\n}\\n.json-formatter-row.json-formatter-open.json-formatter-empty:after {\\n  display: block;\\n}\\n.json-formatter-dark.json-formatter-row {\\n  font-family: monospace;\\n}\\n.json-formatter-dark.json-formatter-row,\\n.json-formatter-dark.json-formatter-row a,\\n.json-formatter-dark.json-formatter-row a:hover {\\n  color: white;\\n  text-decoration: none;\\n}\\n.json-formatter-dark.json-formatter-row .json-formatter-row {\\n  margin-left: 1rem;\\n}\\n.json-formatter-dark.json-formatter-row .json-formatter-children.json-formatter-empty {\\n  opacity: 0.5;\\n  margin-left: 1rem;\\n}\\n.json-formatter-dark.json-formatter-row .json-formatter-children.json-formatter-empty:after {\\n  display: none;\\n}\\n.json-formatter-dark.json-formatter-row .json-formatter-children.json-formatter-empty.json-formatter-object:after {\\n  content: \\\"No properties\\\";\\n}\\n.json-formatter-dark.json-formatter-row .json-formatter-children.json-formatter-empty.json-formatter-array:after {\\n  content: \\\"[]\\\";\\n}\\n.json-formatter-dark.json-formatter-row .json-formatter-string,\\n.json-formatter-dark.json-formatter-row .json-formatter-stringifiable {\\n  color: #31F031;\\n  white-space: pre;\\n  word-wrap: break-word;\\n}\\n.json-formatter-dark.json-formatter-row .json-formatter-number {\\n  color: #66C2FF;\\n}\\n.json-formatter-dark.json-formatter-row .json-formatter-boolean {\\n  color: #EC4242;\\n}\\n.json-formatter-dark.json-formatter-row .json-formatter-null {\\n  color: #EEC97D;\\n}\\n.json-formatter-dark.json-formatter-row .json-formatter-undefined {\\n  color: #ef8fbe;\\n}\\n.json-formatter-dark.json-formatter-row .json-formatter-function {\\n  color: #FD48CB;\\n}\\n.json-formatter-dark.json-formatter-row .json-formatter-date {\\n  background-color: rgba(255, 255, 255, 0.05);\\n}\\n.json-formatter-dark.json-formatter-row .json-formatter-url {\\n  text-decoration: underline;\\n  color: #027BFF;\\n  cursor: pointer;\\n}\\n.json-formatter-dark.json-formatter-row .json-formatter-bracket {\\n  color: #9494FF;\\n}\\n.json-formatter-dark.json-formatter-row .json-formatter-key {\\n  color: #23A0DB;\\n  padding-right: 0.2rem;\\n}\\n.json-formatter-dark.json-formatter-row .json-formatter-toggler-link {\\n  cursor: pointer;\\n}\\n.json-formatter-dark.json-formatter-row .json-formatter-toggler {\\n  line-height: 1.2rem;\\n  font-size: 0.7rem;\\n  vertical-align: middle;\\n  opacity: 0.6;\\n  cursor: pointer;\\n  padding-right: 0.2rem;\\n}\\n.json-formatter-dark.json-formatter-row .json-formatter-toggler:after {\\n  display: inline-block;\\n  transition: transform 100ms ease-in;\\n  content: \\\"\\\\25BA\\\";\\n}\\n.json-formatter-dark.json-formatter-row > a > .json-formatter-preview-text {\\n  opacity: 0;\\n  transition: opacity 0.15s ease-in;\\n  font-style: italic;\\n}\\n.json-formatter-dark.json-formatter-row:hover > a > .json-formatter-preview-text {\\n  opacity: 0.6;\\n}\\n.json-formatter-dark.json-formatter-row.json-formatter-open > .json-formatter-toggler-link .json-formatter-toggler:after {\\n  transform: rotate(90deg);\\n}\\n.json-formatter-dark.json-formatter-row.json-formatter-open > .json-formatter-children:after {\\n  display: inline-block;\\n}\\n.json-formatter-dark.json-formatter-row.json-formatter-open > a > .json-formatter-preview-text {\\n  display: none;\\n}\\n.json-formatter-dark.json-formatter-row.json-formatter-open.json-formatter-empty:after {\\n  display: block;\\n}\\n\");\n    },\n    function(Bokeh) {\n      inject_raw_css(\".codehilite .hll { background-color: #ffffcc }\\n.codehilite  { background: #f8f8f8; }\\n.codehilite .c { color: #408080; font-style: italic } /* Comment */\\n.codehilite .err { border: 1px solid #FF0000 } /* Error */\\n.codehilite .k { color: #008000; font-weight: bold } /* Keyword */\\n.codehilite .o { color: #666666 } /* Operator */\\n.codehilite .ch { color: #408080; font-style: italic } /* Comment.Hashbang */\\n.codehilite .cm { color: #408080; font-style: italic } /* Comment.Multiline */\\n.codehilite .cp { color: #BC7A00 } /* Comment.Preproc */\\n.codehilite .cpf { color: #408080; font-style: italic } /* Comment.PreprocFile */\\n.codehilite .c1 { color: #408080; font-style: italic } /* Comment.Single */\\n.codehilite .cs { color: #408080; font-style: italic } /* Comment.Special */\\n.codehilite .gd { color: #A00000 } /* Generic.Deleted */\\n.codehilite .ge { font-style: italic } /* Generic.Emph */\\n.codehilite .gr { color: #FF0000 } /* Generic.Error */\\n.codehilite .gh { color: #000080; font-weight: bold } /* Generic.Heading */\\n.codehilite .gi { color: #00A000 } /* Generic.Inserted */\\n.codehilite .go { color: #888888 } /* Generic.Output */\\n.codehilite .gp { color: #000080; font-weight: bold } /* Generic.Prompt */\\n.codehilite .gs { font-weight: bold } /* Generic.Strong */\\n.codehilite .gu { color: #800080; font-weight: bold } /* Generic.Subheading */\\n.codehilite .gt { color: #0044DD } /* Generic.Traceback */\\n.codehilite .kc { color: #008000; font-weight: bold } /* Keyword.Constant */\\n.codehilite .kd { color: #008000; font-weight: bold } /* Keyword.Declaration */\\n.codehilite .kn { color: #008000; font-weight: bold } /* Keyword.Namespace */\\n.codehilite .kp { color: #008000 } /* Keyword.Pseudo */\\n.codehilite .kr { color: #008000; font-weight: bold } /* Keyword.Reserved */\\n.codehilite .kt { color: #B00040 } /* Keyword.Type */\\n.codehilite .m { color: #666666 } /* Literal.Number */\\n.codehilite .s { color: #BA2121 } /* Literal.String */\\n.codehilite .na { color: #7D9029 } /* Name.Attribute */\\n.codehilite .nb { color: #008000 } /* Name.Builtin */\\n.codehilite .nc { color: #0000FF; font-weight: bold } /* Name.Class */\\n.codehilite .no { color: #880000 } /* Name.Constant */\\n.codehilite .nd { color: #AA22FF } /* Name.Decorator */\\n.codehilite .ni { color: #999999; font-weight: bold } /* Name.Entity */\\n.codehilite .ne { color: #D2413A; font-weight: bold } /* Name.Exception */\\n.codehilite .nf { color: #0000FF } /* Name.Function */\\n.codehilite .nl { color: #A0A000 } /* Name.Label */\\n.codehilite .nn { color: #0000FF; font-weight: bold } /* Name.Namespace */\\n.codehilite .nt { color: #008000; font-weight: bold } /* Name.Tag */\\n.codehilite .nv { color: #19177C } /* Name.Variable */\\n.codehilite .ow { color: #AA22FF; font-weight: bold } /* Operator.Word */\\n.codehilite .w { color: #bbbbbb } /* Text.Whitespace */\\n.codehilite .mb { color: #666666 } /* Literal.Number.Bin */\\n.codehilite .mf { color: #666666 } /* Literal.Number.Float */\\n.codehilite .mh { color: #666666 } /* Literal.Number.Hex */\\n.codehilite .mi { color: #666666 } /* Literal.Number.Integer */\\n.codehilite .mo { color: #666666 } /* Literal.Number.Oct */\\n.codehilite .sa { color: #BA2121 } /* Literal.String.Affix */\\n.codehilite .sb { color: #BA2121 } /* Literal.String.Backtick */\\n.codehilite .sc { color: #BA2121 } /* Literal.String.Char */\\n.codehilite .dl { color: #BA2121 } /* Literal.String.Delimiter */\\n.codehilite .sd { color: #BA2121; font-style: italic } /* Literal.String.Doc */\\n.codehilite .s2 { color: #BA2121 } /* Literal.String.Double */\\n.codehilite .se { color: #BB6622; font-weight: bold } /* Literal.String.Escape */\\n.codehilite .sh { color: #BA2121 } /* Literal.String.Heredoc */\\n.codehilite .si { color: #BB6688; font-weight: bold } /* Literal.String.Interpol */\\n.codehilite .sx { color: #008000 } /* Literal.String.Other */\\n.codehilite .sr { color: #BB6688 } /* Literal.String.Regex */\\n.codehilite .s1 { color: #BA2121 } /* Literal.String.Single */\\n.codehilite .ss { color: #19177C } /* Literal.String.Symbol */\\n.codehilite .bp { color: #008000 } /* Name.Builtin.Pseudo */\\n.codehilite .fm { color: #0000FF } /* Name.Function.Magic */\\n.codehilite .vc { color: #19177C } /* Name.Variable.Class */\\n.codehilite .vg { color: #19177C } /* Name.Variable.Global */\\n.codehilite .vi { color: #19177C } /* Name.Variable.Instance */\\n.codehilite .vm { color: #19177C } /* Name.Variable.Magic */\\n.codehilite .il { color: #666666 } /* Literal.Number.Integer.Long */\\n\\n.markdown h1 { margin-block-start: 0.34em }\\n.markdown h2 { margin-block-start: 0.42em }\\n.markdown h3 { margin-block-start: 0.5em }\\n.markdown h4 { margin-block-start: 0.67em }\\n.markdown h5 { margin-block-start: 0.84em }\\n.markdown h6 { margin-block-start: 1.17em }\\n.markdown ul { padding-inline-start: 2em }\\n.markdown ol { padding-inline-start: 2em }\\n.markdown strong { font-weight: 600 }\\n.markdown a { color: -webkit-link }\\n.markdown a { color: -moz-hyperlinkText }\\n\");\n    },\n    function(Bokeh) {\n      inject_raw_css(\".widget-box {\\n\\tmin-height: 20px;\\n\\tbackground-color: #f5f5f5;\\n\\tborder: 1px solid #e3e3e3 !important;\\n\\tborder-radius: 4px;\\n\\t-webkit-box-shadow: inset 0 1px 1px rgba(0,0,0,.05);\\n\\tbox-shadow: inset 0 1px 1px rgba(0,0,0,.05);\\n\\toverflow-x: hidden;\\n\\toverflow-y: hidden;\\n}\\n\\n.scrollable {\\n  overflow: scroll;\\n}\\n\\nprogress {\\n\\tappearance: none;\\n\\t-moz-appearance: none;\\n\\t-webkit-appearance: none;\\n\\n\\tborder: none;\\n\\theight: 20px;\\n\\tbackground-color: whiteSmoke;\\n\\tborder-radius: 3px;\\n\\tbox-shadow: 0 2px 3px rgba(0,0,0,.5) inset;\\n\\tcolor: royalblue;\\n\\tposition: relative;\\n\\tmargin: 0 0 1.5em;\\n}\\n\\nprogress[value]::-webkit-progress-bar {\\n\\tbackground-color: whiteSmoke;\\n\\tborder-radius: 3px;\\n\\tbox-shadow: 0 2px 3px rgba(0,0,0,.5) inset;\\n}\\n\\nprogress[value]::-webkit-progress-value {\\n\\tposition: relative;\\n\\n\\tbackground-size: 35px 20px, 100% 100%, 100% 100%;\\n\\tborder-radius:3px;\\n}\\n\\nprogress.active:not([value])::before {\\n\\tbackground-position: 10%;\\n\\tanimation-name: stripes;\\n\\tanimation-duration: 3s;\\n\\tanimation-timing-function: linear;\\n\\tanimation-iteration-count: infinite;\\n}\\n\\nprogress[value]::-moz-progress-bar {\\n\\tbackground-size: 35px 20px, 100% 100%, 100% 100%;\\n\\tborder-radius:3px;\\n}\\n\\nprogress:not([value])::-moz-progress-bar {\\n\\tborder-radius:3px;\\n\\tbackground:\\n\\tlinear-gradient(-45deg, transparent 33%, rgba(0, 0, 0, 0.2) 33%, rgba(0, 0, 0, 0.2) 66%, transparent 66%) left/2.5em 1.5em;\\n\\n}\\n\\nprogress.active:not([value])::-moz-progress-bar {\\n\\tbackground-position: 10%;\\n\\tanimation-name: stripes;\\n\\tanimation-duration: 3s;\\n\\tanimation-timing-function: linear;\\n\\tanimation-iteration-count: infinite;\\n}\\n\\nprogress.active:not([value])::-webkit-progress-bar {\\n\\tbackground-position: 10%;\\n\\tanimation-name: stripes;\\n\\tanimation-duration: 3s;\\n\\tanimation-timing-function: linear;\\n\\tanimation-iteration-count: infinite;\\n}\\n\\nprogress.primary[value]::-webkit-progress-value { background-color: #007bff; }\\nprogress.primary:not([value])::before { background-color: #007bff; }\\nprogress.primary:not([value])::-webkit-progress-bar { background-color: #007bff; }\\nprogress.primary::-moz-progress-bar { background-color: #007bff; }\\n\\nprogress.secondary[value]::-webkit-progress-value { background-color: #6c757d; }\\nprogress.secondary:not([value])::before { background-color: #6c757d; }\\nprogress.secondary:not([value])::-webkit-progress-bar { background-color: #6c757d; }\\nprogress.secondary::-moz-progress-bar { background-color: #6c757d; }\\n\\nprogress.success[value]::-webkit-progress-value { background-color: #28a745; }\\nprogress.success:not([value])::before { background-color: #28a745; }\\nprogress.success:not([value])::-webkit-progress-bar { background-color: #28a745; }\\nprogress.success::-moz-progress-bar { background-color: #28a745; }\\n\\nprogress.danger[value]::-webkit-progress-value { background-color: #dc3545; }\\nprogress.danger:not([value])::before { background-color: #dc3545; }\\nprogress.danger:not([value])::-webkit-progress-bar { background-color: #dc3545; }\\nprogress.danger::-moz-progress-bar { background-color: #dc3545; }\\n\\nprogress.warning[value]::-webkit-progress-value { background-color: #ffc107; }\\nprogress.warning:not([value])::before { background-color: #ffc107; }\\nprogress.warning:not([value])::-webkit-progress-bar { background-color: #ffc107; }\\nprogress.warning::-moz-progress-bar { background-color: #ffc107; }\\n\\nprogress.info[value]::-webkit-progress-value { background-color: #17a2b8; }\\nprogress.info:not([value])::before { background-color: #17a2b8; }\\nprogress.info:not([value])::-webkit-progress-bar { background-color: #17a2b8; }\\nprogress.info::-moz-progress-bar { background-color: #17a2b8; }\\n\\nprogress.light[value]::-webkit-progress-value { background-color: #f8f9fa; }\\nprogress.light:not([value])::before { background-color: #f8f9fa; }\\nprogress.light:not([value])::-webkit-progress-bar { background-color: #f8f9fa; }\\nprogress.light::-moz-progress-bar { background-color: #f8f9fa; }\\n\\nprogress.dark[value]::-webkit-progress-value { background-color: #343a40; }\\nprogress.dark:not([value])::-webkit-progress-bar { background-color: #343a40; }\\nprogress.dark:not([value])::before { background-color: #343a40; }\\nprogress.dark::-moz-progress-bar { background-color: #343a40; }\\n\\nprogress:not([value])::-webkit-progress-bar {\\n\\tborder-radius: 3px;\\n\\tbackground:\\n\\tlinear-gradient(-45deg, transparent 33%, rgba(0, 0, 0, 0.2) 33%, rgba(0, 0, 0, 0.2) 66%, transparent 66%) left/2.5em 1.5em;\\n}\\nprogress:not([value])::before {\\n\\tcontent:\\\" \\\";\\n\\tposition:absolute;\\n\\theight: 20px;\\n\\ttop:0;\\n\\tleft:0;\\n\\tright:0;\\n\\tbottom:0;\\n\\tborder-radius: 3px;\\n\\tbackground:\\n\\tlinear-gradient(-45deg, transparent 33%, rgba(0, 0, 0, 0.2) 33%, rgba(0, 0, 0, 0.2) 66%, transparent 66%) left/2.5em 1.5em;\\n}\\n\\n@keyframes stripes {\\n  from {background-position: 0%}\\n  to {background-position: 100%}\\n}\");\n    },\n    function(Bokeh) {\n      Bokeh.set_log_level(\"info\");\n    },\n    function(Bokeh) {\n    \n    \n    }\n  ];\n\n  function run_inline_js() {\n    \n    if (root.Bokeh !== undefined || force === true) {\n      \n    for (var i = 0; i < inline_js.length; i++) {\n      inline_js[i].call(root, root.Bokeh);\n    }\n    if (force === true) {\n        display_loaded();\n      }} else if (Date.now() < root._bokeh_timeout) {\n      setTimeout(run_inline_js, 100);\n    } else if (!root._bokeh_failed_load) {\n      console.log(\"Bokeh: BokehJS failed to load within specified timeout.\");\n      root._bokeh_failed_load = true;\n    } else if (force !== true) {\n      var cell = $(document.getElementById(\"1001\")).parents('.cell').data().cell;\n      cell.output_area.append_execute_result(NB_LOAD_WARNING)\n    }\n\n  }\n\n  if (root._bokeh_is_loading === 0) {\n    console.debug(\"Bokeh: BokehJS loaded, going straight to plotting\");\n    run_inline_js();\n  } else {\n    load_libs(css_urls, js_urls, function() {\n      console.debug(\"Bokeh: BokehJS plotting callback run at\", now());\n      run_inline_js();\n    });\n  }\n}(window));",
      "application/vnd.bokehjs_load.v0+json": "\n(function(root) {\n  function now() {\n    return new Date();\n  }\n\n  var force = true;\n\n  if (typeof root._bokeh_onload_callbacks === \"undefined\" || force === true) {\n    root._bokeh_onload_callbacks = [];\n    root._bokeh_is_loading = undefined;\n  }\n\n  \n\n  \n  if (typeof (root._bokeh_timeout) === \"undefined\" || force === true) {\n    root._bokeh_timeout = Date.now() + 5000;\n    root._bokeh_failed_load = false;\n  }\n\n  var NB_LOAD_WARNING = {'data': {'text/html':\n     \"<div style='background-color: #fdd'>\\n\"+\n     \"<p>\\n\"+\n     \"BokehJS does not appear to have successfully loaded. If loading BokehJS from CDN, this \\n\"+\n     \"may be due to a slow or bad network connection. Possible fixes:\\n\"+\n     \"</p>\\n\"+\n     \"<ul>\\n\"+\n     \"<li>re-rerun `output_notebook()` to attempt to load from CDN again, or</li>\\n\"+\n     \"<li>use INLINE resources instead, as so:</li>\\n\"+\n     \"</ul>\\n\"+\n     \"<code>\\n\"+\n     \"from bokeh.resources import INLINE\\n\"+\n     \"output_notebook(resources=INLINE)\\n\"+\n     \"</code>\\n\"+\n     \"</div>\"}};\n\n  function display_loaded() {\n    var el = document.getElementById(\"1001\");\n    if (el != null) {\n      el.textContent = \"BokehJS is loading...\";\n    }\n    if (root.Bokeh !== undefined) {\n      if (el != null) {\n        el.textContent = \"BokehJS \" + root.Bokeh.version + \" successfully loaded.\";\n      }\n    } else if (Date.now() < root._bokeh_timeout) {\n      setTimeout(display_loaded, 100)\n    }\n  }\n\n\n  function run_callbacks() {\n    try {\n      root._bokeh_onload_callbacks.forEach(function(callback) {\n        if (callback != null)\n          callback();\n      });\n    } finally {\n      delete root._bokeh_onload_callbacks\n    }\n    console.debug(\"Bokeh: all callbacks have finished\");\n  }\n\n  function load_libs(css_urls, js_urls, callback) {\n    if (css_urls == null) css_urls = [];\n    if (js_urls == null) js_urls = [];\n\n    root._bokeh_onload_callbacks.push(callback);\n    if (root._bokeh_is_loading > 0) {\n      console.debug(\"Bokeh: BokehJS is being loaded, scheduling callback at\", now());\n      return null;\n    }\n    if (js_urls == null || js_urls.length === 0) {\n      run_callbacks();\n      return null;\n    }\n    console.debug(\"Bokeh: BokehJS not loaded, scheduling load and callback at\", now());\n    root._bokeh_is_loading = css_urls.length + js_urls.length;\n\n    function on_load() {\n      root._bokeh_is_loading--;\n      if (root._bokeh_is_loading === 0) {\n        console.debug(\"Bokeh: all BokehJS libraries/stylesheets loaded\");\n        run_callbacks()\n      }\n    }\n\n    function on_error() {\n      console.error(\"failed to load \" + url);\n    }\n\n    for (var i = 0; i < css_urls.length; i++) {\n      var url = css_urls[i];\n      const element = document.createElement(\"link\");\n      element.onload = on_load;\n      element.onerror = on_error;\n      element.rel = \"stylesheet\";\n      element.type = \"text/css\";\n      element.href = url;\n      console.debug(\"Bokeh: injecting link tag for BokehJS stylesheet: \", url);\n      document.body.appendChild(element);\n    }\n\n    const hashes = {\"https://cdn.bokeh.org/bokeh/release/bokeh-2.0.1.min.js\": \"JpP8FXbgAZLkfur7LiK3j9AGBhHNIvF742meBJrjO2ShJDhCG2I1uVvW+0DUtrmc\", \"https://cdn.bokeh.org/bokeh/release/bokeh-widgets-2.0.1.min.js\": \"xZlADit0Q04ISQEdKg2k3L4W9AwQBAuDs9nJL9fM/WwzL1tEU9VPNezOFX0nLEAz\", \"https://cdn.bokeh.org/bokeh/release/bokeh-tables-2.0.1.min.js\": \"4BuPRZkdMKSnj3zoxiNrQ86XgNw0rYmBOxe7nshquXwwcauupgBF2DHLVG1WuZlV\", \"https://cdn.bokeh.org/bokeh/release/bokeh-gl-2.0.1.min.js\": \"Dv1SQ87hmDqK6S5OhBf0bCuwAEvL5QYL0PuR/F1SPVhCS/r/abjkbpKDYL2zeM19\"};\n\n    for (var i = 0; i < js_urls.length; i++) {\n      var url = js_urls[i];\n      var element = document.createElement('script');\n      element.onload = on_load;\n      element.onerror = on_error;\n      element.async = false;\n      element.src = url;\n      if (url in hashes) {\n        element.crossOrigin = \"anonymous\";\n        element.integrity = \"sha384-\" + hashes[url];\n      }\n      console.debug(\"Bokeh: injecting script tag for BokehJS library: \", url);\n      document.head.appendChild(element);\n    }\n  };var element = document.getElementById(\"1001\");\n  if (element == null) {\n    console.error(\"Bokeh: ERROR: autoload.js configured with elementid '1001' but no matching script tag was found. \")\n    return false;\n  }\n\n  function inject_raw_css(css) {\n    const element = document.createElement(\"style\");\n    element.appendChild(document.createTextNode(css));\n    document.body.appendChild(element);\n  }\n\n  \n  var js_urls = [\"https://cdn.bokeh.org/bokeh/release/bokeh-2.0.1.min.js\", \"https://cdn.bokeh.org/bokeh/release/bokeh-widgets-2.0.1.min.js\", \"https://cdn.bokeh.org/bokeh/release/bokeh-tables-2.0.1.min.js\", \"https://cdn.bokeh.org/bokeh/release/bokeh-gl-2.0.1.min.js\", \"https://unpkg.com/@holoviz/panel@^0.9.5/dist/panel.min.js\"];\n  var css_urls = [];\n  \n\n  var inline_js = [\n    function(Bokeh) {\n      inject_raw_css(\"table.panel-df {\\n    margin-left: auto;\\n    margin-right: auto;\\n    border: none;\\n    border-collapse: collapse;\\n    border-spacing: 0;\\n    color: black;\\n    font-size: 12px;\\n    table-layout: fixed;\\n    width: 100%;\\n}\\n\\n.panel-df tr, th, td {\\n    text-align: right;\\n    vertical-align: middle;\\n    padding: 0.5em 0.5em !important;\\n    line-height: normal;\\n    white-space: normal;\\n    max-width: none;\\n    border: none;\\n}\\n\\n.panel-df tbody {\\n    display: table-row-group;\\n    vertical-align: middle;\\n    border-color: inherit;\\n}\\n\\n.panel-df tbody tr:nth-child(odd) {\\n    background: #f5f5f5;\\n}\\n\\n.panel-df thead {\\n    border-bottom: 1px solid black;\\n    vertical-align: bottom;\\n}\\n\\n.panel-df tr:hover {\\n    background: lightblue !important;\\n    cursor: pointer;\\n}\\n\");\n    },\n    function(Bokeh) {\n      inject_raw_css(\".json-formatter-row {\\n  font-family: monospace;\\n}\\n.json-formatter-row,\\n.json-formatter-row a,\\n.json-formatter-row a:hover {\\n  color: black;\\n  text-decoration: none;\\n}\\n.json-formatter-row .json-formatter-row {\\n  margin-left: 1rem;\\n}\\n.json-formatter-row .json-formatter-children.json-formatter-empty {\\n  opacity: 0.5;\\n  margin-left: 1rem;\\n}\\n.json-formatter-row .json-formatter-children.json-formatter-empty:after {\\n  display: none;\\n}\\n.json-formatter-row .json-formatter-children.json-formatter-empty.json-formatter-object:after {\\n  content: \\\"No properties\\\";\\n}\\n.json-formatter-row .json-formatter-children.json-formatter-empty.json-formatter-array:after {\\n  content: \\\"[]\\\";\\n}\\n.json-formatter-row .json-formatter-string,\\n.json-formatter-row .json-formatter-stringifiable {\\n  color: green;\\n  white-space: pre;\\n  word-wrap: break-word;\\n}\\n.json-formatter-row .json-formatter-number {\\n  color: blue;\\n}\\n.json-formatter-row .json-formatter-boolean {\\n  color: red;\\n}\\n.json-formatter-row .json-formatter-null {\\n  color: #855A00;\\n}\\n.json-formatter-row .json-formatter-undefined {\\n  color: #ca0b69;\\n}\\n.json-formatter-row .json-formatter-function {\\n  color: #FF20ED;\\n}\\n.json-formatter-row .json-formatter-date {\\n  background-color: rgba(0, 0, 0, 0.05);\\n}\\n.json-formatter-row .json-formatter-url {\\n  text-decoration: underline;\\n  color: blue;\\n  cursor: pointer;\\n}\\n.json-formatter-row .json-formatter-bracket {\\n  color: blue;\\n}\\n.json-formatter-row .json-formatter-key {\\n  color: #00008B;\\n  padding-right: 0.2rem;\\n}\\n.json-formatter-row .json-formatter-toggler-link {\\n  cursor: pointer;\\n}\\n.json-formatter-row .json-formatter-toggler {\\n  line-height: 1.2rem;\\n  font-size: 0.7rem;\\n  vertical-align: middle;\\n  opacity: 0.6;\\n  cursor: pointer;\\n  padding-right: 0.2rem;\\n}\\n.json-formatter-row .json-formatter-toggler:after {\\n  display: inline-block;\\n  transition: transform 100ms ease-in;\\n  content: \\\"\\\\25BA\\\";\\n}\\n.json-formatter-row > a > .json-formatter-preview-text {\\n  opacity: 0;\\n  transition: opacity 0.15s ease-in;\\n  font-style: italic;\\n}\\n.json-formatter-row:hover > a > .json-formatter-preview-text {\\n  opacity: 0.6;\\n}\\n.json-formatter-row.json-formatter-open > .json-formatter-toggler-link .json-formatter-toggler:after {\\n  transform: rotate(90deg);\\n}\\n.json-formatter-row.json-formatter-open > .json-formatter-children:after {\\n  display: inline-block;\\n}\\n.json-formatter-row.json-formatter-open > a > .json-formatter-preview-text {\\n  display: none;\\n}\\n.json-formatter-row.json-formatter-open.json-formatter-empty:after {\\n  display: block;\\n}\\n.json-formatter-dark.json-formatter-row {\\n  font-family: monospace;\\n}\\n.json-formatter-dark.json-formatter-row,\\n.json-formatter-dark.json-formatter-row a,\\n.json-formatter-dark.json-formatter-row a:hover {\\n  color: white;\\n  text-decoration: none;\\n}\\n.json-formatter-dark.json-formatter-row .json-formatter-row {\\n  margin-left: 1rem;\\n}\\n.json-formatter-dark.json-formatter-row .json-formatter-children.json-formatter-empty {\\n  opacity: 0.5;\\n  margin-left: 1rem;\\n}\\n.json-formatter-dark.json-formatter-row .json-formatter-children.json-formatter-empty:after {\\n  display: none;\\n}\\n.json-formatter-dark.json-formatter-row .json-formatter-children.json-formatter-empty.json-formatter-object:after {\\n  content: \\\"No properties\\\";\\n}\\n.json-formatter-dark.json-formatter-row .json-formatter-children.json-formatter-empty.json-formatter-array:after {\\n  content: \\\"[]\\\";\\n}\\n.json-formatter-dark.json-formatter-row .json-formatter-string,\\n.json-formatter-dark.json-formatter-row .json-formatter-stringifiable {\\n  color: #31F031;\\n  white-space: pre;\\n  word-wrap: break-word;\\n}\\n.json-formatter-dark.json-formatter-row .json-formatter-number {\\n  color: #66C2FF;\\n}\\n.json-formatter-dark.json-formatter-row .json-formatter-boolean {\\n  color: #EC4242;\\n}\\n.json-formatter-dark.json-formatter-row .json-formatter-null {\\n  color: #EEC97D;\\n}\\n.json-formatter-dark.json-formatter-row .json-formatter-undefined {\\n  color: #ef8fbe;\\n}\\n.json-formatter-dark.json-formatter-row .json-formatter-function {\\n  color: #FD48CB;\\n}\\n.json-formatter-dark.json-formatter-row .json-formatter-date {\\n  background-color: rgba(255, 255, 255, 0.05);\\n}\\n.json-formatter-dark.json-formatter-row .json-formatter-url {\\n  text-decoration: underline;\\n  color: #027BFF;\\n  cursor: pointer;\\n}\\n.json-formatter-dark.json-formatter-row .json-formatter-bracket {\\n  color: #9494FF;\\n}\\n.json-formatter-dark.json-formatter-row .json-formatter-key {\\n  color: #23A0DB;\\n  padding-right: 0.2rem;\\n}\\n.json-formatter-dark.json-formatter-row .json-formatter-toggler-link {\\n  cursor: pointer;\\n}\\n.json-formatter-dark.json-formatter-row .json-formatter-toggler {\\n  line-height: 1.2rem;\\n  font-size: 0.7rem;\\n  vertical-align: middle;\\n  opacity: 0.6;\\n  cursor: pointer;\\n  padding-right: 0.2rem;\\n}\\n.json-formatter-dark.json-formatter-row .json-formatter-toggler:after {\\n  display: inline-block;\\n  transition: transform 100ms ease-in;\\n  content: \\\"\\\\25BA\\\";\\n}\\n.json-formatter-dark.json-formatter-row > a > .json-formatter-preview-text {\\n  opacity: 0;\\n  transition: opacity 0.15s ease-in;\\n  font-style: italic;\\n}\\n.json-formatter-dark.json-formatter-row:hover > a > .json-formatter-preview-text {\\n  opacity: 0.6;\\n}\\n.json-formatter-dark.json-formatter-row.json-formatter-open > .json-formatter-toggler-link .json-formatter-toggler:after {\\n  transform: rotate(90deg);\\n}\\n.json-formatter-dark.json-formatter-row.json-formatter-open > .json-formatter-children:after {\\n  display: inline-block;\\n}\\n.json-formatter-dark.json-formatter-row.json-formatter-open > a > .json-formatter-preview-text {\\n  display: none;\\n}\\n.json-formatter-dark.json-formatter-row.json-formatter-open.json-formatter-empty:after {\\n  display: block;\\n}\\n\");\n    },\n    function(Bokeh) {\n      inject_raw_css(\".codehilite .hll { background-color: #ffffcc }\\n.codehilite  { background: #f8f8f8; }\\n.codehilite .c { color: #408080; font-style: italic } /* Comment */\\n.codehilite .err { border: 1px solid #FF0000 } /* Error */\\n.codehilite .k { color: #008000; font-weight: bold } /* Keyword */\\n.codehilite .o { color: #666666 } /* Operator */\\n.codehilite .ch { color: #408080; font-style: italic } /* Comment.Hashbang */\\n.codehilite .cm { color: #408080; font-style: italic } /* Comment.Multiline */\\n.codehilite .cp { color: #BC7A00 } /* Comment.Preproc */\\n.codehilite .cpf { color: #408080; font-style: italic } /* Comment.PreprocFile */\\n.codehilite .c1 { color: #408080; font-style: italic } /* Comment.Single */\\n.codehilite .cs { color: #408080; font-style: italic } /* Comment.Special */\\n.codehilite .gd { color: #A00000 } /* Generic.Deleted */\\n.codehilite .ge { font-style: italic } /* Generic.Emph */\\n.codehilite .gr { color: #FF0000 } /* Generic.Error */\\n.codehilite .gh { color: #000080; font-weight: bold } /* Generic.Heading */\\n.codehilite .gi { color: #00A000 } /* Generic.Inserted */\\n.codehilite .go { color: #888888 } /* Generic.Output */\\n.codehilite .gp { color: #000080; font-weight: bold } /* Generic.Prompt */\\n.codehilite .gs { font-weight: bold } /* Generic.Strong */\\n.codehilite .gu { color: #800080; font-weight: bold } /* Generic.Subheading */\\n.codehilite .gt { color: #0044DD } /* Generic.Traceback */\\n.codehilite .kc { color: #008000; font-weight: bold } /* Keyword.Constant */\\n.codehilite .kd { color: #008000; font-weight: bold } /* Keyword.Declaration */\\n.codehilite .kn { color: #008000; font-weight: bold } /* Keyword.Namespace */\\n.codehilite .kp { color: #008000 } /* Keyword.Pseudo */\\n.codehilite .kr { color: #008000; font-weight: bold } /* Keyword.Reserved */\\n.codehilite .kt { color: #B00040 } /* Keyword.Type */\\n.codehilite .m { color: #666666 } /* Literal.Number */\\n.codehilite .s { color: #BA2121 } /* Literal.String */\\n.codehilite .na { color: #7D9029 } /* Name.Attribute */\\n.codehilite .nb { color: #008000 } /* Name.Builtin */\\n.codehilite .nc { color: #0000FF; font-weight: bold } /* Name.Class */\\n.codehilite .no { color: #880000 } /* Name.Constant */\\n.codehilite .nd { color: #AA22FF } /* Name.Decorator */\\n.codehilite .ni { color: #999999; font-weight: bold } /* Name.Entity */\\n.codehilite .ne { color: #D2413A; font-weight: bold } /* Name.Exception */\\n.codehilite .nf { color: #0000FF } /* Name.Function */\\n.codehilite .nl { color: #A0A000 } /* Name.Label */\\n.codehilite .nn { color: #0000FF; font-weight: bold } /* Name.Namespace */\\n.codehilite .nt { color: #008000; font-weight: bold } /* Name.Tag */\\n.codehilite .nv { color: #19177C } /* Name.Variable */\\n.codehilite .ow { color: #AA22FF; font-weight: bold } /* Operator.Word */\\n.codehilite .w { color: #bbbbbb } /* Text.Whitespace */\\n.codehilite .mb { color: #666666 } /* Literal.Number.Bin */\\n.codehilite .mf { color: #666666 } /* Literal.Number.Float */\\n.codehilite .mh { color: #666666 } /* Literal.Number.Hex */\\n.codehilite .mi { color: #666666 } /* Literal.Number.Integer */\\n.codehilite .mo { color: #666666 } /* Literal.Number.Oct */\\n.codehilite .sa { color: #BA2121 } /* Literal.String.Affix */\\n.codehilite .sb { color: #BA2121 } /* Literal.String.Backtick */\\n.codehilite .sc { color: #BA2121 } /* Literal.String.Char */\\n.codehilite .dl { color: #BA2121 } /* Literal.String.Delimiter */\\n.codehilite .sd { color: #BA2121; font-style: italic } /* Literal.String.Doc */\\n.codehilite .s2 { color: #BA2121 } /* Literal.String.Double */\\n.codehilite .se { color: #BB6622; font-weight: bold } /* Literal.String.Escape */\\n.codehilite .sh { color: #BA2121 } /* Literal.String.Heredoc */\\n.codehilite .si { color: #BB6688; font-weight: bold } /* Literal.String.Interpol */\\n.codehilite .sx { color: #008000 } /* Literal.String.Other */\\n.codehilite .sr { color: #BB6688 } /* Literal.String.Regex */\\n.codehilite .s1 { color: #BA2121 } /* Literal.String.Single */\\n.codehilite .ss { color: #19177C } /* Literal.String.Symbol */\\n.codehilite .bp { color: #008000 } /* Name.Builtin.Pseudo */\\n.codehilite .fm { color: #0000FF } /* Name.Function.Magic */\\n.codehilite .vc { color: #19177C } /* Name.Variable.Class */\\n.codehilite .vg { color: #19177C } /* Name.Variable.Global */\\n.codehilite .vi { color: #19177C } /* Name.Variable.Instance */\\n.codehilite .vm { color: #19177C } /* Name.Variable.Magic */\\n.codehilite .il { color: #666666 } /* Literal.Number.Integer.Long */\\n\\n.markdown h1 { margin-block-start: 0.34em }\\n.markdown h2 { margin-block-start: 0.42em }\\n.markdown h3 { margin-block-start: 0.5em }\\n.markdown h4 { margin-block-start: 0.67em }\\n.markdown h5 { margin-block-start: 0.84em }\\n.markdown h6 { margin-block-start: 1.17em }\\n.markdown ul { padding-inline-start: 2em }\\n.markdown ol { padding-inline-start: 2em }\\n.markdown strong { font-weight: 600 }\\n.markdown a { color: -webkit-link }\\n.markdown a { color: -moz-hyperlinkText }\\n\");\n    },\n    function(Bokeh) {\n      inject_raw_css(\".widget-box {\\n\\tmin-height: 20px;\\n\\tbackground-color: #f5f5f5;\\n\\tborder: 1px solid #e3e3e3 !important;\\n\\tborder-radius: 4px;\\n\\t-webkit-box-shadow: inset 0 1px 1px rgba(0,0,0,.05);\\n\\tbox-shadow: inset 0 1px 1px rgba(0,0,0,.05);\\n\\toverflow-x: hidden;\\n\\toverflow-y: hidden;\\n}\\n\\n.scrollable {\\n  overflow: scroll;\\n}\\n\\nprogress {\\n\\tappearance: none;\\n\\t-moz-appearance: none;\\n\\t-webkit-appearance: none;\\n\\n\\tborder: none;\\n\\theight: 20px;\\n\\tbackground-color: whiteSmoke;\\n\\tborder-radius: 3px;\\n\\tbox-shadow: 0 2px 3px rgba(0,0,0,.5) inset;\\n\\tcolor: royalblue;\\n\\tposition: relative;\\n\\tmargin: 0 0 1.5em;\\n}\\n\\nprogress[value]::-webkit-progress-bar {\\n\\tbackground-color: whiteSmoke;\\n\\tborder-radius: 3px;\\n\\tbox-shadow: 0 2px 3px rgba(0,0,0,.5) inset;\\n}\\n\\nprogress[value]::-webkit-progress-value {\\n\\tposition: relative;\\n\\n\\tbackground-size: 35px 20px, 100% 100%, 100% 100%;\\n\\tborder-radius:3px;\\n}\\n\\nprogress.active:not([value])::before {\\n\\tbackground-position: 10%;\\n\\tanimation-name: stripes;\\n\\tanimation-duration: 3s;\\n\\tanimation-timing-function: linear;\\n\\tanimation-iteration-count: infinite;\\n}\\n\\nprogress[value]::-moz-progress-bar {\\n\\tbackground-size: 35px 20px, 100% 100%, 100% 100%;\\n\\tborder-radius:3px;\\n}\\n\\nprogress:not([value])::-moz-progress-bar {\\n\\tborder-radius:3px;\\n\\tbackground:\\n\\tlinear-gradient(-45deg, transparent 33%, rgba(0, 0, 0, 0.2) 33%, rgba(0, 0, 0, 0.2) 66%, transparent 66%) left/2.5em 1.5em;\\n\\n}\\n\\nprogress.active:not([value])::-moz-progress-bar {\\n\\tbackground-position: 10%;\\n\\tanimation-name: stripes;\\n\\tanimation-duration: 3s;\\n\\tanimation-timing-function: linear;\\n\\tanimation-iteration-count: infinite;\\n}\\n\\nprogress.active:not([value])::-webkit-progress-bar {\\n\\tbackground-position: 10%;\\n\\tanimation-name: stripes;\\n\\tanimation-duration: 3s;\\n\\tanimation-timing-function: linear;\\n\\tanimation-iteration-count: infinite;\\n}\\n\\nprogress.primary[value]::-webkit-progress-value { background-color: #007bff; }\\nprogress.primary:not([value])::before { background-color: #007bff; }\\nprogress.primary:not([value])::-webkit-progress-bar { background-color: #007bff; }\\nprogress.primary::-moz-progress-bar { background-color: #007bff; }\\n\\nprogress.secondary[value]::-webkit-progress-value { background-color: #6c757d; }\\nprogress.secondary:not([value])::before { background-color: #6c757d; }\\nprogress.secondary:not([value])::-webkit-progress-bar { background-color: #6c757d; }\\nprogress.secondary::-moz-progress-bar { background-color: #6c757d; }\\n\\nprogress.success[value]::-webkit-progress-value { background-color: #28a745; }\\nprogress.success:not([value])::before { background-color: #28a745; }\\nprogress.success:not([value])::-webkit-progress-bar { background-color: #28a745; }\\nprogress.success::-moz-progress-bar { background-color: #28a745; }\\n\\nprogress.danger[value]::-webkit-progress-value { background-color: #dc3545; }\\nprogress.danger:not([value])::before { background-color: #dc3545; }\\nprogress.danger:not([value])::-webkit-progress-bar { background-color: #dc3545; }\\nprogress.danger::-moz-progress-bar { background-color: #dc3545; }\\n\\nprogress.warning[value]::-webkit-progress-value { background-color: #ffc107; }\\nprogress.warning:not([value])::before { background-color: #ffc107; }\\nprogress.warning:not([value])::-webkit-progress-bar { background-color: #ffc107; }\\nprogress.warning::-moz-progress-bar { background-color: #ffc107; }\\n\\nprogress.info[value]::-webkit-progress-value { background-color: #17a2b8; }\\nprogress.info:not([value])::before { background-color: #17a2b8; }\\nprogress.info:not([value])::-webkit-progress-bar { background-color: #17a2b8; }\\nprogress.info::-moz-progress-bar { background-color: #17a2b8; }\\n\\nprogress.light[value]::-webkit-progress-value { background-color: #f8f9fa; }\\nprogress.light:not([value])::before { background-color: #f8f9fa; }\\nprogress.light:not([value])::-webkit-progress-bar { background-color: #f8f9fa; }\\nprogress.light::-moz-progress-bar { background-color: #f8f9fa; }\\n\\nprogress.dark[value]::-webkit-progress-value { background-color: #343a40; }\\nprogress.dark:not([value])::-webkit-progress-bar { background-color: #343a40; }\\nprogress.dark:not([value])::before { background-color: #343a40; }\\nprogress.dark::-moz-progress-bar { background-color: #343a40; }\\n\\nprogress:not([value])::-webkit-progress-bar {\\n\\tborder-radius: 3px;\\n\\tbackground:\\n\\tlinear-gradient(-45deg, transparent 33%, rgba(0, 0, 0, 0.2) 33%, rgba(0, 0, 0, 0.2) 66%, transparent 66%) left/2.5em 1.5em;\\n}\\nprogress:not([value])::before {\\n\\tcontent:\\\" \\\";\\n\\tposition:absolute;\\n\\theight: 20px;\\n\\ttop:0;\\n\\tleft:0;\\n\\tright:0;\\n\\tbottom:0;\\n\\tborder-radius: 3px;\\n\\tbackground:\\n\\tlinear-gradient(-45deg, transparent 33%, rgba(0, 0, 0, 0.2) 33%, rgba(0, 0, 0, 0.2) 66%, transparent 66%) left/2.5em 1.5em;\\n}\\n\\n@keyframes stripes {\\n  from {background-position: 0%}\\n  to {background-position: 100%}\\n}\");\n    },\n    function(Bokeh) {\n      Bokeh.set_log_level(\"info\");\n    },\n    function(Bokeh) {\n    \n    \n    }\n  ];\n\n  function run_inline_js() {\n    \n    if (root.Bokeh !== undefined || force === true) {\n      \n    for (var i = 0; i < inline_js.length; i++) {\n      inline_js[i].call(root, root.Bokeh);\n    }\n    if (force === true) {\n        display_loaded();\n      }} else if (Date.now() < root._bokeh_timeout) {\n      setTimeout(run_inline_js, 100);\n    } else if (!root._bokeh_failed_load) {\n      console.log(\"Bokeh: BokehJS failed to load within specified timeout.\");\n      root._bokeh_failed_load = true;\n    } else if (force !== true) {\n      var cell = $(document.getElementById(\"1001\")).parents('.cell').data().cell;\n      cell.output_area.append_execute_result(NB_LOAD_WARNING)\n    }\n\n  }\n\n  if (root._bokeh_is_loading === 0) {\n    console.debug(\"Bokeh: BokehJS loaded, going straight to plotting\");\n    run_inline_js();\n  } else {\n    load_libs(css_urls, js_urls, function() {\n      console.debug(\"Bokeh: BokehJS plotting callback run at\", now());\n      run_inline_js();\n    });\n  }\n}(window));"
     },
     "metadata": {}
    }
   ],
   "source": [
    "try:\n",
    "    get_ipython().magic(u'load_ext autoreload')\n",
    "    get_ipython().magic(u'autoreload 2')\n",
    "    get_ipython().magic(u'matplotlib qt')\n",
    "except:\n",
    "    pass\n",
    "\n",
    "import matplotlib.pyplot as plt\n",
    "import numpy as np\n",
    "import os\n",
    "from tqdm import tqdm\n",
    "import napari\n",
    "from collections import namedtuple\n",
    "from scipy.optimize import curve_fit\n",
    "\n",
    "import caiman as cm\n",
    "from caiman.source_extraction.cnmf.spatial import threshold_components\n",
    "from caiman.utils.visualization import inspect_correlation_pnr\n",
    "\n",
    "import logging\n",
    "from fancylog import fancylog\n",
    "import fancylog as package\n",
    "\n",
    "import cv2\n",
    "try:\n",
    "    cv2.setNumThreads(0)\n",
    "except:\n",
    "    pass\n",
    "import bokeh.plotting as bpl\n",
    "\n",
    "from fcutils.file_io.io import load_yaml\n",
    "from fcutils.plotting.utils import clean_axes, save_figure, add_colorbar_to_img, set_figure_subplots_aspect\n",
    "from fcutils.plotting.colors import * \n",
    "from fcutils.plotting.plot_elements import plot_shaded_withline\n",
    "from fcutils.maths.utils import rolling_pearson_correlation\n",
    "from fcutils.file_io.utils import check_create_folder\n",
    "\n",
    "from utils import print_cnmfe_components, plot_components_over_image, load_fit_cnmfe\n",
    "from utils import start_server, load_params,  log_cnmfe_components, load_mmap_video_caiman, load_tiff_video_caiman\n",
    "\n",
    "bpl.output_notebook()\n",
    "c, dview, n_processes = start_server()"
   ]
  },
  {
   "cell_type": "markdown",
   "metadata": {},
   "source": [
    "## Load metadata model and data"
   ]
  },
  {
   "cell_type": "code",
   "execution_count": 2,
   "metadata": {},
   "outputs": [
    {
     "output_type": "stream",
     "name": "stderr",
     "text": "INFO:root:Starting logging\n2020-04-24 13:59:57 PM - INFO - MainProcess fancylog.py:271 - Starting logging\nINFO:root:Multiprocessing-logging module not found, not logging multiple processes.\n2020-04-24 13:59:57 PM - INFO - MainProcess fancylog.py:273 - Multiprocessing-logging module not found, not logging multiple processes.\nINFO:root:Starting CNMF-E traces inspection\n2020-04-24 13:59:57 PM - INFO - MainProcess <ipython-input-2-6ea036083e99>:19 - Starting CNMF-E traces inspection\nINFO:root:Loading CNMF-E model from: D:\\Dropbox (UCL - SWC)\\Project_vgatPAG\\analysis\\doric\\BF164p2\\19JUN26\\cnmfe_fit_curated.hdf5\n2020-04-24 13:59:57 PM - INFO - MainProcess <ipython-input-2-6ea036083e99>:20 - Loading CNMF-E model from: D:\\Dropbox (UCL - SWC)\\Project_vgatPAG\\analysis\\doric\\BF164p2\\19JUN26\\cnmfe_fit_curated.hdf5\nINFO:root:ANALYSIS METADATA FILE:\n2020-04-24 13:59:57 PM - INFO - MainProcess <ipython-input-2-6ea036083e99>:23 - ANALYSIS METADATA FILE:\nINFO:root:experimenter: Federico\n2020-04-24 13:59:57 PM - INFO - MainProcess <ipython-input-2-6ea036083e99>:25 - experimenter: Federico\nINFO:root:fld: D:\\Dropbox (UCL - SWC)\\Project_vgatPAG\\analysis\\doric\\BF164p2\\19JUN26\n2020-04-24 13:59:57 PM - INFO - MainProcess <ipython-input-2-6ea036083e99>:25 - fld: D:\\Dropbox (UCL - SWC)\\Project_vgatPAG\\analysis\\doric\\BF164p2\\19JUN26\nINFO:root:outputfld: MC_output_fullres\n2020-04-24 13:59:57 PM - INFO - MainProcess <ipython-input-2-6ea036083e99>:25 - outputfld: MC_output_fullres\nINFO:root:raw_video: 19JUN26_BF164p2_ds126_raw.tif\n2020-04-24 13:59:57 PM - INFO - MainProcess <ipython-input-2-6ea036083e99>:25 - raw_video: 19JUN26_BF164p2_ds126_raw.tif\nINFO:root:fft_bandpass_params: [{'large_structures': 126}, {'small_structures': 8}, {'suppress_stripes': 'None'}, {'autoscale': True}, {'saturate': False}, {'display': False}]\n2020-04-24 13:59:57 PM - INFO - MainProcess <ipython-input-2-6ea036083e99>:25 - fft_bandpass_params: [{'large_structures': 126}, {'small_structures': 8}, {'suppress_stripes': 'None'}, {'autoscale': True}, {'saturate': False}, {'display': False}]\nINFO:root:fftfilt_video: 19JUN26_BF164p2_ds126_raw_fftfilt.tif\n2020-04-24 13:59:57 PM - INFO - MainProcess <ipython-input-2-6ea036083e99>:25 - fftfilt_video: 19JUN26_BF164p2_ds126_raw_fftfilt.tif\nINFO:root:norm_by_fft_video: 19JUN26_BF164p2_ds126_raw_div_fft.tif\n2020-04-24 13:59:57 PM - INFO - MainProcess <ipython-input-2-6ea036083e99>:25 - norm_by_fft_video: 19JUN26_BF164p2_ds126_raw_div_fft.tif\nINFO:root:video_for_mc: norm_by_fft_video\n2020-04-24 13:59:57 PM - INFO - MainProcess <ipython-input-2-6ea036083e99>:25 - video_for_mc: norm_by_fft_video\nINFO:root:raw_video_for_mc: raw_video\n2020-04-24 13:59:57 PM - INFO - MainProcess <ipython-input-2-6ea036083e99>:25 - raw_video_for_mc: raw_video\nINFO:root:transformed_mc_video: 19JUN26_BF164p2_ds126_raw_div_fft_els__d1_126_d2_126_d3_1_order_C_frames_15800_.mmap\n2020-04-24 13:59:57 PM - INFO - MainProcess <ipython-input-2-6ea036083e99>:25 - transformed_mc_video: 19JUN26_BF164p2_ds126_raw_div_fft_els__d1_126_d2_126_d3_1_order_C_frames_15800_.mmap\nINFO:root:raw_mc_video: 19JUN26_BF164p2_ds126_raw_els_d1_126_d2_126_d3_1_order_C_frames_15800_.mmap\n2020-04-24 13:59:57 PM - INFO - MainProcess <ipython-input-2-6ea036083e99>:25 - raw_mc_video: 19JUN26_BF164p2_ds126_raw_els_d1_126_d2_126_d3_1_order_C_frames_15800_.mmap\nINFO:root:video_for_cnmfe_fit: raw_mc_video\n2020-04-24 13:59:57 PM - INFO - MainProcess <ipython-input-2-6ea036083e99>:25 - video_for_cnmfe_fit: raw_mc_video\nINFO:root:components_qc_params: {'filter_by_size': False, 'remove_duplicate_components': False}\n2020-04-24 13:59:57 PM - INFO - MainProcess <ipython-input-2-6ea036083e99>:25 - components_qc_params: {'filter_by_size': False, 'remove_duplicate_components': False}\nINFO:root:working_on: normalized\n2020-04-24 13:59:57 PM - INFO - MainProcess <ipython-input-2-6ea036083e99>:25 - working_on: normalized\nINFO:root:spatial_th: 0.1\n2020-04-24 13:59:57 PM - INFO - MainProcess <ipython-input-2-6ea036083e99>:25 - spatial_th: 0.1\nINFO:root:overwrite_traces: False\n2020-04-24 13:59:57 PM - INFO - MainProcess <ipython-input-2-6ea036083e99>:25 - overwrite_traces: False\nINFO:root:rolling_pearson_wnd: 301\n2020-04-24 13:59:57 PM - INFO - MainProcess <ipython-input-2-6ea036083e99>:25 - rolling_pearson_wnd: 301\nINFO:root:Video used for CNMF-E fitting: raw_mc_video: D:\\Dropbox (UCL - SWC)\\Project_vgatPAG\\analysis\\doric\\BF164p2\\19JUN26\\19JUN26_BF164p2_ds126_raw_els_d1_126_d2_126_d3_1_order_C_frames_15800_.mmap\n2020-04-24 13:59:57 PM - INFO - MainProcess <ipython-input-2-6ea036083e99>:27 - Video used for CNMF-E fitting: raw_mc_video: D:\\Dropbox (UCL - SWC)\\Project_vgatPAG\\analysis\\doric\\BF164p2\\19JUN26\\19JUN26_BF164p2_ds126_raw_els_d1_126_d2_126_d3_1_order_C_frames_15800_.mmap\n"
    }
   ],
   "source": [
    "fld = 'D:\\\\Dropbox (UCL - SWC)\\\\Project_vgatPAG\\\\analysis\\\\doric\\\\BF164p2\\\\19JUN26'\n",
    "metadata = load_yaml(os.path.join(fld, \"01_PARAMS\", \"analysis_metadata.yml\"))\n",
    "\n",
    "# Load example vid to get stuff like dims etc video\n",
    "video = os.path.join(fld, metadata[metadata['video_for_cnmfe_fit']])\n",
    "Yr, dims, T, images = load_mmap_video_caiman(video)\n",
    "bg = np.max(images, axis=0)\n",
    "\n",
    "\n",
    "# Load model\n",
    "if metadata['working_on'] == \"raw\":\n",
    "    cnm, model_filepath = load_fit_cnmfe(fld, n_processes, dview, raw=True, curated=True)\n",
    "else:\n",
    "    cnm, model_filepath = load_fit_cnmfe(fld, n_processes, dview, raw=False, curated=True)\n",
    "cnm.estimates.evaluate_components(images, cnm.params, dview=dview)\n",
    "\n",
    "# Start logging\n",
    "fancylog.start_logging(os.path.join(fld, \"02_LOGS\"), package, file_log_level=\"INFO\", variables=[cnm.params], verbose=True,    filename='cnmfe_traces_inspection_logs')\n",
    "logging.info(\"Starting CNMF-E traces inspection\")\n",
    "logging.info(f\"Loading CNMF-E model from: {model_filepath}\")\n",
    "\n",
    "# Add analysis metadata to log\n",
    "logging.info(\"ANALYSIS METADATA FILE:\")\n",
    "for k,v in metadata.items():\n",
    "    logging.info(f\"{k}: {v}\")\n",
    "\n",
    "logging.info(f\"Video used for CNMF-E fitting: {metadata['video_for_cnmfe_fit']}: {video}\")\n"
   ]
  },
  {
   "cell_type": "code",
   "execution_count": 3,
   "metadata": {},
   "outputs": [],
   "source": [
    "# Load videos\n",
    "vids = {\"raw\":\"raw_pw_mc\", \"raw_bg_fiji\":\"raw_pw_mc_fiji_bg\", \"raw_bg_cnmf\":\"raw_pw_mc_cnmf_bg\",\n",
    "        \"normalized\":\"transf_pw_mc\", \"normalized_bg_fiji\":\"transf_pw_mc_fiji_bg\", \"normalized_bg_cnmf\":\"transf_pw_mc_cnmf_bg\"}\n",
    "\n",
    "video = namedtuple(\"video\", \"Yr dims T images bg\") # tuple used to store stuff\n",
    "vids_paths = load_yaml(os.path.join(fld, metadata['outputfld'], \"video_paths.yml\"))\n",
    "\n",
    "videos = {}\n",
    "for vname, v in vids.items():\n",
    "    # Get video data\n",
    "    if 'mmap' in vids_paths[v]:\n",
    "        Yr, dims, T, images = load_mmap_video_caiman(vids_paths[v])\n",
    "    else:\n",
    "        images = load_tiff_video_caiman(vids_paths[v])\n",
    "        Yr, dims, T = None, None, None\n",
    "\n",
    "    # Store in dict\n",
    "    videos[vname] = video(Yr, dims, T, np.array(images), np.max(images, axis=0))\n",
    "\n"
   ]
  },
  {
   "cell_type": "code",
   "execution_count": 4,
   "metadata": {},
   "outputs": [],
   "source": [
    "# Get components from model\n",
    "n_components = cnm.estimates.A.shape[1] #  both good and bad components\n",
    "good_components = cnm.estimates.idx_components\n",
    "bad_components = cnm.estimates.idx_components_bad\n",
    "\n",
    "# Spatial components: in a d1 x d1 x n_components matrix\n",
    "A = np.reshape(cnm.estimates.A.toarray(), list(cnm.estimates.dims)+[-1], order='F') # set of spatial footprints\n",
    "centroids = cnm.estimates.center\n",
    "centroid_colors = [seagreen if n in good_components else darkred\n",
    "                            for n in np.arange(n_components)]\n",
    "\n",
    "# Masks (a d1 x d1 x n_comp array with 1 only where each cell is )\n",
    "masks = np.zeros_like(A)\n",
    "masks[A > metadata['spatial_th']] = 1\n",
    "\n",
    "flat_mask = masks.sum(axis=2) # all masks together\n",
    "flat_mask[flat_mask > 0] = 1\n",
    "\n",
    "\n",
    "# Background stuff \n",
    "W = cnm.estimates.W.toarray() # Ring model matrix\n",
    "b0 = cnm.estimates.b0.reshape(cnm.estimates.dims).T   # constant baseline for each pixel\n",
    "\n",
    "# Temporal components\n",
    "n_frames = cnm.estimates.C.shape[1]\n",
    "C = cnm.estimates.C.T + cnm.estimates.YrA.T# set of temporal traces\n",
    "\n",
    "# Get lengs of indivudal recordings\n",
    "tiff_lengths = np.load(os.path.join(fld, '19JUN26_BF164p2_ds126_ffcSub_tifflengths.npy'))\n"
   ]
  },
  {
   "cell_type": "markdown",
   "metadata": {},
   "source": [
    "For each video we need to extract each component's trace. To do so, we use the component's mask to get the relevant pixels in the video and then we average. This is a bit slow so it's worth doing it for all components at once and saving to file, this way we can just load stuff next time"
   ]
  },
  {
   "cell_type": "code",
   "execution_count": 5,
   "metadata": {},
   "outputs": [
    {
     "output_type": "stream",
     "name": "stderr",
     "text": "INFO:root:Loading traces for video raw from file\n2020-04-24 14:00:10 PM - INFO - MainProcess <ipython-input-5-7a666ffc274a>:26 - Loading traces for video raw from file\nINFO:root:Loading traces for video raw_bg_fiji from file\n2020-04-24 14:00:10 PM - INFO - MainProcess <ipython-input-5-7a666ffc274a>:26 - Loading traces for video raw_bg_fiji from file\nINFO:root:Loading traces for video raw_bg_cnmf from file\n2020-04-24 14:00:10 PM - INFO - MainProcess <ipython-input-5-7a666ffc274a>:26 - Loading traces for video raw_bg_cnmf from file\nINFO:root:Loading traces for video normalized from file\n2020-04-24 14:00:10 PM - INFO - MainProcess <ipython-input-5-7a666ffc274a>:26 - Loading traces for video normalized from file\nINFO:root:Loading traces for video normalized_bg_fiji from file\n2020-04-24 14:00:10 PM - INFO - MainProcess <ipython-input-5-7a666ffc274a>:26 - Loading traces for video normalized_bg_fiji from file\nINFO:root:Loading traces for video normalized_bg_cnmf from file\n2020-04-24 14:00:10 PM - INFO - MainProcess <ipython-input-5-7a666ffc274a>:26 - Loading traces for video normalized_bg_cnmf from file\n"
    }
   ],
   "source": [
    "def get_component_trace_from_video(cnum, masks, n_frames, video):\n",
    "    \"\"\"\n",
    "        Masks the video (d1 x d1 x nframes 3D array) with a components spatial mask\n",
    "        and averages the resulting array to get the signal's trace\n",
    "    \"\"\"\n",
    "    # Create  a mask for the whole video\n",
    "    component_mask = masks[:, :, cnum]\n",
    "    component_video_mask = np.repeat(component_mask[np.newaxis, :,:, ], n_frames, axis=0)\n",
    "    component_video_mask[component_video_mask == 0] = np.nan\n",
    "\n",
    "    # Mask the video and average to extract the trace\n",
    "    masked_video = video * component_video_mask\n",
    "    masked_video = masked_video.reshape((masked_video.shape[0], -1)) # reshape to make averaging easier\n",
    "    trace = np.nanmean(masked_video, axis=1)\n",
    "    return trace\n",
    "\n",
    "\n",
    "# Get the video traces for each component\n",
    "video_traces = {}\n",
    "for vidname, video in videos.items():\n",
    "    if metadata['working_on'] == \"raw\":\n",
    "        savename = os.path.join(fld, vidname+\"_comp_traces_raw.npy\")\n",
    "    else:\n",
    "        savename = os.path.join(fld, vidname+\"_comp_traces.npy\")\n",
    "    if not metadata['overwrite_traces'] and os.path.isfile(savename):\n",
    "        logging.info(f\"Loading traces for video {vidname} from file\")\n",
    "        traces = np.load(savename)\n",
    "    else:\n",
    "        logging.info(f\"Extracting traces for video {vidname} from data\")\n",
    "        traces = np.zeros_like(C)\n",
    "        for compn in tqdm(np.arange(n_components)):\n",
    "            traces[:, compn] = get_component_trace_from_video(compn, masks, n_frames, video.images)\n",
    "        np.save(savename, traces)\n",
    "    \n",
    "    video_traces[vidname] = traces"
   ]
  },
  {
   "cell_type": "markdown",
   "metadata": {},
   "source": [
    "## Visualise stuff"
   ]
  },
  {
   "cell_type": "code",
   "execution_count": 6,
   "metadata": {},
   "outputs": [],
   "source": [
    "def plot_trace(ax1, ax2, x, y, cnmfb, fijibg, col1, col2, col3, label=None, do_subtraction=True):\n",
    "    ax1.plot(x,y, label=label, alpha=0.8, color=col1)\n",
    "    ax1.plot(x, cnmfb, color=col2, lw=1, alpha=.6, zorder=10, label=\"cnmf background\")\n",
    "    ax1.plot(x, fijibg, color=col3, lw=1, alpha=.6, zorder=10, label=\"fiji background\")\n",
    "    ax1.legend()\n",
    "\n",
    "    if do_subtraction:\n",
    "        ax2.plot(x, y-cnmfb, alpha=.6, color=col2, label=\"signal - cnmf bg\")\n",
    "        ax2.plot(x, y-fijibg, alpha=.6, color=col3, label=\"signal - fiji bg\")\n",
    "    else:\n",
    "        ax2.plot(x, y, alpha=.8, color=col1, label=label)\n",
    "    ax2.legend()\n"
   ]
  },
  {
   "cell_type": "code",
   "execution_count": 7,
   "metadata": {},
   "outputs": [
    {
     "output_type": "stream",
     "name": "stderr",
     "text": "WARNING: Attribute Qt::AA_EnableHighDpiScaling must be set before QCoreApplication is created.\nWARNING:vispy:Attribute Qt::AA_EnableHighDpiScaling must be set before QCoreApplication is created.\n2020-04-24 14:00:11 PM - WARNING - MainProcess _qt.py:187 - Attribute Qt::AA_EnableHighDpiScaling must be set before QCoreApplication is created.\n"
    }
   ],
   "source": [
    "def visualize_component(compn):\n",
    "    # Create figure\n",
    "    f, axarr = plt.subplots(ncols=4, nrows=3, figsize=(24, 12), gridspec_kw=dict(width_ratios=[1, 1, 2, 2]))\n",
    "    \n",
    "    if compn in good_components:\n",
    "        f.suptitle(f\"Component {compn} - GOOD\")\n",
    "        cmap=\"Greens_r\"\n",
    "    elif compn in bad_components:\n",
    "        f.suptitle(f\"Component {compn} - BAD\")\n",
    "        cmap=\"Reds_r\"\n",
    "    else:\n",
    "        f.suptitle(f\"Component {compn} - ??\")\n",
    "        cmap=\"Blues_r\"\n",
    "\n",
    "    # Plot images\n",
    "    compimg = axarr[0, 0].imshow(flat_mask, cmap=\"gray\") # All components \n",
    "    modmask = masks[:, :, compn].copy()\n",
    "    modmask[modmask == 0] = np.nan\n",
    "    axarr[0, 0].imshow(modmask, cmap=cmap, vmin=0, vmax=2)\n",
    "\n",
    "    aimg = axarr[0, 1].imshow(masks[:, :, compn]) # This spatial component\n",
    "\n",
    "    bgimg = axarr[1, 0].imshow(videos['raw_bg_fiji'].bg, cmap=\"gray\") # mean frame\n",
    "    bgimg = axarr[1, 1].imshow(videos['raw_bg_cnmf'].bg, cmap=\"gray\") # mean background frame\n",
    "\n",
    "    bgimg = axarr[2, 0].imshow(videos['normalized_bg_fiji'].bg, cmap=\"gray\") # mean frame\n",
    "    bgimg = axarr[2, 1].imshow(videos['normalized_bg_cnmf'].bg, cmap=\"gray\") # mean background frame\n",
    "\n",
    "    # Plot traces\n",
    "    x = np.arange(n_frames)\n",
    "\n",
    "    if metadata['working_on'] == \"raw\":\n",
    "        cnmfe_bg_trace = video_traces['raw_bg_cnmf'][:, compn]\n",
    "        fiji_bg_trace = video_traces['raw_bg_fiji'][:, compn]\n",
    "    else:\n",
    "        cnmfe_bg_trace = video_traces['normalized_bg_cnmf'][:, compn]\n",
    "        fiji_bg_trace = video_traces['normalized_bg_fiji'][:, compn]\n",
    "\n",
    "    # CNMFE signal\n",
    "    plot_trace(axarr[0, 2], axarr[0, 3], x, C[:, compn], cnmfe_bg_trace, fiji_bg_trace, \n",
    "                        salmon, mediumseagreen, indianred,\n",
    "                        label=f\"CNMF-E trace {metadata['working_on']}\", do_subtraction=False)\n",
    "\n",
    "    # RAW video signal\n",
    "    plot_trace(axarr[1, 2], axarr[1, 3], x, video_traces['raw'][:, compn], video_traces['raw_bg_cnmf'][:, compn], \n",
    "                        video_traces['raw_bg_fiji'][:, compn],\n",
    "                        cornflowerblue, mediumseagreen, indianred, \n",
    "                        label=\"RAW trace\")\n",
    "\n",
    "\n",
    "    # Normalized video signal\n",
    "    plot_trace(axarr[2, 2], axarr[2, 3], x, video_traces['normalized'][:, compn], video_traces['normalized_bg_cnmf'][:, compn],\n",
    "                        video_traces['normalized_bg_fiji'][:, compn] ,\n",
    "                        cornflowerblue, mediumseagreen, indianred, \n",
    "                        label=\"Norm trace\")\n",
    "\n",
    "\n",
    "    # Plot start of each inidivual recording\n",
    "    for ax in [axarr[0, 2], axarr[0, 3], axarr[1, 2], axarr[1, 3], axarr[2, 2], axarr[2, 3]]:\n",
    "        for start in tiff_lengths:\n",
    "            ax.axvline(start, lw=2, color=[.6, .6, .6], ls=\"--\", alpha=.8)\n",
    "\n",
    "\n",
    "    # Decorate axes and stuff\n",
    "    axarr[0, 0].set(title=\"All components\")\n",
    "    axarr[0, 0].axis('off')\n",
    "    axarr[0, 1].set(title=\"Spatial component\")\n",
    "    axarr[0, 1].axis('off')\n",
    "    axarr[1, 0].set(title=\"[RAW] background fiji\")\n",
    "    axarr[1, 0].axis('off')\n",
    "    axarr[1, 1].set(title=\"[RAW] background cnmf\")\n",
    "    axarr[1, 1].axis('off')\n",
    "    axarr[2, 0].set(title=\"[Normalized] background fiji\")\n",
    "    axarr[2, 0].axis('off')\n",
    "    axarr[2, 1].set(title=\"[Normalized] background cnmf\")\n",
    "    axarr[2, 1].axis('off')\n",
    "\n",
    "    axarr[0, 2].set(title=\"CNMF-E CRaw trace\", xlabel=\"frames\", ylabel=\"SIGNAL\")\n",
    "    axarr[1, 2].set(title=\"[RAW] trace and background\", xlabel=\"frames\", ylabel=\"SIGNAL\")\n",
    "\n",
    "    axarr[1, 2].tick_params(axis=\"y\", labelcolor=cornflowerblue)\n",
    "    axarr[2, 2].set(title=\"[Normalized] trace and background\", xlabel=\"frames\", ylabel=\"SIGNAL\")\n",
    "    axarr[2, 2].tick_params(axis=\"y\", labelcolor=cornflowerblue)\n",
    "\n",
    "    axarr[1, 3].set(title=\"Background subtracted traces\")\n",
    "\n",
    "    clean_axes(f)\n",
    "    set_figure_subplots_aspect(left=0.01, right=0.99, top=0.9)\n",
    "    return f\n",
    "        \n",
    "_ = visualize_component(0)"
   ]
  },
  {
   "cell_type": "markdown",
   "metadata": {},
   "source": [
    "Save a summary image for each component"
   ]
  },
  {
   "cell_type": "code",
   "execution_count": null,
   "metadata": {},
   "outputs": [],
   "source": [
    "# save a figure for each component\n",
    "if metadata['working_on'] == 'raw':\n",
    "    save_fld = os.path.join(fld, \"cnmfe_components_raw\")\n",
    "else:\n",
    "    save_fld = os.path.join(fld, \"cnmfe_components\")\n",
    "check_create_folder(save_fld)\n",
    "\n",
    "\n",
    "\n",
    "plt.ioff()\n",
    "for compn in tqdm(np.arange(n_components)):\n",
    "    savename = os.path.join(save_fld, f\"component_{compn}\")\n",
    "    f = visualize_component(compn)\n",
    "    save_figure(f, savename, verbose=False)\n",
    "    plt.close(f)\n",
    "\n",
    "plt.ion()"
   ]
  },
  {
   "cell_type": "markdown",
   "metadata": {},
   "source": [
    "Save an image with the masks of all components"
   ]
  },
  {
   "cell_type": "code",
   "execution_count": 8,
   "metadata": {},
   "outputs": [
    {
     "output_type": "stream",
     "name": "stderr",
     "text": "WARNING: Attribute Qt::AA_EnableHighDpiScaling must be set before QCoreApplication is created.\nWARNING:vispy:Attribute Qt::AA_EnableHighDpiScaling must be set before QCoreApplication is created.\n2020-04-24 14:00:29 PM - WARNING - MainProcess _qt.py:187 - Attribute Qt::AA_EnableHighDpiScaling must be set before QCoreApplication is created.\n"
    }
   ],
   "source": [
    "f, ax = plt.subplots(figsize=(12, 12))\n",
    "\n",
    "f.suptitle(f\"Components of CNFM-E fitted on {metadata['working_on']}\")\n",
    "\n",
    "compimg = ax.imshow(flat_mask, cmap=\"gray\")\n",
    "\n",
    "for compn in np.arange(n_components):\n",
    "    if compn in good_components:\n",
    "        cmap = \"Greens_r\"\n",
    "    else:\n",
    "        cmap = \"Reds_r\"\n",
    "\n",
    "    modmask = masks[:, :, compn].copy()\n",
    "    modmask[modmask == 0] = np.nan\n",
    "    ax.imshow(modmask, cmap=cmap, vmin=0, vmax=2)\n",
    "\n",
    "ax.set(xticks=[], yticks=[])\n",
    "\n",
    "\n",
    "if metadata['working_on'] == 'raw':\n",
    "    save_fld = os.path.join(fld, \"cnmfe_components_raw\")\n",
    "else:\n",
    "    save_fld = os.path.join(fld, \"cnmfe_components\")\n",
    "save_figure(f, os.path.join(save_fld, f\"all_masks\"), verbose=False)"
   ]
  },
  {
   "cell_type": "code",
   "execution_count": 9,
   "metadata": {},
   "outputs": [],
   "source": [
    "### Testing stuff"
   ]
  },
  {
   "cell_type": "code",
   "execution_count": 12,
   "metadata": {},
   "outputs": [
    {
     "output_type": "stream",
     "name": "stderr",
     "text": "INFO:root:Changing key caiman_version in group data from 1.8.5 to 1.5.2\n2020-04-24 14:44:27 PM - INFO - MainProcess params.py:962 - Changing key caiman_version in group data from 1.8.5 to 1.5.2\nINFO:root:Changing key decay_time in group data from 0.4 to 2.0\n2020-04-24 14:44:27 PM - INFO - MainProcess params.py:962 - Changing key decay_time in group data from 0.4 to 2.0\nINFO:root:Changing key dims in group data from None to (126, 126)\n2020-04-24 14:44:27 PM - INFO - MainProcess params.py:962 - Changing key dims in group data from None to (126, 126)\nINFO:root:Changing key fnames in group data from None to [b'/Users/dom/Dropbox (UCL - SWC)/P']\n2020-04-24 14:44:27 PM - INFO - MainProcess params.py:962 - Changing key fnames in group data from None to [b'/Users/dom/Dropbox (UCL - SWC)/P']\nINFO:root:Changing key fr in group data from 30 to 10.0\n2020-04-24 14:44:27 PM - INFO - MainProcess params.py:962 - Changing key fr in group data from 30 to 10.0\nINFO:root:Changing key last_commit in group data from GITW-c7b0e20cb72b11dcadb027a58eb50c0edfbdefbf to fcfc6424e27d056dafa93531889d9d1d3d7ebb7f\n2020-04-24 14:44:27 PM - INFO - MainProcess params.py:962 - Changing key last_commit in group data from GITW-c7b0e20cb72b11dcadb027a58eb50c0edfbdefbf to fcfc6424e27d056dafa93531889d9d1d3d7ebb7f\nINFO:root:Changing key K in group init from 30 to 20\n2020-04-24 14:44:27 PM - INFO - MainProcess params.py:962 - Changing key K in group init from 30 to 20\nINFO:root:Changing key center_psf in group init from False to True\n2020-04-24 14:44:27 PM - INFO - MainProcess params.py:962 - Changing key center_psf in group init from False to True\nINFO:root:Changing key gSig in group init from [5, 5] to [2.5 2.5]\n2020-04-24 14:44:27 PM - INFO - MainProcess params.py:962 - Changing key gSig in group init from [5, 5] to [2.5 2.5]\nINFO:root:Changing key gSiz in group init from (11, 11) to [10 10]\n2020-04-24 14:44:27 PM - INFO - MainProcess params.py:962 - Changing key gSiz in group init from (11, 11) to [10 10]\nINFO:root:Changing key method_init in group init from greedy_roi to corr_pnr\n2020-04-24 14:44:27 PM - INFO - MainProcess params.py:962 - Changing key method_init in group init from greedy_roi to corr_pnr\nINFO:root:Changing key min_corr in group init from 0.85 to 0.8\n2020-04-24 14:44:27 PM - INFO - MainProcess params.py:962 - Changing key min_corr in group init from 0.85 to 0.8\nINFO:root:Changing key min_pnr in group init from 20 to 6\n2020-04-24 14:44:27 PM - INFO - MainProcess params.py:962 - Changing key min_pnr in group init from 20 to 6\nINFO:root:Changing key nb in group init from 1 to 0\n2020-04-24 14:44:27 PM - INFO - MainProcess params.py:962 - Changing key nb in group init from 1 to 0\nINFO:root:Changing key normalize_init in group init from True to False\n2020-04-24 14:44:27 PM - INFO - MainProcess params.py:962 - Changing key normalize_init in group init from True to False\nINFO:root:Changing key ring_size_factor in group init from 1.5 to 1.4\n2020-04-24 14:44:27 PM - INFO - MainProcess params.py:962 - Changing key ring_size_factor in group init from 1.5 to 1.4\nINFO:root:Changing key ssub in group init from 2 to 1\n2020-04-24 14:44:27 PM - INFO - MainProcess params.py:962 - Changing key ssub in group init from 2 to 1\nINFO:root:Changing key gSig_filt in group motion from None to [3 3]\n2020-04-24 14:44:27 PM - INFO - MainProcess params.py:962 - Changing key gSig_filt in group motion from None to [3 3]\nINFO:root:Changing key max_deviation_rigid in group motion from 3 to 7\n2020-04-24 14:44:27 PM - INFO - MainProcess params.py:962 - Changing key max_deviation_rigid in group motion from 3 to 7\nINFO:root:Changing key max_shifts in group motion from (6, 6) to (25, 25)\n2020-04-24 14:44:27 PM - INFO - MainProcess params.py:962 - Changing key max_shifts in group motion from (6, 6) to (25, 25)\nINFO:root:Changing key num_frames_split in group motion from 80 to 100\n2020-04-24 14:44:27 PM - INFO - MainProcess params.py:962 - Changing key num_frames_split in group motion from 80 to 100\nINFO:root:Changing key num_splits_to_process_els in group motion from None to [b'7' b'None']\n2020-04-24 14:44:27 PM - INFO - MainProcess params.py:962 - Changing key num_splits_to_process_els in group motion from None to [b'7' b'None']\nINFO:root:Changing key overlaps in group motion from (32, 32) to (11, 11)\n2020-04-24 14:44:27 PM - INFO - MainProcess params.py:962 - Changing key overlaps in group motion from (32, 32) to (11, 11)\nINFO:root:Changing key splits_els in group motion from 14 to 158\n2020-04-24 14:44:27 PM - INFO - MainProcess params.py:962 - Changing key splits_els in group motion from 14 to 158\nINFO:root:Changing key splits_rig in group motion from 14 to 158\n2020-04-24 14:44:27 PM - INFO - MainProcess params.py:962 - Changing key splits_rig in group motion from 14 to 158\nINFO:root:Changing key strides in group motion from (96, 96) to (25, 25)\n2020-04-24 14:44:27 PM - INFO - MainProcess params.py:962 - Changing key strides in group motion from (96, 96) to (25, 25)\nINFO:root:Changing key N_samples_exceptionality in group online from 12 to 20\n2020-04-24 14:44:27 PM - INFO - MainProcess params.py:962 - Changing key N_samples_exceptionality in group online from 12 to 20\nINFO:root:Changing key init_batch in group online from 200 to 15800\n2020-04-24 14:44:27 PM - INFO - MainProcess params.py:962 - Changing key init_batch in group online from 200 to 15800\nINFO:root:Changing key movie_name_online in group online from online_movie.mp4 to /Users/dom/Dropbox (UCL - SWC)/Project_vgatPAG (1)/analysis/doric/BF164p2/19JUN26/online_movie.avi\n2020-04-24 14:44:27 PM - INFO - MainProcess params.py:962 - Changing key movie_name_online in group online from online_movie.mp4 to /Users/dom/Dropbox (UCL - SWC)/Project_vgatPAG (1)/analysis/doric/BF164p2/19JUN26/online_movie.avi\nINFO:root:Changing key path_to_model in group online from C:\\Users\\Federico\\caiman_data\\model\\cnn_model_online.h5 to /Users/dom/caiman_data/model/cnn_model_online.h5\n2020-04-24 14:44:27 PM - INFO - MainProcess params.py:962 - Changing key path_to_model in group online from C:\\Users\\Federico\\caiman_data\\model\\cnn_model_online.h5 to /Users/dom/caiman_data/model/cnn_model_online.h5\nINFO:root:Changing key thresh_fitness_raw in group online from -60.97977932734429 to -101.63296554557382\n2020-04-24 14:44:27 PM - INFO - MainProcess params.py:962 - Changing key thresh_fitness_raw in group online from -60.97977932734429 to -101.63296554557382\nINFO:root:Changing key del_duplicates in group patch from False to True\n2020-04-24 14:44:27 PM - INFO - MainProcess params.py:962 - Changing key del_duplicates in group patch from False to True\nINFO:root:Changing key low_rank_background in group patch from True to None\n2020-04-24 14:44:27 PM - INFO - MainProcess params.py:962 - Changing key low_rank_background in group patch from True to None\nINFO:root:Changing key n_processes in group patch from 1 to 12\n2020-04-24 14:44:27 PM - INFO - MainProcess params.py:962 - Changing key n_processes in group patch from 1 to 12\nINFO:root:Changing key nb_patch in group patch from 1 to 0\n2020-04-24 14:44:27 PM - INFO - MainProcess params.py:962 - Changing key nb_patch in group patch from 1 to 0\nINFO:root:Changing key rf in group patch from None to 30\n2020-04-24 14:44:27 PM - INFO - MainProcess params.py:962 - Changing key rf in group patch from None to 30\nINFO:root:Changing key stride in group patch from None to 20\n2020-04-24 14:44:27 PM - INFO - MainProcess params.py:962 - Changing key stride in group patch from None to 20\nINFO:root:Changing key n_pixels_per_process in group preprocess from None to 1323\n2020-04-24 14:44:27 PM - INFO - MainProcess params.py:962 - Changing key n_pixels_per_process in group preprocess from None to 1323\nINFO:root:Changing key p in group preprocess from 2 to 1\n2020-04-24 14:44:27 PM - INFO - MainProcess params.py:962 - Changing key p in group preprocess from 2 to 1\nINFO:root:Changing key min_SNR in group quality from 2.5 to 2\n2020-04-24 14:44:27 PM - INFO - MainProcess params.py:962 - Changing key min_SNR in group quality from 2.5 to 2\nINFO:root:Changing key use_cnn in group quality from True to False\n2020-04-24 14:44:27 PM - INFO - MainProcess params.py:962 - Changing key use_cnn in group quality from True to False\nINFO:root:Changing key medw in group spatial from None to (3, 3)\n2020-04-24 14:44:27 PM - INFO - MainProcess params.py:962 - Changing key medw in group spatial from None to (3, 3)\nINFO:root:Changing key n_pixels_per_process in group spatial from None to 1323\n2020-04-24 14:44:27 PM - INFO - MainProcess params.py:962 - Changing key n_pixels_per_process in group spatial from None to 1323\nINFO:root:Changing key nb in group spatial from 1 to 0\n2020-04-24 14:44:27 PM - INFO - MainProcess params.py:962 - Changing key nb in group spatial from 1 to 0\nINFO:root:Changing key nb in group temporal from 1 to 0\n2020-04-24 14:44:27 PM - INFO - MainProcess params.py:962 - Changing key nb in group temporal from 1 to 0\nINFO:root:Changing key p in group temporal from 2 to 1\n2020-04-24 14:44:27 PM - INFO - MainProcess params.py:962 - Changing key p in group temporal from 2 to 1\nINFO:root:Changing key solvers in group temporal from ['ECOS', 'SCS'] to [b'ECOS' b'SCS']\n2020-04-24 14:44:27 PM - INFO - MainProcess params.py:962 - Changing key solvers in group temporal from ['ECOS', 'SCS'] to [b'ECOS' b'SCS']\n"
    }
   ],
   "source": [
    "from caiman.source_extraction.cnmf.cnmf import load_CNMF\n",
    "\n",
    "doms_model = load_CNMF(os.path.join(fld, \"19JUN26_BF164p2_ds126_ffcSub_cnm.hdf5\"),  n_processes=n_processes, dview=dview)"
   ]
  },
  {
   "cell_type": "code",
   "execution_count": 14,
   "metadata": {},
   "outputs": [],
   "source": [
    "doms_model.estimates.coordinates = cm.utils.visualization.get_contours(doms_model.estimates.A, bg.shape, thr=.2, thr_method=\"max\")"
   ]
  },
  {
   "cell_type": "code",
   "execution_count": 18,
   "metadata": {},
   "outputs": [
    {
     "output_type": "execute_result",
     "data": {
      "text/plain": "<matplotlib.image.AxesImage at 0x17fbd105710>"
     },
     "metadata": {},
     "execution_count": 18
    }
   ],
   "source": [
    "dom_A = np.reshape(doms_model.estimates.A.toarray(), list(doms_model.estimates.dims)+[-1], order='F') # set of spatial footprints\n",
    "\n",
    "\n",
    "# Masks (a d1 x d1 x n_comp array with 1 only where each cell is )\n",
    "dom_masks = np.zeros_like(dom_A)\n",
    "dom_masks[dom_A > metadata['spatial_th']] = 1\n",
    "\n",
    "dom_flat_mask = dom_masks.sum(axis=2) # all masks together\n",
    "dom_flat_mask[dom_flat_mask > 0] = 1\n",
    "\n"
   ]
  },
  {
   "cell_type": "code",
   "execution_count": 23,
   "metadata": {},
   "outputs": [
    {
     "output_type": "stream",
     "name": "stderr",
     "text": "WARNING: Attribute Qt::AA_EnableHighDpiScaling must be set before QCoreApplication is created.\nWARNING:vispy:Attribute Qt::AA_EnableHighDpiScaling must be set before QCoreApplication is created.\n2020-04-24 14:47:57 PM - WARNING - MainProcess _qt.py:187 - Attribute Qt::AA_EnableHighDpiScaling must be set before QCoreApplication is created.\n"
    },
    {
     "output_type": "execute_result",
     "data": {
      "text/plain": "<matplotlib.image.AxesImage at 0x17fc1f796a0>"
     },
     "metadata": {},
     "execution_count": 23
    }
   ],
   "source": [
    "plt.ion()\n",
    "\n",
    "f, ax = plt.subplots()\n",
    "ax.imshow(dom_flat_mask, cmap=\"gray\")"
   ]
  },
  {
   "cell_type": "code",
   "execution_count": null,
   "metadata": {},
   "outputs": [],
   "source": []
  }
 ],
 "metadata": {
  "file_extension": ".py",
  "kernelspec": {
   "display_name": "Python 3.6.10 64-bit ('cai': conda)",
   "language": "python",
   "name": "python361064bitcaiconda8c51914467a4460685b7f212a4ce3dd5"
  },
  "language_info": {
   "codemirror_mode": {
    "name": "ipython",
    "version": 3
   },
   "file_extension": ".py",
   "mimetype": "text/x-python",
   "name": "python",
   "nbconvert_exporter": "python",
   "pygments_lexer": "ipython3",
   "version": "3.6.4-final"
  },
  "mimetype": "text/x-python",
  "name": "python",
  "npconvert_exporter": "python",
  "pygments_lexer": "ipython3",
  "version": 3
 },
 "nbformat": 4,
 "nbformat_minor": 2
}